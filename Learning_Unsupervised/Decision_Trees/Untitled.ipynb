{
 "cells": [
  {
   "cell_type": "code",
   "execution_count": 1,
   "id": "b33bd14b-4cf3-4a52-ad2e-083fe8801a08",
   "metadata": {},
   "outputs": [],
   "source": [
    "import numpy as np\n",
    "import pandas as pd\n",
    "import matplotlib.pyplot as plt\n",
    "import seaborn as sns"
   ]
  },
  {
   "cell_type": "code",
   "execution_count": 2,
   "id": "05cc0f9f-dda9-4773-8f8d-9567082089fa",
   "metadata": {},
   "outputs": [],
   "source": [
    "data = pd.read_csv(\"Threats (1).csv\")\n",
    "data=data.drop([\"Unnamed: 0\",\"id\",\"label\",\"attack_cat\"], axis=1)\n",
    "y = pd.read_csv(\"Threats (1).csv\", usecols=[\"attack_cat\"])"
   ]
  },
  {
   "cell_type": "code",
   "execution_count": 3,
   "id": "55492ae3-bf8b-445b-b294-77f2121a5c28",
   "metadata": {},
   "outputs": [
    {
     "data": {
      "text/html": [
       "<div>\n",
       "<style scoped>\n",
       "    .dataframe tbody tr th:only-of-type {\n",
       "        vertical-align: middle;\n",
       "    }\n",
       "\n",
       "    .dataframe tbody tr th {\n",
       "        vertical-align: top;\n",
       "    }\n",
       "\n",
       "    .dataframe thead th {\n",
       "        text-align: right;\n",
       "    }\n",
       "</style>\n",
       "<table border=\"1\" class=\"dataframe\">\n",
       "  <thead>\n",
       "    <tr style=\"text-align: right;\">\n",
       "      <th></th>\n",
       "      <th>dur</th>\n",
       "      <th>proto</th>\n",
       "      <th>service</th>\n",
       "      <th>state</th>\n",
       "      <th>spkts</th>\n",
       "      <th>dpkts</th>\n",
       "      <th>sbytes</th>\n",
       "      <th>dbytes</th>\n",
       "      <th>rate</th>\n",
       "      <th>sttl</th>\n",
       "      <th>...</th>\n",
       "      <th>ct_dst_ltm</th>\n",
       "      <th>ct_src_dport_ltm</th>\n",
       "      <th>ct_dst_sport_ltm</th>\n",
       "      <th>ct_dst_src_ltm</th>\n",
       "      <th>is_ftp_login</th>\n",
       "      <th>ct_ftp_cmd</th>\n",
       "      <th>ct_flw_http_mthd</th>\n",
       "      <th>ct_src_ltm</th>\n",
       "      <th>ct_srv_dst</th>\n",
       "      <th>is_sm_ips_ports</th>\n",
       "    </tr>\n",
       "  </thead>\n",
       "  <tbody>\n",
       "    <tr>\n",
       "      <th>0</th>\n",
       "      <td>0.012996</td>\n",
       "      <td>tcp</td>\n",
       "      <td>-</td>\n",
       "      <td>FIN</td>\n",
       "      <td>16</td>\n",
       "      <td>18</td>\n",
       "      <td>1540</td>\n",
       "      <td>1644</td>\n",
       "      <td>2539.242797</td>\n",
       "      <td>31</td>\n",
       "      <td>...</td>\n",
       "      <td>6</td>\n",
       "      <td>2</td>\n",
       "      <td>1</td>\n",
       "      <td>6</td>\n",
       "      <td>0</td>\n",
       "      <td>0</td>\n",
       "      <td>0</td>\n",
       "      <td>5</td>\n",
       "      <td>7</td>\n",
       "      <td>0</td>\n",
       "    </tr>\n",
       "    <tr>\n",
       "      <th>1</th>\n",
       "      <td>0.004119</td>\n",
       "      <td>tcp</td>\n",
       "      <td>-</td>\n",
       "      <td>FIN</td>\n",
       "      <td>12</td>\n",
       "      <td>12</td>\n",
       "      <td>1064</td>\n",
       "      <td>2260</td>\n",
       "      <td>5583.879675</td>\n",
       "      <td>31</td>\n",
       "      <td>...</td>\n",
       "      <td>2</td>\n",
       "      <td>1</td>\n",
       "      <td>1</td>\n",
       "      <td>1</td>\n",
       "      <td>0</td>\n",
       "      <td>0</td>\n",
       "      <td>0</td>\n",
       "      <td>3</td>\n",
       "      <td>8</td>\n",
       "      <td>0</td>\n",
       "    </tr>\n",
       "    <tr>\n",
       "      <th>2</th>\n",
       "      <td>0.000988</td>\n",
       "      <td>udp</td>\n",
       "      <td>dns</td>\n",
       "      <td>CON</td>\n",
       "      <td>2</td>\n",
       "      <td>2</td>\n",
       "      <td>146</td>\n",
       "      <td>178</td>\n",
       "      <td>3036.437382</td>\n",
       "      <td>31</td>\n",
       "      <td>...</td>\n",
       "      <td>3</td>\n",
       "      <td>2</td>\n",
       "      <td>1</td>\n",
       "      <td>2</td>\n",
       "      <td>0</td>\n",
       "      <td>0</td>\n",
       "      <td>0</td>\n",
       "      <td>7</td>\n",
       "      <td>2</td>\n",
       "      <td>0</td>\n",
       "    </tr>\n",
       "    <tr>\n",
       "      <th>3</th>\n",
       "      <td>3.415787</td>\n",
       "      <td>tcp</td>\n",
       "      <td>ssh</td>\n",
       "      <td>FIN</td>\n",
       "      <td>230</td>\n",
       "      <td>238</td>\n",
       "      <td>24344</td>\n",
       "      <td>29556</td>\n",
       "      <td>136.718127</td>\n",
       "      <td>31</td>\n",
       "      <td>...</td>\n",
       "      <td>4</td>\n",
       "      <td>1</td>\n",
       "      <td>1</td>\n",
       "      <td>1</td>\n",
       "      <td>0</td>\n",
       "      <td>0</td>\n",
       "      <td>0</td>\n",
       "      <td>4</td>\n",
       "      <td>1</td>\n",
       "      <td>0</td>\n",
       "    </tr>\n",
       "    <tr>\n",
       "      <th>4</th>\n",
       "      <td>0.193943</td>\n",
       "      <td>tcp</td>\n",
       "      <td>-</td>\n",
       "      <td>FIN</td>\n",
       "      <td>72</td>\n",
       "      <td>74</td>\n",
       "      <td>4238</td>\n",
       "      <td>63618</td>\n",
       "      <td>747.642372</td>\n",
       "      <td>31</td>\n",
       "      <td>...</td>\n",
       "      <td>6</td>\n",
       "      <td>1</td>\n",
       "      <td>1</td>\n",
       "      <td>5</td>\n",
       "      <td>0</td>\n",
       "      <td>0</td>\n",
       "      <td>0</td>\n",
       "      <td>6</td>\n",
       "      <td>12</td>\n",
       "      <td>0</td>\n",
       "    </tr>\n",
       "    <tr>\n",
       "      <th>...</th>\n",
       "      <td>...</td>\n",
       "      <td>...</td>\n",
       "      <td>...</td>\n",
       "      <td>...</td>\n",
       "      <td>...</td>\n",
       "      <td>...</td>\n",
       "      <td>...</td>\n",
       "      <td>...</td>\n",
       "      <td>...</td>\n",
       "      <td>...</td>\n",
       "      <td>...</td>\n",
       "      <td>...</td>\n",
       "      <td>...</td>\n",
       "      <td>...</td>\n",
       "      <td>...</td>\n",
       "      <td>...</td>\n",
       "      <td>...</td>\n",
       "      <td>...</td>\n",
       "      <td>...</td>\n",
       "      <td>...</td>\n",
       "      <td>...</td>\n",
       "    </tr>\n",
       "    <tr>\n",
       "      <th>135336</th>\n",
       "      <td>0.000009</td>\n",
       "      <td>udp</td>\n",
       "      <td>dns</td>\n",
       "      <td>INT</td>\n",
       "      <td>2</td>\n",
       "      <td>0</td>\n",
       "      <td>114</td>\n",
       "      <td>0</td>\n",
       "      <td>111111.107200</td>\n",
       "      <td>254</td>\n",
       "      <td>...</td>\n",
       "      <td>24</td>\n",
       "      <td>24</td>\n",
       "      <td>13</td>\n",
       "      <td>24</td>\n",
       "      <td>0</td>\n",
       "      <td>0</td>\n",
       "      <td>0</td>\n",
       "      <td>24</td>\n",
       "      <td>24</td>\n",
       "      <td>0</td>\n",
       "    </tr>\n",
       "    <tr>\n",
       "      <th>135337</th>\n",
       "      <td>0.505762</td>\n",
       "      <td>tcp</td>\n",
       "      <td>-</td>\n",
       "      <td>FIN</td>\n",
       "      <td>10</td>\n",
       "      <td>8</td>\n",
       "      <td>620</td>\n",
       "      <td>354</td>\n",
       "      <td>33.612649</td>\n",
       "      <td>254</td>\n",
       "      <td>...</td>\n",
       "      <td>1</td>\n",
       "      <td>1</td>\n",
       "      <td>1</td>\n",
       "      <td>2</td>\n",
       "      <td>0</td>\n",
       "      <td>0</td>\n",
       "      <td>0</td>\n",
       "      <td>1</td>\n",
       "      <td>1</td>\n",
       "      <td>0</td>\n",
       "    </tr>\n",
       "    <tr>\n",
       "      <th>135338</th>\n",
       "      <td>0.000009</td>\n",
       "      <td>udp</td>\n",
       "      <td>dns</td>\n",
       "      <td>INT</td>\n",
       "      <td>2</td>\n",
       "      <td>0</td>\n",
       "      <td>114</td>\n",
       "      <td>0</td>\n",
       "      <td>111111.107200</td>\n",
       "      <td>254</td>\n",
       "      <td>...</td>\n",
       "      <td>3</td>\n",
       "      <td>3</td>\n",
       "      <td>3</td>\n",
       "      <td>13</td>\n",
       "      <td>0</td>\n",
       "      <td>0</td>\n",
       "      <td>0</td>\n",
       "      <td>3</td>\n",
       "      <td>12</td>\n",
       "      <td>0</td>\n",
       "    </tr>\n",
       "    <tr>\n",
       "      <th>135339</th>\n",
       "      <td>0.000009</td>\n",
       "      <td>udp</td>\n",
       "      <td>dns</td>\n",
       "      <td>INT</td>\n",
       "      <td>2</td>\n",
       "      <td>0</td>\n",
       "      <td>114</td>\n",
       "      <td>0</td>\n",
       "      <td>111111.107200</td>\n",
       "      <td>254</td>\n",
       "      <td>...</td>\n",
       "      <td>30</td>\n",
       "      <td>30</td>\n",
       "      <td>14</td>\n",
       "      <td>30</td>\n",
       "      <td>0</td>\n",
       "      <td>0</td>\n",
       "      <td>0</td>\n",
       "      <td>30</td>\n",
       "      <td>30</td>\n",
       "      <td>0</td>\n",
       "    </tr>\n",
       "    <tr>\n",
       "      <th>135340</th>\n",
       "      <td>0.000009</td>\n",
       "      <td>udp</td>\n",
       "      <td>dns</td>\n",
       "      <td>INT</td>\n",
       "      <td>2</td>\n",
       "      <td>0</td>\n",
       "      <td>114</td>\n",
       "      <td>0</td>\n",
       "      <td>111111.107200</td>\n",
       "      <td>254</td>\n",
       "      <td>...</td>\n",
       "      <td>30</td>\n",
       "      <td>30</td>\n",
       "      <td>16</td>\n",
       "      <td>30</td>\n",
       "      <td>0</td>\n",
       "      <td>0</td>\n",
       "      <td>0</td>\n",
       "      <td>30</td>\n",
       "      <td>30</td>\n",
       "      <td>0</td>\n",
       "    </tr>\n",
       "  </tbody>\n",
       "</table>\n",
       "<p>135341 rows × 42 columns</p>\n",
       "</div>"
      ],
      "text/plain": [
       "             dur proto service state  spkts  dpkts  sbytes  dbytes  \\\n",
       "0       0.012996   tcp       -   FIN     16     18    1540    1644   \n",
       "1       0.004119   tcp       -   FIN     12     12    1064    2260   \n",
       "2       0.000988   udp     dns   CON      2      2     146     178   \n",
       "3       3.415787   tcp     ssh   FIN    230    238   24344   29556   \n",
       "4       0.193943   tcp       -   FIN     72     74    4238   63618   \n",
       "...          ...   ...     ...   ...    ...    ...     ...     ...   \n",
       "135336  0.000009   udp     dns   INT      2      0     114       0   \n",
       "135337  0.505762   tcp       -   FIN     10      8     620     354   \n",
       "135338  0.000009   udp     dns   INT      2      0     114       0   \n",
       "135339  0.000009   udp     dns   INT      2      0     114       0   \n",
       "135340  0.000009   udp     dns   INT      2      0     114       0   \n",
       "\n",
       "                 rate  sttl  ...  ct_dst_ltm  ct_src_dport_ltm  \\\n",
       "0         2539.242797    31  ...           6                 2   \n",
       "1         5583.879675    31  ...           2                 1   \n",
       "2         3036.437382    31  ...           3                 2   \n",
       "3          136.718127    31  ...           4                 1   \n",
       "4          747.642372    31  ...           6                 1   \n",
       "...               ...   ...  ...         ...               ...   \n",
       "135336  111111.107200   254  ...          24                24   \n",
       "135337      33.612649   254  ...           1                 1   \n",
       "135338  111111.107200   254  ...           3                 3   \n",
       "135339  111111.107200   254  ...          30                30   \n",
       "135340  111111.107200   254  ...          30                30   \n",
       "\n",
       "        ct_dst_sport_ltm  ct_dst_src_ltm  is_ftp_login  ct_ftp_cmd  \\\n",
       "0                      1               6             0           0   \n",
       "1                      1               1             0           0   \n",
       "2                      1               2             0           0   \n",
       "3                      1               1             0           0   \n",
       "4                      1               5             0           0   \n",
       "...                  ...             ...           ...         ...   \n",
       "135336                13              24             0           0   \n",
       "135337                 1               2             0           0   \n",
       "135338                 3              13             0           0   \n",
       "135339                14              30             0           0   \n",
       "135340                16              30             0           0   \n",
       "\n",
       "        ct_flw_http_mthd  ct_src_ltm  ct_srv_dst  is_sm_ips_ports  \n",
       "0                      0           5           7                0  \n",
       "1                      0           3           8                0  \n",
       "2                      0           7           2                0  \n",
       "3                      0           4           1                0  \n",
       "4                      0           6          12                0  \n",
       "...                  ...         ...         ...              ...  \n",
       "135336                 0          24          24                0  \n",
       "135337                 0           1           1                0  \n",
       "135338                 0           3          12                0  \n",
       "135339                 0          30          30                0  \n",
       "135340                 0          30          30                0  \n",
       "\n",
       "[135341 rows x 42 columns]"
      ]
     },
     "execution_count": 3,
     "metadata": {},
     "output_type": "execute_result"
    }
   ],
   "source": [
    "data"
   ]
  },
  {
   "cell_type": "code",
   "execution_count": 4,
   "id": "fb948d36-65bb-41b8-a553-0772c789c77c",
   "metadata": {},
   "outputs": [
    {
     "data": {
      "text/plain": [
       "(135341, 42)"
      ]
     },
     "execution_count": 4,
     "metadata": {},
     "output_type": "execute_result"
    }
   ],
   "source": [
    "data.shape"
   ]
  },
  {
   "cell_type": "code",
   "execution_count": 5,
   "id": "f8d75612-010b-436f-bb8b-8502396a2612",
   "metadata": {},
   "outputs": [],
   "source": [
    "data = pd.get_dummies(data, columns=['proto','service','state'])"
   ]
  },
  {
   "cell_type": "code",
   "execution_count": 6,
   "id": "c934bc4f-d6fd-463f-a80a-f6162ff712a0",
   "metadata": {},
   "outputs": [
    {
     "name": "stdout",
     "output_type": "stream",
     "text": [
      "(135341, 188)\n"
     ]
    }
   ],
   "source": [
    "print(data.shape)"
   ]
  },
  {
   "cell_type": "code",
   "execution_count": 7,
   "id": "c7c6a2d3-91db-476d-a904-c2664df4d1b4",
   "metadata": {},
   "outputs": [],
   "source": [
    "attack_map = {\n",
    "    \"Normal\": 0,\n",
    "    \"Backdoor\" : 1,\n",
    "    \"Analysis\" : 2,\n",
    "    \"Fuzzers\" : 3,\n",
    "    \"Shellcode\" : 4,\n",
    "    \"Reconnaissance\" : 5,\n",
    "    \"Exploits\" : 6,\n",
    "    \"DoS\" : 7,\n",
    "    \"Worms\" : 8,\n",
    "    \"Generic\" : 9}\n",
    "\n",
    "y['attack_cat'] = y['attack_cat'].map(attack_map)"
   ]
  },
  {
   "cell_type": "code",
   "execution_count": 8,
   "id": "79e2d862-8a60-497c-ad79-f6b41a12189e",
   "metadata": {},
   "outputs": [
    {
     "name": "stdout",
     "output_type": "stream",
     "text": [
      "0\n",
      "attack_cat    0\n",
      "dtype: int64\n"
     ]
    }
   ],
   "source": [
    "#Checking for NaN values\n",
    "print(data.isna().sum().sum())\n",
    "print(y.isna().sum())"
   ]
  },
  {
   "cell_type": "code",
   "execution_count": 9,
   "id": "2154521d-5a74-413d-b41e-01a987d78648",
   "metadata": {},
   "outputs": [],
   "source": [
    "from sklearn.model_selection import train_test_split\n",
    "\n",
    "# First split: 80% train+val, 20% test\n",
    "X_temp, X_test, y_temp, y_test = train_test_split(\n",
    "    data, y,\n",
    "    test_size=0.2,\n",
    "    stratify=y,\n",
    "    random_state=42\n",
    ")\n",
    "\n",
    "# Second split: from 80%, get 75% train and 25% val → 60/20 overall\n",
    "X_train, X_val, y_train, y_val = train_test_split(\n",
    "    X_temp, y_temp,\n",
    "    test_size=0.25,  \n",
    "    stratify=y_temp,\n",
    "    random_state=42\n",
    ")\n"
   ]
  },
  {
   "cell_type": "code",
   "execution_count": 10,
   "id": "0e351f6b-a1d5-4a03-a9f5-135e71f74805",
   "metadata": {},
   "outputs": [],
   "source": [
    "X_train = X_train.to_numpy()\n",
    "y_train = y_train.to_numpy().flatten()"
   ]
  },
  {
   "cell_type": "code",
   "execution_count": 11,
   "id": "23634352-fe8a-48c0-ad8c-04ea4ff84c5d",
   "metadata": {},
   "outputs": [],
   "source": [
    "def entropy(y):\n",
    "    if len(y) == 0:\n",
    "        return 0\n",
    "    \n",
    "    values, counts = np.unique(y, return_counts=True)\n",
    "    probabilities = counts / counts.sum()\n",
    "    \n",
    "    return -np.sum(probabilities * np.log2(probabilities))\n",
    "\n",
    "def information_gain_entropy(y, y_left, y_right):\n",
    "    p = len(y_left) / len(y)\n",
    "    return entropy(y) - p * entropy(y_left) - (1 - p) * entropy(y_right)\n"
   ]
  },
  {
   "cell_type": "code",
   "execution_count": 12,
   "id": "e651084d-737a-4b5c-b788-3f392a4f3a5d",
   "metadata": {},
   "outputs": [],
   "source": [
    "def best_split(X, y, num_thresholds=10):\n",
    "    best_gain = 0\n",
    "    split_index = None\n",
    "    split_value = None\n",
    "\n",
    "    for feature_index in range(X.shape[1]):\n",
    "        values = np.unique(X[:, feature_index])\n",
    "        \n",
    "        if len(values) > num_thresholds:\n",
    "            thresholds = np.linspace(values.min(), values.max(), num=num_thresholds)\n",
    "        else:\n",
    "            thresholds = values\n",
    "        \n",
    "        for val in thresholds:\n",
    "            left_indices = X[:, feature_index] <= val\n",
    "            right_indices = X[:, feature_index] > val\n",
    "\n",
    "            if len(y[left_indices]) == 0 or len(y[right_indices]) == 0:\n",
    "                continue\n",
    "\n",
    "            gain = information_gain_entropy(y, y[left_indices], y[right_indices])\n",
    "\n",
    "            if gain > best_gain:\n",
    "                best_gain = gain\n",
    "                split_index = feature_index\n",
    "                split_value = val\n",
    "\n",
    "    return split_index, split_value\n"
   ]
  },
  {
   "cell_type": "code",
   "execution_count": 13,
   "id": "539f647d-04bc-4d55-9450-29714bf563dc",
   "metadata": {},
   "outputs": [],
   "source": [
    "class Node:\n",
    "    def __init__(self, feature=None, threshold=None, left=None, right=None, *, value=None):\n",
    "        self.feature = feature\n",
    "        self.threshold = threshold\n",
    "        self.left = left\n",
    "        self.right = right\n",
    "        self.value = value  # class label for leaf\n",
    "\n",
    "    def is_leaf_node(self):\n",
    "        return self.value is not None\n"
   ]
  },
  {
   "cell_type": "code",
   "execution_count": 14,
   "id": "7e416ff8-7546-43af-aa4b-88db0a8f6c6a",
   "metadata": {},
   "outputs": [],
   "source": [
    "def build_tree(X, y, depth=0, max_depth=5):\n",
    "    num_samples_per_class = np.bincount(y)\n",
    "    predicted_class = np.argmax(num_samples_per_class)\n",
    "\n",
    "    if len(y) < 10:\n",
    "        return Node(value=predicted_class)\n",
    "\n",
    "\n",
    "    # Stop condition\n",
    "    if depth >= max_depth or len(np.unique(y)) == 1:\n",
    "        return Node(value=predicted_class)\n",
    "\n",
    "    feature, threshold = best_split(X, y)\n",
    "    if feature is None:\n",
    "        return Node(value=predicted_class)\n",
    "\n",
    "    left_idx = X[:, feature] <= threshold\n",
    "    right_idx = ~left_idx\n",
    "\n",
    "    left = build_tree(X[left_idx], y[left_idx], depth + 1, max_depth)\n",
    "    right = build_tree(X[right_idx], y[right_idx], depth + 1, max_depth)\n",
    "\n",
    "    return Node(feature, threshold, left, right)\n"
   ]
  },
  {
   "cell_type": "code",
   "execution_count": 15,
   "id": "15e14671-149f-4941-b24a-5ac41348aca2",
   "metadata": {},
   "outputs": [],
   "source": [
    "def predict_one(x, tree):\n",
    "    if tree.is_leaf_node():\n",
    "        return tree.value\n",
    "    if x[tree.feature] <= tree.threshold:\n",
    "        return predict_one(x, tree.left)\n",
    "    else:\n",
    "        return predict_one(x, tree.right)\n",
    "\n",
    "def predict(X, tree):\n",
    "    return [predict_one(x, tree) for x in X]\n"
   ]
  },
  {
   "cell_type": "code",
   "execution_count": 16,
   "id": "1e2b284a-b77a-485a-a7d5-5ba8c830889c",
   "metadata": {},
   "outputs": [],
   "source": [
    "X1=X_train[0:5000]\n",
    "Y1=y_train[0:5000]\n",
    "tree = build_tree(X_train, y_train, max_depth=12)\n",
    "y_pred = predict(X_train, tree)\n"
   ]
  },
  {
   "cell_type": "code",
   "execution_count": 17,
   "id": "1e90607e-5b9b-40bc-97d5-4dc90e9b19b1",
   "metadata": {},
   "outputs": [],
   "source": [
    "def accuracy(y_true, y_pred):\n",
    "    correct = 0\n",
    "    total = len(y_true)\n",
    "    \n",
    "    for i in range(total):\n",
    "        if y_true[i] == y_pred[i]:\n",
    "            correct += 1\n",
    "            \n",
    "    return correct / total\n"
   ]
  },
  {
   "cell_type": "code",
   "execution_count": 26,
   "id": "1744442f-9e75-4484-b3a6-d11c88c02702",
   "metadata": {},
   "outputs": [
    {
     "name": "stdout",
     "output_type": "stream",
     "text": [
      "Train Accuracy: 0.7749864538692676\n",
      "MCC: 0.7243118060868997\n"
     ]
    }
   ],
   "source": [
    "from sklearn.metrics import matthews_corrcoef\n",
    "\n",
    "print(\"Train Accuracy:\", accuracy(y_train, y_pred))\n",
    "mcc = matthews_corrcoef(y_train, y_pred)\n",
    "print(\"MCC:\", mcc)\n"
   ]
  },
  {
   "cell_type": "code",
   "execution_count": 27,
   "id": "1688d050-6777-465c-bd45-8f7d23458770",
   "metadata": {},
   "outputs": [
    {
     "name": "stdout",
     "output_type": "stream",
     "text": [
      "Val Accuracy: 0.7610462538791193\n",
      "MCC: 0.7063292151829811\n"
     ]
    }
   ],
   "source": [
    "y_val_pred = predict(X_val.to_numpy(), tree)\n",
    "print(\"Val Accuracy:\", accuracy(y_val.to_numpy().flatten(), y_val_pred))\n",
    "mcc = matthews_corrcoef(y_val, y_val_pred)\n",
    "print(\"MCC:\", mcc)"
   ]
  },
  {
   "cell_type": "code",
   "execution_count": 32,
   "id": "20af9f5f-e907-425e-9b43-3da2de91488a",
   "metadata": {},
   "outputs": [
    {
     "data": {
      "text/plain": [
       "<sklearn.metrics._plot.confusion_matrix.ConfusionMatrixDisplay at 0x127df5190>"
      ]
     },
     "execution_count": 32,
     "metadata": {},
     "output_type": "execute_result"
    },
    {
     "data": {
      "image/png": "[encoded data removed]",
      "text/plain": [
       "<Figure size 640x480 with 2 Axes>"
      ]
     },
     "metadata": {},
     "output_type": "display_data"
    }
   ],
   "source": [
    "from sklearn.metrics import confusion_matrix, ConfusionMatrixDisplay\n",
    "\n",
    "y_val_pred = predict(X_val.to_numpy(), tree)\n",
    "cm = confusion_matrix(y_val.to_numpy().flatten(), y_val_pred)\n",
    "disp = ConfusionMatrixDisplay(confusion_matrix=cm)\n",
    "disp.plot(xticks_rotation=45)\n"
   ]
  },
  {
   "cell_type": "code",
   "execution_count": 33,
   "id": "01675aed-cc74-44ae-929f-20e51f0ac738",
   "metadata": {},
   "outputs": [
    {
     "name": "stdout",
     "output_type": "stream",
     "text": [
      "              precision    recall  f1-score   support\n",
      "\n",
      "           0       0.72      0.67      0.69      3200\n",
      "           1       0.52      0.10      0.16       349\n",
      "           2       0.43      0.12      0.18       400\n",
      "           3       0.68      0.68      0.68      3637\n",
      "           4       0.62      0.57      0.59       227\n",
      "           5       0.95      0.72      0.82      2098\n",
      "           6       0.61      0.93      0.74      6678\n",
      "           7       0.47      0.07      0.12      2453\n",
      "           8       0.38      0.58      0.46        26\n",
      "           9       1.00      0.98      0.99      8000\n",
      "\n",
      "    accuracy                           0.76     27068\n",
      "   macro avg       0.64      0.54      0.54     27068\n",
      "weighted avg       0.76      0.76      0.73     27068\n",
      "\n"
     ]
    }
   ],
   "source": [
    "from sklearn.metrics import classification_report\n",
    "print(classification_report(y_val, y_val_pred))\n"
   ]
  },
  {
   "cell_type": "code",
   "execution_count": 24,
   "id": "09e47a2d-0345-4a25-97de-ea501ce9c1e6",
   "metadata": {},
   "outputs": [
    {
     "data": {
      "text/plain": [
       "'\\nTesting to get the optimal max_depth value.\\n    (Initial accuracy scores) Train: 0.6899906408551303  Val: 0.6869735481010788\\n    (Accuracy score after increasing max depth from 5 to 7) Train: 0.7241022609723659  Val: 0.7239914289936457\\n    (Accuracy score after increasing max depth from 7 to 10) Train: 0.7525245061819614  Val: 0.7473400325107138\\n    (Accuracy score after increasing max depth from 10 to 12) Train: 0.7749864538692676  Val: 0.7610462538791193\\n    (Accuracy score after increasing max depth from 10 to 12) Train: 0.7976331215211073  Val: 0.7646298211910744\\n    (Accuracy score at max depth 13) Train: 0.7819934978572484  Val: 0.7626348455741097\\n    Since it starts overfitting slowly after 12 and the results diminish, I will stick to max_depth as 12.'"
      ]
     },
     "execution_count": 24,
     "metadata": {},
     "output_type": "execute_result"
    }
   ],
   "source": [
    "\"\"\"\n",
    "Testing to get the optimal max_depth value.\n",
    "    (Initial accuracy scores) Train: 0.6899906408551303  Val: 0.6869735481010788\n",
    "    (Accuracy score after increasing max depth from 5 to 7) Train: 0.7241022609723659  Val: 0.7239914289936457\n",
    "    (Accuracy score after increasing max depth from 7 to 10) Train: 0.7525245061819614  Val: 0.7473400325107138\n",
    "    (Accuracy score after increasing max depth from 10 to 12) Train: 0.7749864538692676  Val: 0.7610462538791193\n",
    "    (Accuracy score after increasing max depth from 10 to 12) Train: 0.7976331215211073  Val: 0.7646298211910744\n",
    "    (Accuracy score at max depth 13) Train: 0.7819934978572484  Val: 0.7626348455741097\n",
    "    Since it starts overfitting slowly after 12 and the results diminish, I will stick to max_depth as 12.\"\"\"\n",
    "\n"
   ]
  },
  {
   "cell_type": "markdown",
   "id": "6c111ed8-1dfb-414b-8f2e-971c243e6622",
   "metadata": {
    "jp-MarkdownHeadingCollapsed": true
   },
   "source": [
    "<h1>Testing</h1>"
   ]
  },
  {
   "cell_type": "code",
   "execution_count": 28,
   "id": "b50e9ee3-4d58-4556-a0bb-1123ef1bfa3b",
   "metadata": {},
   "outputs": [
    {
     "name": "stdout",
     "output_type": "stream",
     "text": [
      "Test Accuracy: 0.7622372455576489\n",
      "MCC: 0.7080679496953826\n"
     ]
    }
   ],
   "source": [
    "y_test_pred = predict(X_test.to_numpy(), tree)\n",
    "print(\"Test Accuracy:\", accuracy(y_test.to_numpy().flatten(), y_test_pred))\n",
    "mcc = matthews_corrcoef(y_test, y_test_pred)\n",
    "print(\"MCC:\", mcc)"
   ]
  },
  {
   "cell_type": "code",
   "execution_count": null,
   "id": "9c1791e7-8ed1-4b30-8323-a9aa430bc16d",
   "metadata": {},
   "outputs": [],
   "source": []
  },
  {
   "cell_type": "code",
   "execution_count": null,
   "id": "227eda31-530c-4993-88bb-a7df7f5ed571",
   "metadata": {},
   "outputs": [],
   "source": []
  },
  {
   "cell_type": "code",
   "execution_count": null,
   "id": "24bd1c42-215f-4f6b-83a9-cfe2a5d86564",
   "metadata": {},
   "outputs": [],
   "source": []
  },
  {
   "cell_type": "code",
   "execution_count": null,
   "id": "0ed10543-21da-4cac-973e-b359335eb206",
   "metadata": {},
   "outputs": [],
   "source": []
  },
  {
   "cell_type": "code",
   "execution_count": null,
   "id": "716a757f-7d11-4c85-96eb-1416ef2b0fa6",
   "metadata": {},
   "outputs": [],
   "source": []
  }
 ],
 "metadata": {
  "kernelspec": {
   "display_name": "Python 3 (ipykernel)",
   "language": "python",
   "name": "python3"
  },
  "language_info": {
   "codemirror_mode": {
    "name": "ipython",
    "version": 3
   },
   "file_extension": ".py",
   "mimetype": "text/x-python",
   "name": "python",
   "nbconvert_exporter": "python",
   "pygments_lexer": "ipython3",
   "version": "3.12.5"
  }
 },
 "nbformat": 4,
 "nbformat_minor": 5
}

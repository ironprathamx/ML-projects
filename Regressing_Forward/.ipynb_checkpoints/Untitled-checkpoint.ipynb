{
 "cells": [
  {
   "cell_type": "code",
   "execution_count": 130,
   "id": "23a28602-8dd5-4f9e-8a3b-9b481d3dfad7",
   "metadata": {},
   "outputs": [],
   "source": [
    "import pandas as pd\n",
    "import numpy as np\n",
    "import matplotlib.pyplot as plt\n",
    "import seaborn as sns"
   ]
  },
  {
   "cell_type": "code",
   "execution_count": 131,
   "id": "fb4ae434-78b4-4168-abcf-ffb446c33f13",
   "metadata": {},
   "outputs": [],
   "source": [
    "X_train=pd.read_csv('Train.csv', usecols=['Year','Kilometers_Driven','Fuel_Type','Transmission','Owner_Type','Mileage','Engine','Power','Seats'])\n",
    "Y_train=pd.read_csv('Train.csv', usecols=['Price'])\n",
    "X_test=pd.read_csv('Test.csv', usecols=['Year','Kilometers_Driven','Fuel_Type','Transmission','Owner_Type','Mileage','Engine','Power','Seats'])\n",
    "Y_test=pd.read_csv('Test.csv', usecols=['Price'])\n",
    "X=pd.read_csv('Train.csv')"
   ]
  },
  {
   "cell_type": "code",
   "execution_count": 121,
   "id": "a4edeacf-1291-4d0a-ad23-ba7604e37bb0",
   "metadata": {},
   "outputs": [
    {
     "name": "stdout",
     "output_type": "stream",
     "text": [
      "Overview of X_train input:\n",
      "\n",
      "    Year  Kilometers_Driven Fuel_Type Transmission Owner_Type     Mileage   Engine       Power  Seats\n",
      "0  2017              16500    Petrol       Manual      First  23.84 kmpl  1199 CC      84 bhp    5.0\n",
      "1  2017              47357    Diesel    Automatic      First  18.49 kmpl  1493 CC     100 bhp    7.0\n",
      "2  2014              35000    Petrol       Manual      First   15.0 kmpl  1598 CC  103.52 bhp    5.0\n",
      "3  2007             200000    Diesel       Manual     Second   17.2 kmpl  1396 CC    53.5 bhp    5.0\n",
      "4  2013              64000    Diesel       Manual     Second  21.02 kmpl  1248 CC   88.76 bhp    5.0\n",
      "\n",
      "Overview of Y_train input:\n",
      "\n",
      "    Price\n",
      "0   5.00\n",
      "1   8.37\n",
      "2   4.50\n",
      "3   0.85\n",
      "4   2.65\n"
     ]
    }
   ],
   "source": [
    "print(\"Overview of X_train input:\\n\\n\", X_train.head(5).to_string())\n",
    "print(\"\\nOverview of Y_train input:\\n\\n\", Y_train.head(5))"
   ]
  },
  {
   "cell_type": "code",
   "execution_count": 122,
   "id": "a1dea42b-c9e3-4757-b0a8-d7cb5387b788",
   "metadata": {},
   "outputs": [],
   "source": [
    "X_train['Engine'] = X_train['Engine'].str.replace('CC', '')\n",
    "X_train['Mileage'] = X_train['Mileage'].str.replace('kmpl', '')\n",
    "X_train['Power'] = X_train['Power'].str.replace('bhp', '')\n",
    "\n",
    "X_test['Engine'] = X_test['Engine'].str.replace('CC', '')\n",
    "X_test['Mileage'] = X_test['Mileage'].str.replace('kmpl', '')\n",
    "X_test['Power'] = X_test['Power'].str.replace('bhp', '')\n"
   ]
  },
  {
   "cell_type": "code",
   "execution_count": 123,
   "id": "d467a0a9-9d1a-4306-b9b0-05b92f24c654",
   "metadata": {},
   "outputs": [],
   "source": [
    "X_train['Engine'] = X_train['Engine'].astype(float)\n",
    "X_train['Mileage'] = X_train['Mileage'].astype(float)\n",
    "X_train['Power'] = pd.to_numeric(X_train['Power'],errors='coerce')\n",
    "\n",
    "X_test['Engine'] = X_test['Engine'].astype(float)\n",
    "X_test['Mileage'] = X_test['Mileage'].astype(float)\n",
    "X_test['Power'] = pd.to_numeric(X_test['Power'],errors='coerce')"
   ]
  },
  {
   "cell_type": "code",
   "execution_count": 124,
   "id": "8b80e1ae-2d5b-43d2-a023-ad6fe75c81ba",
   "metadata": {},
   "outputs": [],
   "source": [
    "X_train['Mileage']=X_train['Mileage'].fillna(X_train['Mileage'].mean())\n",
    "X_train['Engine']=X_train['Engine'].fillna(X_train['Engine'].mean())\n",
    "X_train['Power']=X_train['Power'].fillna(X_train['Power'].mean())\n",
    "X_train['Seats']=X_train['Seats'].fillna(X_train['Seats'].mean())\n",
    "\n",
    "X_test['Mileage']=X_test['Mileage'].fillna(X_test['Mileage'].mean())\n",
    "X_test['Engine']=X_test['Engine'].fillna(X_test['Engine'].mean())\n",
    "X_test['Power']=X_test['Power'].fillna(X_test['Power'].mean())\n",
    "X_test['Seats']=X_test['Seats'].fillna(X_test['Seats'].mean())\n"
   ]
  },
  {
   "cell_type": "code",
   "execution_count": 125,
   "id": "fa5cd67c-4a8b-4780-a582-944fdc89e2f4",
   "metadata": {},
   "outputs": [],
   "source": [
    "X_train = pd.get_dummies(X_train, columns=['Fuel_Type', 'Transmission'], drop_first=True)\n",
    "\n",
    "owner_mapping = {\n",
    "    'First': 1,\n",
    "    'Second': 2,\n",
    "    'Third': 3,\n",
    "    'Fourth & Above': 4\n",
    "}\n",
    "\n",
    "X_train['Owner_Type'] = X_train['Owner_Type'].map(owner_mapping)\n",
    "\n",
    "\n",
    "X_test = pd.get_dummies(X_test, columns=['Fuel_Type', 'Transmission'], drop_first=True)\n",
    "\n",
    "owner_mapping = {\n",
    "    'First': 1,\n",
    "    'Second': 2,\n",
    "    'Third': 3,\n",
    "    'Fourth & Above': 4\n",
    "}\n",
    "\n",
    "X_test['Owner_Type'] = X_test['Owner_Type'].map(owner_mapping)"
   ]
  },
  {
   "cell_type": "code",
   "execution_count": 134,
   "id": "fa622b61-5729-46f1-ba41-750f839ec7e7",
   "metadata": {},
   "outputs": [
    {
     "name": "stdout",
     "output_type": "stream",
     "text": [
      "\n",
      "Detailed analysis of X_train input:\n",
      "\n",
      "               Year  Kilometers_Driven      Mileage       Engine        Power        Seats\n",
      "count  3750.000000        3750.000000  3750.000000  3750.000000  3750.000000  3750.000000\n",
      "mean   2013.313333       58128.811733    18.041376  1621.910532   113.589670     5.277838\n",
      "std       3.264250       40343.978048     4.522298   599.457483    53.515557     0.802768\n",
      "min    1998.000000        1000.000000     0.000000    72.000000    34.200000     2.000000\n",
      "25%    2011.000000       34000.000000    15.260000  1198.000000    78.000000     5.000000\n",
      "50%    2014.000000       53000.000000    18.000000  1495.000000    98.600000     5.000000\n",
      "75%    2016.000000       73157.750000    20.890000  1984.000000   138.067500     5.000000\n",
      "max    2019.000000      775000.000000    28.400000  5461.000000   550.000000    10.000000\n"
     ]
    }
   ],
   "source": [
    "print(\"\\nDetailed analysis of X_train input:\\n\\n\", X_train.describe().to_string())"
   ]
  },
  {
   "cell_type": "code",
   "execution_count": 135,
   "id": "078506f5-a009-44df-a3c9-a565608a5adc",
   "metadata": {},
   "outputs": [
    {
     "data": {
      "text/html": [
       "<div>\n",
       "<style scoped>\n",
       "    .dataframe tbody tr th:only-of-type {\n",
       "        vertical-align: middle;\n",
       "    }\n",
       "\n",
       "    .dataframe tbody tr th {\n",
       "        vertical-align: top;\n",
       "    }\n",
       "\n",
       "    .dataframe thead th {\n",
       "        text-align: right;\n",
       "    }\n",
       "</style>\n",
       "<table border=\"1\" class=\"dataframe\">\n",
       "  <thead>\n",
       "    <tr style=\"text-align: right;\">\n",
       "      <th></th>\n",
       "      <th>Year</th>\n",
       "      <th>Kilometers_Driven</th>\n",
       "      <th>Fuel_Type</th>\n",
       "      <th>Transmission</th>\n",
       "      <th>Owner_Type</th>\n",
       "      <th>Mileage</th>\n",
       "      <th>Engine</th>\n",
       "      <th>Power</th>\n",
       "      <th>Seats</th>\n",
       "    </tr>\n",
       "  </thead>\n",
       "  <tbody>\n",
       "    <tr>\n",
       "      <th>74</th>\n",
       "      <td>2005</td>\n",
       "      <td>120000</td>\n",
       "      <td>Petrol</td>\n",
       "      <td>Manual</td>\n",
       "      <td>First</td>\n",
       "      <td>0.0</td>\n",
       "      <td>1086.000000</td>\n",
       "      <td>113.58967</td>\n",
       "      <td>5.000000</td>\n",
       "    </tr>\n",
       "    <tr>\n",
       "      <th>130</th>\n",
       "      <td>2003</td>\n",
       "      <td>75000</td>\n",
       "      <td>Diesel</td>\n",
       "      <td>Automatic</td>\n",
       "      <td>Second</td>\n",
       "      <td>0.0</td>\n",
       "      <td>1621.910532</td>\n",
       "      <td>113.58967</td>\n",
       "      <td>5.277838</td>\n",
       "    </tr>\n",
       "    <tr>\n",
       "      <th>148</th>\n",
       "      <td>2019</td>\n",
       "      <td>15369</td>\n",
       "      <td>Diesel</td>\n",
       "      <td>Automatic</td>\n",
       "      <td>First</td>\n",
       "      <td>0.0</td>\n",
       "      <td>1950.000000</td>\n",
       "      <td>194.00000</td>\n",
       "      <td>5.000000</td>\n",
       "    </tr>\n",
       "    <tr>\n",
       "      <th>239</th>\n",
       "      <td>2008</td>\n",
       "      <td>55001</td>\n",
       "      <td>Diesel</td>\n",
       "      <td>Automatic</td>\n",
       "      <td>Second</td>\n",
       "      <td>0.0</td>\n",
       "      <td>1621.910532</td>\n",
       "      <td>113.58967</td>\n",
       "      <td>5.277838</td>\n",
       "    </tr>\n",
       "    <tr>\n",
       "      <th>260</th>\n",
       "      <td>2015</td>\n",
       "      <td>20000</td>\n",
       "      <td>Diesel</td>\n",
       "      <td>Automatic</td>\n",
       "      <td>First</td>\n",
       "      <td>0.0</td>\n",
       "      <td>2987.000000</td>\n",
       "      <td>165.00000</td>\n",
       "      <td>5.000000</td>\n",
       "    </tr>\n",
       "  </tbody>\n",
       "</table>\n",
       "</div>"
      ],
      "text/plain": [
       "     Year  Kilometers_Driven Fuel_Type Transmission Owner_Type  Mileage  \\\n",
       "74   2005             120000    Petrol       Manual      First      0.0   \n",
       "130  2003              75000    Diesel    Automatic     Second      0.0   \n",
       "148  2019              15369    Diesel    Automatic      First      0.0   \n",
       "239  2008              55001    Diesel    Automatic     Second      0.0   \n",
       "260  2015              20000    Diesel    Automatic      First      0.0   \n",
       "\n",
       "          Engine      Power     Seats  \n",
       "74   1086.000000  113.58967  5.000000  \n",
       "130  1621.910532  113.58967  5.277838  \n",
       "148  1950.000000  194.00000  5.000000  \n",
       "239  1621.910532  113.58967  5.277838  \n",
       "260  2987.000000  165.00000  5.000000  "
      ]
     },
     "execution_count": 135,
     "metadata": {},
     "output_type": "execute_result"
    }
   ],
   "source": [
    "X_train[X_train['Mileage'] == 0].head() #Strange."
   ]
  },
  {
   "cell_type": "code",
   "execution_count": 133,
   "id": "78f54401-10a5-462d-9118-d1089a977ed7",
   "metadata": {},
   "outputs": [],
   "source": [
    "preprocessing(X_train)\n",
    "preprocessing(X_test)"
   ]
  },
  {
   "cell_type": "code",
   "execution_count": 132,
   "id": "0cb856b0-e525-46d1-aafe-f204f37cf85d",
   "metadata": {},
   "outputs": [],
   "source": [
    "def preprocessing(X_train):\n",
    "    X_train['Engine'] = X_train['Engine'].str.replace('CC', '')\n",
    "    X_train['Mileage'] = X_train['Mileage'].str.replace('kmpl', '')\n",
    "    X_train['Power'] = X_train['Power'].str.replace('bhp', '')\n",
    "    X_train['Engine'] = X_train['Engine'].astype(float)\n",
    "    X_train['Mileage'] = X_train['Mileage'].astype(float)\n",
    "    X_train['Power'] = pd.to_numeric(X_train['Power'],errors='coerce')\n",
    "    X_train['Mileage']=X_train['Mileage'].fillna(X_train['Mileage'].mean())\n",
    "    X_train['Engine']=X_train['Engine'].fillna(X_train['Engine'].mean())\n",
    "    X_train['Power']=X_train['Power'].fillna(X_train['Power'].mean())\n",
    "    X_train['Seats']=X_train['Seats'].fillna(X_train['Seats'].mean())\n",
    "    X_train = pd.get_dummies(X_train, columns=['Fuel_Type', 'Transmission'], drop_first=True)\n",
    "    owner_mapping = {\n",
    "        'First': 1,\n",
    "        'Second': 2,\n",
    "        'Third': 3,\n",
    "        'Fourth & Above': 4\n",
    "    }    \n",
    "    X_train['Owner_Type'] = X_train['Owner_Type'].map(owner_mapping)"
   ]
  },
  {
   "cell_type": "code",
   "execution_count": null,
   "id": "6bdf22f9-8340-49c5-aae1-f201e93b49f8",
   "metadata": {},
   "outputs": [],
   "source": []
  },
  {
   "cell_type": "code",
   "execution_count": null,
   "id": "137f0477-a750-4832-ba98-b2e2b34c710c",
   "metadata": {},
   "outputs": [],
   "source": []
  }
 ],
 "metadata": {
  "kernelspec": {
   "display_name": "Python 3 (ipykernel)",
   "language": "python",
   "name": "python3"
  },
  "language_info": {
   "codemirror_mode": {
    "name": "ipython",
    "version": 3
   },
   "file_extension": ".py",
   "mimetype": "text/x-python",
   "name": "python",
   "nbconvert_exporter": "python",
   "pygments_lexer": "ipython3",
   "version": "3.12.5"
  }
 },
 "nbformat": 4,
 "nbformat_minor": 5
}

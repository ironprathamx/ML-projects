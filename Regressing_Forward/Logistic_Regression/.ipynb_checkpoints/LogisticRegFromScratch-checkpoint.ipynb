{
 "cells": [
  {
   "cell_type": "code",
   "execution_count": 876,
   "id": "702ff9e0-388d-4990-bb54-e510796882bb",
   "metadata": {},
   "outputs": [],
   "source": [
    "import pandas as pd\n",
    "import numpy as np\n",
    "import matplotlib.pyplot as plt\n",
    "import seaborn as sns"
   ]
  },
  {
   "cell_type": "markdown",
   "id": "ce8f4c5e-b85b-4010-935e-ad7c1d1cc754",
   "metadata": {},
   "source": [
    "<h1>Exploratory Data Analysis / Preprocessing</h1>"
   ]
  },
  {
   "cell_type": "code",
   "execution_count": 877,
   "id": "8c49e456-d8cf-438c-b8dd-224463e054ba",
   "metadata": {},
   "outputs": [],
   "source": [
    "X_train=pd.read_csv('Gotem Pumpkins.csv')\n",
    "Y_train=pd.read_csv('Gotem Pumpkins.csv', usecols=['Class'])\n",
    "X_test=pd.read_csv('Freyja_Pumpkins.csv')\n",
    "Y_test=pd.read_csv('Freyja_Pumpkins.csv', usecols=['Class'])\n",
    "X=pd.read_csv('Gotem Pumpkins.csv')"
   ]
  },
  {
   "cell_type": "code",
   "execution_count": 878,
   "id": "838eeb52-8ee7-4527-a09c-20b02a5f15c4",
   "metadata": {},
   "outputs": [],
   "source": [
    "X_train=X_train.drop(columns=['Class','Unnamed: 0'])\n",
    "X_test=X_test.drop(columns=['Class','Unnamed: 0'])\n"
   ]
  },
  {
   "cell_type": "code",
   "execution_count": 879,
   "id": "520dcb2f-bcbc-4f02-bff8-ccc3265fbae9",
   "metadata": {},
   "outputs": [
    {
     "name": "stdout",
     "output_type": "stream",
     "text": [
      "(2000, 12)\n",
      "(2000, 1)\n"
     ]
    }
   ],
   "source": [
    "print(X_train.shape)\n",
    "print(Y_train.shape)"
   ]
  },
  {
   "cell_type": "code",
   "execution_count": 880,
   "id": "432c28d2-7070-45f1-8e32-7f55db1f22d6",
   "metadata": {},
   "outputs": [
    {
     "data": {
      "text/plain": [
       "Unnamed: 0           0\n",
       "Area                 0\n",
       "Perimeter            0\n",
       "Major_Axis_Length    0\n",
       "Minor_Axis_Length    0\n",
       "Convex_Area          0\n",
       "Equiv_Diameter       0\n",
       "Eccentricity         0\n",
       "Solidity             0\n",
       "Extent               0\n",
       "Roundness            0\n",
       "Aspect_Ration        0\n",
       "Compactness          0\n",
       "Class                0\n",
       "dtype: int64"
      ]
     },
     "execution_count": 880,
     "metadata": {},
     "output_type": "execute_result"
    }
   ],
   "source": [
    "X.isna().sum()"
   ]
  },
  {
   "cell_type": "code",
   "execution_count": 881,
   "id": "420e85e8-5305-4b67-b437-c04f4283eb74",
   "metadata": {},
   "outputs": [
    {
     "data": {
      "text/html": [
       "<div>\n",
       "<style scoped>\n",
       "    .dataframe tbody tr th:only-of-type {\n",
       "        vertical-align: middle;\n",
       "    }\n",
       "\n",
       "    .dataframe tbody tr th {\n",
       "        vertical-align: top;\n",
       "    }\n",
       "\n",
       "    .dataframe thead th {\n",
       "        text-align: right;\n",
       "    }\n",
       "</style>\n",
       "<table border=\"1\" class=\"dataframe\">\n",
       "  <thead>\n",
       "    <tr style=\"text-align: right;\">\n",
       "      <th></th>\n",
       "      <th>Area</th>\n",
       "      <th>Perimeter</th>\n",
       "      <th>Major_Axis_Length</th>\n",
       "      <th>Minor_Axis_Length</th>\n",
       "      <th>Convex_Area</th>\n",
       "      <th>Equiv_Diameter</th>\n",
       "      <th>Eccentricity</th>\n",
       "      <th>Solidity</th>\n",
       "      <th>Extent</th>\n",
       "      <th>Roundness</th>\n",
       "      <th>Aspect_Ration</th>\n",
       "      <th>Compactness</th>\n",
       "    </tr>\n",
       "  </thead>\n",
       "  <tbody>\n",
       "    <tr>\n",
       "      <th>0</th>\n",
       "      <td>84930</td>\n",
       "      <td>1204.448</td>\n",
       "      <td>508.7883</td>\n",
       "      <td>213.0266</td>\n",
       "      <td>85665</td>\n",
       "      <td>328.8407</td>\n",
       "      <td>0.9081</td>\n",
       "      <td>0.9914</td>\n",
       "      <td>0.5482</td>\n",
       "      <td>0.7357</td>\n",
       "      <td>2.3884</td>\n",
       "      <td>0.6463</td>\n",
       "    </tr>\n",
       "    <tr>\n",
       "      <th>1</th>\n",
       "      <td>103343</td>\n",
       "      <td>1275.261</td>\n",
       "      <td>521.4694</td>\n",
       "      <td>252.8941</td>\n",
       "      <td>104156</td>\n",
       "      <td>362.7401</td>\n",
       "      <td>0.8745</td>\n",
       "      <td>0.9922</td>\n",
       "      <td>0.7457</td>\n",
       "      <td>0.7985</td>\n",
       "      <td>2.0620</td>\n",
       "      <td>0.6956</td>\n",
       "    </tr>\n",
       "    <tr>\n",
       "      <th>2</th>\n",
       "      <td>98350</td>\n",
       "      <td>1269.539</td>\n",
       "      <td>526.2346</td>\n",
       "      <td>238.4702</td>\n",
       "      <td>99184</td>\n",
       "      <td>353.8688</td>\n",
       "      <td>0.8914</td>\n",
       "      <td>0.9916</td>\n",
       "      <td>0.5919</td>\n",
       "      <td>0.7668</td>\n",
       "      <td>2.2067</td>\n",
       "      <td>0.6725</td>\n",
       "    </tr>\n",
       "    <tr>\n",
       "      <th>3</th>\n",
       "      <td>69517</td>\n",
       "      <td>1059.538</td>\n",
       "      <td>429.8407</td>\n",
       "      <td>206.8250</td>\n",
       "      <td>70493</td>\n",
       "      <td>297.5093</td>\n",
       "      <td>0.8766</td>\n",
       "      <td>0.9862</td>\n",
       "      <td>0.6623</td>\n",
       "      <td>0.7782</td>\n",
       "      <td>2.0783</td>\n",
       "      <td>0.6921</td>\n",
       "    </tr>\n",
       "    <tr>\n",
       "      <th>4</th>\n",
       "      <td>80011</td>\n",
       "      <td>1182.947</td>\n",
       "      <td>501.9065</td>\n",
       "      <td>204.7531</td>\n",
       "      <td>80902</td>\n",
       "      <td>319.1758</td>\n",
       "      <td>0.9130</td>\n",
       "      <td>0.9890</td>\n",
       "      <td>0.7374</td>\n",
       "      <td>0.7185</td>\n",
       "      <td>2.4513</td>\n",
       "      <td>0.6359</td>\n",
       "    </tr>\n",
       "    <tr>\n",
       "      <th>...</th>\n",
       "      <td>...</td>\n",
       "      <td>...</td>\n",
       "      <td>...</td>\n",
       "      <td>...</td>\n",
       "      <td>...</td>\n",
       "      <td>...</td>\n",
       "      <td>...</td>\n",
       "      <td>...</td>\n",
       "      <td>...</td>\n",
       "      <td>...</td>\n",
       "      <td>...</td>\n",
       "      <td>...</td>\n",
       "    </tr>\n",
       "    <tr>\n",
       "      <th>1995</th>\n",
       "      <td>68292</td>\n",
       "      <td>982.052</td>\n",
       "      <td>368.6867</td>\n",
       "      <td>237.1654</td>\n",
       "      <td>68891</td>\n",
       "      <td>294.8764</td>\n",
       "      <td>0.7656</td>\n",
       "      <td>0.9913</td>\n",
       "      <td>0.7212</td>\n",
       "      <td>0.8898</td>\n",
       "      <td>1.5546</td>\n",
       "      <td>0.7998</td>\n",
       "    </tr>\n",
       "    <tr>\n",
       "      <th>1996</th>\n",
       "      <td>82272</td>\n",
       "      <td>1121.769</td>\n",
       "      <td>459.4482</td>\n",
       "      <td>228.2780</td>\n",
       "      <td>82865</td>\n",
       "      <td>323.6541</td>\n",
       "      <td>0.8678</td>\n",
       "      <td>0.9928</td>\n",
       "      <td>0.7321</td>\n",
       "      <td>0.8216</td>\n",
       "      <td>2.0127</td>\n",
       "      <td>0.7044</td>\n",
       "    </tr>\n",
       "    <tr>\n",
       "      <th>1997</th>\n",
       "      <td>72049</td>\n",
       "      <td>1023.784</td>\n",
       "      <td>398.3945</td>\n",
       "      <td>230.5932</td>\n",
       "      <td>72732</td>\n",
       "      <td>302.8789</td>\n",
       "      <td>0.8155</td>\n",
       "      <td>0.9906</td>\n",
       "      <td>0.7638</td>\n",
       "      <td>0.8638</td>\n",
       "      <td>1.7277</td>\n",
       "      <td>0.7602</td>\n",
       "    </tr>\n",
       "    <tr>\n",
       "      <th>1998</th>\n",
       "      <td>73703</td>\n",
       "      <td>1065.980</td>\n",
       "      <td>422.3591</td>\n",
       "      <td>223.3923</td>\n",
       "      <td>74461</td>\n",
       "      <td>306.3357</td>\n",
       "      <td>0.8487</td>\n",
       "      <td>0.9898</td>\n",
       "      <td>0.6380</td>\n",
       "      <td>0.8151</td>\n",
       "      <td>1.8907</td>\n",
       "      <td>0.7253</td>\n",
       "    </tr>\n",
       "    <tr>\n",
       "      <th>1999</th>\n",
       "      <td>74525</td>\n",
       "      <td>1153.205</td>\n",
       "      <td>478.0779</td>\n",
       "      <td>200.0458</td>\n",
       "      <td>76573</td>\n",
       "      <td>308.0392</td>\n",
       "      <td>0.9082</td>\n",
       "      <td>0.9733</td>\n",
       "      <td>0.5578</td>\n",
       "      <td>0.7042</td>\n",
       "      <td>2.3898</td>\n",
       "      <td>0.6443</td>\n",
       "    </tr>\n",
       "  </tbody>\n",
       "</table>\n",
       "<p>2000 rows × 12 columns</p>\n",
       "</div>"
      ],
      "text/plain": [
       "        Area  Perimeter  Major_Axis_Length  Minor_Axis_Length  Convex_Area  \\\n",
       "0      84930   1204.448           508.7883           213.0266        85665   \n",
       "1     103343   1275.261           521.4694           252.8941       104156   \n",
       "2      98350   1269.539           526.2346           238.4702        99184   \n",
       "3      69517   1059.538           429.8407           206.8250        70493   \n",
       "4      80011   1182.947           501.9065           204.7531        80902   \n",
       "...      ...        ...                ...                ...          ...   \n",
       "1995   68292    982.052           368.6867           237.1654        68891   \n",
       "1996   82272   1121.769           459.4482           228.2780        82865   \n",
       "1997   72049   1023.784           398.3945           230.5932        72732   \n",
       "1998   73703   1065.980           422.3591           223.3923        74461   \n",
       "1999   74525   1153.205           478.0779           200.0458        76573   \n",
       "\n",
       "      Equiv_Diameter  Eccentricity  Solidity  Extent  Roundness  \\\n",
       "0           328.8407        0.9081    0.9914  0.5482     0.7357   \n",
       "1           362.7401        0.8745    0.9922  0.7457     0.7985   \n",
       "2           353.8688        0.8914    0.9916  0.5919     0.7668   \n",
       "3           297.5093        0.8766    0.9862  0.6623     0.7782   \n",
       "4           319.1758        0.9130    0.9890  0.7374     0.7185   \n",
       "...              ...           ...       ...     ...        ...   \n",
       "1995        294.8764        0.7656    0.9913  0.7212     0.8898   \n",
       "1996        323.6541        0.8678    0.9928  0.7321     0.8216   \n",
       "1997        302.8789        0.8155    0.9906  0.7638     0.8638   \n",
       "1998        306.3357        0.8487    0.9898  0.6380     0.8151   \n",
       "1999        308.0392        0.9082    0.9733  0.5578     0.7042   \n",
       "\n",
       "      Aspect_Ration  Compactness  \n",
       "0            2.3884       0.6463  \n",
       "1            2.0620       0.6956  \n",
       "2            2.2067       0.6725  \n",
       "3            2.0783       0.6921  \n",
       "4            2.4513       0.6359  \n",
       "...             ...          ...  \n",
       "1995         1.5546       0.7998  \n",
       "1996         2.0127       0.7044  \n",
       "1997         1.7277       0.7602  \n",
       "1998         1.8907       0.7253  \n",
       "1999         2.3898       0.6443  \n",
       "\n",
       "[2000 rows x 12 columns]"
      ]
     },
     "execution_count": 881,
     "metadata": {},
     "output_type": "execute_result"
    }
   ],
   "source": [
    "X_train"
   ]
  },
  {
   "cell_type": "code",
   "execution_count": 882,
   "id": "c8e00f41-02a9-4fa8-9859-d2ce51195d81",
   "metadata": {},
   "outputs": [
    {
     "data": {
      "text/html": [
       "<div>\n",
       "<style scoped>\n",
       "    .dataframe tbody tr th:only-of-type {\n",
       "        vertical-align: middle;\n",
       "    }\n",
       "\n",
       "    .dataframe tbody tr th {\n",
       "        vertical-align: top;\n",
       "    }\n",
       "\n",
       "    .dataframe thead th {\n",
       "        text-align: right;\n",
       "    }\n",
       "</style>\n",
       "<table border=\"1\" class=\"dataframe\">\n",
       "  <thead>\n",
       "    <tr style=\"text-align: right;\">\n",
       "      <th></th>\n",
       "      <th>Class</th>\n",
       "    </tr>\n",
       "  </thead>\n",
       "  <tbody>\n",
       "    <tr>\n",
       "      <th>0</th>\n",
       "      <td>Ürgüp Sivrisi</td>\n",
       "    </tr>\n",
       "    <tr>\n",
       "      <th>1</th>\n",
       "      <td>Ürgüp Sivrisi</td>\n",
       "    </tr>\n",
       "    <tr>\n",
       "      <th>2</th>\n",
       "      <td>Ürgüp Sivrisi</td>\n",
       "    </tr>\n",
       "    <tr>\n",
       "      <th>3</th>\n",
       "      <td>Çerçevelik</td>\n",
       "    </tr>\n",
       "    <tr>\n",
       "      <th>4</th>\n",
       "      <td>Ürgüp Sivrisi</td>\n",
       "    </tr>\n",
       "    <tr>\n",
       "      <th>...</th>\n",
       "      <td>...</td>\n",
       "    </tr>\n",
       "    <tr>\n",
       "      <th>1995</th>\n",
       "      <td>Çerçevelik</td>\n",
       "    </tr>\n",
       "    <tr>\n",
       "      <th>1996</th>\n",
       "      <td>Ürgüp Sivrisi</td>\n",
       "    </tr>\n",
       "    <tr>\n",
       "      <th>1997</th>\n",
       "      <td>Çerçevelik</td>\n",
       "    </tr>\n",
       "    <tr>\n",
       "      <th>1998</th>\n",
       "      <td>Çerçevelik</td>\n",
       "    </tr>\n",
       "    <tr>\n",
       "      <th>1999</th>\n",
       "      <td>Ürgüp Sivrisi</td>\n",
       "    </tr>\n",
       "  </tbody>\n",
       "</table>\n",
       "<p>2000 rows × 1 columns</p>\n",
       "</div>"
      ],
      "text/plain": [
       "              Class\n",
       "0     Ürgüp Sivrisi\n",
       "1     Ürgüp Sivrisi\n",
       "2     Ürgüp Sivrisi\n",
       "3        Çerçevelik\n",
       "4     Ürgüp Sivrisi\n",
       "...             ...\n",
       "1995     Çerçevelik\n",
       "1996  Ürgüp Sivrisi\n",
       "1997     Çerçevelik\n",
       "1998     Çerçevelik\n",
       "1999  Ürgüp Sivrisi\n",
       "\n",
       "[2000 rows x 1 columns]"
      ]
     },
     "execution_count": 882,
     "metadata": {},
     "output_type": "execute_result"
    }
   ],
   "source": [
    "Y_train"
   ]
  },
  {
   "cell_type": "code",
   "execution_count": 883,
   "id": "0aaa86ec-937b-4542-9d22-fe449f1a58c2",
   "metadata": {},
   "outputs": [
    {
     "data": {
      "text/plain": [
       "Class    2\n",
       "dtype: int64"
      ]
     },
     "execution_count": 883,
     "metadata": {},
     "output_type": "execute_result"
    }
   ],
   "source": [
    "Y_train.nunique()"
   ]
  },
  {
   "cell_type": "code",
   "execution_count": 884,
   "id": "5c2b576d-07d9-4e65-85e4-297777192fd4",
   "metadata": {},
   "outputs": [
    {
     "data": {
      "text/html": [
       "<div>\n",
       "<style scoped>\n",
       "    .dataframe tbody tr th:only-of-type {\n",
       "        vertical-align: middle;\n",
       "    }\n",
       "\n",
       "    .dataframe tbody tr th {\n",
       "        vertical-align: top;\n",
       "    }\n",
       "\n",
       "    .dataframe thead th {\n",
       "        text-align: right;\n",
       "    }\n",
       "</style>\n",
       "<table border=\"1\" class=\"dataframe\">\n",
       "  <thead>\n",
       "    <tr style=\"text-align: right;\">\n",
       "      <th></th>\n",
       "      <th>Class_Ürgüp Sivrisi</th>\n",
       "    </tr>\n",
       "  </thead>\n",
       "  <tbody>\n",
       "    <tr>\n",
       "      <th>0</th>\n",
       "      <td>True</td>\n",
       "    </tr>\n",
       "    <tr>\n",
       "      <th>1</th>\n",
       "      <td>True</td>\n",
       "    </tr>\n",
       "    <tr>\n",
       "      <th>2</th>\n",
       "      <td>True</td>\n",
       "    </tr>\n",
       "    <tr>\n",
       "      <th>3</th>\n",
       "      <td>False</td>\n",
       "    </tr>\n",
       "    <tr>\n",
       "      <th>4</th>\n",
       "      <td>True</td>\n",
       "    </tr>\n",
       "    <tr>\n",
       "      <th>...</th>\n",
       "      <td>...</td>\n",
       "    </tr>\n",
       "    <tr>\n",
       "      <th>1995</th>\n",
       "      <td>False</td>\n",
       "    </tr>\n",
       "    <tr>\n",
       "      <th>1996</th>\n",
       "      <td>True</td>\n",
       "    </tr>\n",
       "    <tr>\n",
       "      <th>1997</th>\n",
       "      <td>False</td>\n",
       "    </tr>\n",
       "    <tr>\n",
       "      <th>1998</th>\n",
       "      <td>False</td>\n",
       "    </tr>\n",
       "    <tr>\n",
       "      <th>1999</th>\n",
       "      <td>True</td>\n",
       "    </tr>\n",
       "  </tbody>\n",
       "</table>\n",
       "<p>2000 rows × 1 columns</p>\n",
       "</div>"
      ],
      "text/plain": [
       "      Class_Ürgüp Sivrisi\n",
       "0                    True\n",
       "1                    True\n",
       "2                    True\n",
       "3                   False\n",
       "4                    True\n",
       "...                   ...\n",
       "1995                False\n",
       "1996                 True\n",
       "1997                False\n",
       "1998                False\n",
       "1999                 True\n",
       "\n",
       "[2000 rows x 1 columns]"
      ]
     },
     "execution_count": 884,
     "metadata": {},
     "output_type": "execute_result"
    }
   ],
   "source": [
    "Y_train = pd.get_dummies(Y_train, columns=['Class'], drop_first=True)\n",
    "Y_test = pd.get_dummies(Y_test, columns=['Class'], drop_first=True)\n",
    "\n",
    "Y_train"
   ]
  },
  {
   "cell_type": "markdown",
   "id": "a5c71257-58db-4954-9158-ef28dd3462e0",
   "metadata": {},
   "source": [
    "<h2>Outlier Detection</h2>"
   ]
  },
  {
   "cell_type": "code",
   "execution_count": 885,
   "id": "9d1fdae7-d1ab-4cbe-a4b4-f410e4034469",
   "metadata": {
    "scrolled": true
   },
   "outputs": [
    {
     "data": {
      "text/html": [
       "<div>\n",
       "<style scoped>\n",
       "    .dataframe tbody tr th:only-of-type {\n",
       "        vertical-align: middle;\n",
       "    }\n",
       "\n",
       "    .dataframe tbody tr th {\n",
       "        vertical-align: top;\n",
       "    }\n",
       "\n",
       "    .dataframe thead th {\n",
       "        text-align: right;\n",
       "    }\n",
       "</style>\n",
       "<table border=\"1\" class=\"dataframe\">\n",
       "  <thead>\n",
       "    <tr style=\"text-align: right;\">\n",
       "      <th></th>\n",
       "      <th>Area</th>\n",
       "      <th>Perimeter</th>\n",
       "      <th>Major_Axis_Length</th>\n",
       "      <th>Minor_Axis_Length</th>\n",
       "      <th>Convex_Area</th>\n",
       "      <th>Equiv_Diameter</th>\n",
       "      <th>Eccentricity</th>\n",
       "      <th>Solidity</th>\n",
       "      <th>Extent</th>\n",
       "      <th>Roundness</th>\n",
       "      <th>Aspect_Ration</th>\n",
       "      <th>Compactness</th>\n",
       "    </tr>\n",
       "  </thead>\n",
       "  <tbody>\n",
       "    <tr>\n",
       "      <th>count</th>\n",
       "      <td>2000.00000</td>\n",
       "      <td>2000.000000</td>\n",
       "      <td>2000.000000</td>\n",
       "      <td>2000.000000</td>\n",
       "      <td>2000.000000</td>\n",
       "      <td>2000.000000</td>\n",
       "      <td>2000.000000</td>\n",
       "      <td>2000.000000</td>\n",
       "      <td>2000.000000</td>\n",
       "      <td>2000.000000</td>\n",
       "      <td>2000.000000</td>\n",
       "      <td>2000.000000</td>\n",
       "    </tr>\n",
       "    <tr>\n",
       "      <th>mean</th>\n",
       "      <td>80641.46250</td>\n",
       "      <td>1130.261905</td>\n",
       "      <td>456.638748</td>\n",
       "      <td>225.707590</td>\n",
       "      <td>81495.589000</td>\n",
       "      <td>319.289997</td>\n",
       "      <td>0.861151</td>\n",
       "      <td>0.989427</td>\n",
       "      <td>0.694210</td>\n",
       "      <td>0.791254</td>\n",
       "      <td>2.042135</td>\n",
       "      <td>0.703924</td>\n",
       "    </tr>\n",
       "    <tr>\n",
       "      <th>std</th>\n",
       "      <td>13719.38273</td>\n",
       "      <td>109.331843</td>\n",
       "      <td>56.331163</td>\n",
       "      <td>23.163673</td>\n",
       "      <td>13816.400567</td>\n",
       "      <td>27.021520</td>\n",
       "      <td>0.044511</td>\n",
       "      <td>0.003637</td>\n",
       "      <td>0.060180</td>\n",
       "      <td>0.055348</td>\n",
       "      <td>0.313953</td>\n",
       "      <td>0.052548</td>\n",
       "    </tr>\n",
       "    <tr>\n",
       "      <th>min</th>\n",
       "      <td>47939.00000</td>\n",
       "      <td>868.485000</td>\n",
       "      <td>320.844600</td>\n",
       "      <td>154.002000</td>\n",
       "      <td>48366.000000</td>\n",
       "      <td>247.058400</td>\n",
       "      <td>0.492100</td>\n",
       "      <td>0.918600</td>\n",
       "      <td>0.484300</td>\n",
       "      <td>0.554600</td>\n",
       "      <td>1.148700</td>\n",
       "      <td>0.567000</td>\n",
       "    </tr>\n",
       "    <tr>\n",
       "      <th>25%</th>\n",
       "      <td>70707.50000</td>\n",
       "      <td>1047.915750</td>\n",
       "      <td>414.419850</td>\n",
       "      <td>211.252825</td>\n",
       "      <td>71512.000000</td>\n",
       "      <td>300.046000</td>\n",
       "      <td>0.831675</td>\n",
       "      <td>0.988200</td>\n",
       "      <td>0.660025</td>\n",
       "      <td>0.752100</td>\n",
       "      <td>1.800775</td>\n",
       "      <td>0.663275</td>\n",
       "    </tr>\n",
       "    <tr>\n",
       "      <th>50%</th>\n",
       "      <td>78854.50000</td>\n",
       "      <td>1123.413000</td>\n",
       "      <td>449.612650</td>\n",
       "      <td>224.834100</td>\n",
       "      <td>79692.500000</td>\n",
       "      <td>316.860650</td>\n",
       "      <td>0.863400</td>\n",
       "      <td>0.990300</td>\n",
       "      <td>0.714250</td>\n",
       "      <td>0.797450</td>\n",
       "      <td>1.982250</td>\n",
       "      <td>0.707900</td>\n",
       "    </tr>\n",
       "    <tr>\n",
       "      <th>75%</th>\n",
       "      <td>89965.75000</td>\n",
       "      <td>1204.971750</td>\n",
       "      <td>492.554275</td>\n",
       "      <td>240.424150</td>\n",
       "      <td>90920.250000</td>\n",
       "      <td>338.449300</td>\n",
       "      <td>0.897100</td>\n",
       "      <td>0.991500</td>\n",
       "      <td>0.740400</td>\n",
       "      <td>0.833875</td>\n",
       "      <td>2.263100</td>\n",
       "      <td>0.743500</td>\n",
       "    </tr>\n",
       "    <tr>\n",
       "      <th>max</th>\n",
       "      <td>136574.00000</td>\n",
       "      <td>1559.450000</td>\n",
       "      <td>661.911300</td>\n",
       "      <td>305.818000</td>\n",
       "      <td>138384.000000</td>\n",
       "      <td>417.002900</td>\n",
       "      <td>0.946400</td>\n",
       "      <td>0.994400</td>\n",
       "      <td>0.829600</td>\n",
       "      <td>0.923300</td>\n",
       "      <td>3.096900</td>\n",
       "      <td>0.904900</td>\n",
       "    </tr>\n",
       "  </tbody>\n",
       "</table>\n",
       "</div>"
      ],
      "text/plain": [
       "               Area    Perimeter  Major_Axis_Length  Minor_Axis_Length  \\\n",
       "count    2000.00000  2000.000000        2000.000000        2000.000000   \n",
       "mean    80641.46250  1130.261905         456.638748         225.707590   \n",
       "std     13719.38273   109.331843          56.331163          23.163673   \n",
       "min     47939.00000   868.485000         320.844600         154.002000   \n",
       "25%     70707.50000  1047.915750         414.419850         211.252825   \n",
       "50%     78854.50000  1123.413000         449.612650         224.834100   \n",
       "75%     89965.75000  1204.971750         492.554275         240.424150   \n",
       "max    136574.00000  1559.450000         661.911300         305.818000   \n",
       "\n",
       "         Convex_Area  Equiv_Diameter  Eccentricity     Solidity       Extent  \\\n",
       "count    2000.000000     2000.000000   2000.000000  2000.000000  2000.000000   \n",
       "mean    81495.589000      319.289997      0.861151     0.989427     0.694210   \n",
       "std     13816.400567       27.021520      0.044511     0.003637     0.060180   \n",
       "min     48366.000000      247.058400      0.492100     0.918600     0.484300   \n",
       "25%     71512.000000      300.046000      0.831675     0.988200     0.660025   \n",
       "50%     79692.500000      316.860650      0.863400     0.990300     0.714250   \n",
       "75%     90920.250000      338.449300      0.897100     0.991500     0.740400   \n",
       "max    138384.000000      417.002900      0.946400     0.994400     0.829600   \n",
       "\n",
       "         Roundness  Aspect_Ration  Compactness  \n",
       "count  2000.000000    2000.000000  2000.000000  \n",
       "mean      0.791254       2.042135     0.703924  \n",
       "std       0.055348       0.313953     0.052548  \n",
       "min       0.554600       1.148700     0.567000  \n",
       "25%       0.752100       1.800775     0.663275  \n",
       "50%       0.797450       1.982250     0.707900  \n",
       "75%       0.833875       2.263100     0.743500  \n",
       "max       0.923300       3.096900     0.904900  "
      ]
     },
     "execution_count": 885,
     "metadata": {},
     "output_type": "execute_result"
    }
   ],
   "source": [
    "X_train.describe()"
   ]
  },
  {
   "cell_type": "code",
   "execution_count": 886,
   "id": "b5c5a4fb-48c7-44c5-86c3-fb82941c890a",
   "metadata": {},
   "outputs": [
    {
     "name": "stdout",
     "output_type": "stream",
     "text": [
      "87      120014\n",
      "336     124268\n",
      "383     125949\n",
      "976     127033\n",
      "1107    130071\n",
      "1251    125697\n",
      "1505    136574\n",
      "1572    123618\n",
      "1598    119880\n",
      "1678    119467\n",
      "1899    123618\n",
      "Name: Area, dtype: int64\n",
      "119467\n"
     ]
    }
   ],
   "source": [
    "#To find outliers in Area\n",
    "Q1 = np.percentile(X_train['Area'], 25)\n",
    "Q3 = np.percentile(X_train['Area'], 75)\n",
    "IQR = Q3 - Q1\n",
    "\n",
    "lower_bound = Q1 - 1.5 * IQR\n",
    "upper_bound = Q3 + 1.5 * IQR\n",
    "\n",
    "outliers = X_train['Area'][(X_train['Area'] < lower_bound) | (X_train['Area'] > upper_bound)]\n",
    "print((outliers))\n",
    "print(min(outliers))"
   ]
  },
  {
   "cell_type": "code",
   "execution_count": 887,
   "id": "71c8f5c6-200d-433f-a424-df753452863d",
   "metadata": {},
   "outputs": [
    {
     "name": "stdout",
     "output_type": "stream",
     "text": [
      "Outliers: [124268, 125949, 127033, 130071, 125697, 136574, 123618, 123618]\n"
     ]
    }
   ],
   "source": [
    "def z_scores(data):\n",
    "    mu = data.mean()\n",
    "    sigma = data.std()\n",
    "    return [(x - mu) / sigma for x in data]\n",
    "\n",
    "def find_outliers_zscore(data, threshold=3):\n",
    "    z = z_scores(data)\n",
    "    outliers = [x for x, z_val in zip(data, z) if abs(z_val) > threshold]\n",
    "    return outliers\n",
    "\n",
    "# Example\n",
    "outliers = find_outliers_zscore(X_train['Area'])\n",
    "print(\"Outliers:\", outliers)\n"
   ]
  },
  {
   "cell_type": "code",
   "execution_count": 888,
   "id": "9af2b705-5459-4ab1-b1f7-30363d94d270",
   "metadata": {},
   "outputs": [
    {
     "data": {
      "text/plain": [
       "\"outlier_mask= (X_train['Area']<120000) \\nX_train=X_train[outlier_mask]\\nY_train=Y_train[outlier_mask]\""
      ]
     },
     "execution_count": 888,
     "metadata": {},
     "output_type": "execute_result"
    }
   ],
   "source": [
    "'''outlier_mask= (X_train['Area']<120000) \n",
    "X_train=X_train[outlier_mask]\n",
    "Y_train=Y_train[outlier_mask]'''"
   ]
  },
  {
   "cell_type": "code",
   "execution_count": 889,
   "id": "f9657d90-435b-4802-bf0b-04ab532c78bd",
   "metadata": {},
   "outputs": [
    {
     "data": {
      "text/plain": [
       "<Axes: >"
      ]
     },
     "execution_count": 889,
     "metadata": {},
     "output_type": "execute_result"
    },
    {
     "data": {
      "image/png": "[encoded data removed]",
      "text/plain": [
       "<Figure size 1200x800 with 2 Axes>"
      ]
     },
     "metadata": {},
     "output_type": "display_data"
    }
   ],
   "source": [
    "data=pd.concat([X_train,Y_train],axis=1)\n",
    "corr=data.corr()\n",
    "plt.figure(figsize=(12, 8))\n",
    "sns.heatmap(corr, annot=True, cmap='coolwarm')"
   ]
  },
  {
   "cell_type": "code",
   "execution_count": 890,
   "id": "3a38e032-6b6d-489b-8675-478c46263121",
   "metadata": {},
   "outputs": [],
   "source": [
    "X_train=X_train.drop(['Convex_Area'], axis=1)  #(Although it is reduntant, it seems like keeping it gives slightly better cost)\n",
    "X_test=X_test.drop(['Convex_Area'], axis=1)  "
   ]
  },
  {
   "cell_type": "code",
   "execution_count": 891,
   "id": "92f34eba-94b1-45a9-8d98-35ef68cfec37",
   "metadata": {},
   "outputs": [],
   "source": [
    "Xmean=X_train.mean()\n",
    "Xstd=X_train.std()\n",
    "def norm(X):\n",
    "    return ((X-Xmean)/Xstd)"
   ]
  },
  {
   "cell_type": "code",
   "execution_count": 892,
   "id": "b14f3294-b1b2-42b9-a91f-fc3063715938",
   "metadata": {},
   "outputs": [],
   "source": [
    "X_train=norm(X_train)\n",
    "X_test=norm(X_test)"
   ]
  },
  {
   "cell_type": "code",
   "execution_count": 893,
   "id": "0afa8e5d-700b-480b-bd64-b4471591a47b",
   "metadata": {},
   "outputs": [
    {
     "data": {
      "text/plain": [
       "Area                 0\n",
       "Perimeter            0\n",
       "Major_Axis_Length    0\n",
       "Minor_Axis_Length    0\n",
       "Equiv_Diameter       0\n",
       "Eccentricity         0\n",
       "Solidity             0\n",
       "Extent               0\n",
       "Roundness            0\n",
       "Aspect_Ration        0\n",
       "Compactness          0\n",
       "dtype: int64"
      ]
     },
     "execution_count": 893,
     "metadata": {},
     "output_type": "execute_result"
    }
   ],
   "source": [
    "X_train.isna().sum()"
   ]
  },
  {
   "cell_type": "code",
   "execution_count": 894,
   "id": "96e6fe30-001c-43c2-8c2d-d178ff68c996",
   "metadata": {},
   "outputs": [],
   "source": [
    "X_train = X_train.to_numpy()\n",
    "X_test=X_test.to_numpy()\n",
    "Y_train = Y_train.to_numpy()\n",
    "Y_test=Y_test.to_numpy()"
   ]
  },
  {
   "cell_type": "markdown",
   "id": "cd29aa30-1848-4508-960a-b0dddf20d0f4",
   "metadata": {},
   "source": [
    "<h1>Training</h1>"
   ]
  },
  {
   "cell_type": "code",
   "execution_count": 895,
   "id": "dc187cc4-f235-412a-b794-436476029346",
   "metadata": {},
   "outputs": [],
   "source": [
    "def z_calc(X,W,B):\n",
    "    Z=np.matmul(X,W)+B\n",
    "    Z = np.clip(Z, -500, 500)\n",
    "    return Z\n",
    "\n",
    "def g_calc(Z):\n",
    "    return 1/(1+np.exp(-Z))\n",
    "\n",
    "def compute_cost(Y_train,G_train,W_train,lambd=0):\n",
    "    epsilon=1e-15\n",
    "    G_train=np.clip(G_train, epsilon, 1 - epsilon)\n",
    "    cost=-(Y_train*np.log(G_train)+(1-Y_train)*np.log(1-G_train))/G_train.shape[0]\n",
    "    reg = (lambd / (2 * Y_train.size)) * np.sum(W_train**2)\n",
    "    return cost.sum()+reg"
   ]
  },
  {
   "cell_type": "code",
   "execution_count": 896,
   "id": "b5097e80-694b-416b-a383-73df6b44b2d1",
   "metadata": {},
   "outputs": [],
   "source": [
    "W_train = np.ones((X_train.shape[1], 1))\n",
    "B_train= 0.0"
   ]
  },
  {
   "cell_type": "code",
   "execution_count": 897,
   "id": "9f3d2a69-db26-4b92-b1f5-10ae0802feae",
   "metadata": {},
   "outputs": [],
   "source": [
    "Z_train=z_calc(X_train,W_train,B_train)\n",
    "G_train=g_calc(Z_train)\n",
    "P_train=np.round(G_train)"
   ]
  },
  {
   "cell_type": "code",
   "execution_count": 898,
   "id": "93c24969-0694-4ae3-9f20-7796a6362165",
   "metadata": {},
   "outputs": [
    {
     "name": "stdout",
     "output_type": "stream",
     "text": [
      "(2000, 11)\n",
      "(2000, 1)\n",
      "(2000, 1)\n"
     ]
    }
   ],
   "source": [
    "print(X_train.shape)\n",
    "print(Y_train.shape)\n",
    "print(Z_train.shape)"
   ]
  },
  {
   "cell_type": "code",
   "execution_count": 899,
   "id": "ff8714fb-1f2b-4ec0-a906-043dce42a39e",
   "metadata": {},
   "outputs": [],
   "source": [
    "W_history=[]\n",
    "B_history=[]\n",
    "P_history=[]\n",
    "J_history=[]\n",
    "W_history.append(W_train)\n",
    "B_history.append(B_train)\n",
    "P_history.append(P_train)\n",
    "J_history.append(compute_cost(Y_train,G_train,W_train))"
   ]
  },
  {
   "cell_type": "code",
   "execution_count": 900,
   "id": "41700bdb-cf92-4f97-a326-d3ec282de174",
   "metadata": {},
   "outputs": [],
   "source": [
    "def gradescent(epoch, alpha, W_history, J_history, B_history, P_history, X_train, Y_train, lambd=0):\n",
    "    for i in range(epoch):\n",
    "        W_current = W_history[-1]\n",
    "        B_current = B_history[-1]\n",
    "\n",
    "        Z_train = z_calc(X_train, W_current, B_current)\n",
    "        G_train = g_calc(Z_train)\n",
    "\n",
    "        # Gradient updates\n",
    "        W_new = W_current - alpha* (X_train.T @ (G_train - Y_train) + lambd * W_current) / X_train.shape[0] \n",
    "        B_new = B_current - alpha / X_train.shape[0] * np.sum(G_train - Y_train)\n",
    "\n",
    "        # Append new weights and biases\n",
    "        W_history.append(W_new.copy())\n",
    "        B_history.append(B_new)\n",
    "\n",
    "        # Prediction and cost\n",
    "        Z_train = z_calc(X_train, W_new, B_new)\n",
    "        G_train = g_calc(Z_train)\n",
    "        P_history.append(np.round(G_train))\n",
    "        J_history.append(compute_cost(Y_train, G_train,W_history[-1]))\n",
    "\n",
    "        if i % 10 == 0:\n",
    "            print(\"Iteration:\", i, \"Cost:\", J_history[-1])\n"
   ]
  },
  {
   "cell_type": "code",
   "execution_count": 901,
   "id": "e741643a-b776-4f4a-9c99-7d9557e508c2",
   "metadata": {},
   "outputs": [
    {
     "name": "stdout",
     "output_type": "stream",
     "text": [
      "Iteration: 0 Cost: 0.4278193668022793\n",
      "Iteration: 10 Cost: 0.3278588660158724\n",
      "Iteration: 20 Cost: 0.3268315081861678\n",
      "Iteration: 30 Cost: 0.3261185494432166\n",
      "Iteration: 40 Cost: 0.3254611834342872\n",
      "Iteration: 50 Cost: 0.3248453840780985\n",
      "Iteration: 60 Cost: 0.3242618279055193\n",
      "Iteration: 70 Cost: 0.32370428394064443\n",
      "Iteration: 80 Cost: 0.32316856190574955\n",
      "Iteration: 90 Cost: 0.32265180153622275\n",
      "Iteration: 100 Cost: 0.32215200302846625\n",
      "Iteration: 110 Cost: 0.32166772149977674\n",
      "Iteration: 120 Cost: 0.32119787028904395\n",
      "Iteration: 130 Cost: 0.32074159529719026\n",
      "Iteration: 140 Cost: 0.32029819515529856\n",
      "Iteration: 150 Cost: 0.3198670707060306\n",
      "Iteration: 160 Cost: 0.31944769311982796\n",
      "Iteration: 170 Cost: 0.3190395838078338\n",
      "Iteration: 180 Cost: 0.3186423017864287\n",
      "Iteration: 190 Cost: 0.31825543575015314\n",
      "Iteration: 200 Cost: 0.3178785991310259\n",
      "Iteration: 210 Cost: 0.31751142706902147\n",
      "Iteration: 220 Cost: 0.31715357462553073\n",
      "Iteration: 230 Cost: 0.31680471582581604\n",
      "Iteration: 240 Cost: 0.31646454327322515\n",
      "Iteration: 250 Cost: 0.3161327681719951\n",
      "Iteration: 260 Cost: 0.31580912064846006\n",
      "Iteration: 270 Cost: 0.31549335028529313\n",
      "Iteration: 280 Cost: 0.31518522678769223\n",
      "Iteration: 290 Cost: 0.3148845406885188\n",
      "Iteration: 300 Cost: 0.3145911039741055\n",
      "Iteration: 310 Cost: 0.31430475047674966\n",
      "Iteration: 320 Cost: 0.31402533583822656\n",
      "Iteration: 330 Cost: 0.31375273680917926\n",
      "Iteration: 340 Cost: 0.3134868496246314\n",
      "Iteration: 350 Cost: 0.31322758720448585\n",
      "Iteration: 360 Cost: 0.31297487499087956\n",
      "Iteration: 370 Cost: 0.31272864537027945\n",
      "Iteration: 380 Cost: 0.31248883084260226\n",
      "Iteration: 390 Cost: 0.3122553563724472\n",
      "Iteration: 400 Cost: 0.31202813163541027\n",
      "Iteration: 410 Cost: 0.31180704407386334\n",
      "Iteration: 420 Cost: 0.31159195371548387\n",
      "Iteration: 430 Cost: 0.311382690532082\n",
      "Iteration: 440 Cost: 0.31117905474117147\n",
      "Iteration: 450 Cost: 0.3109808199682479\n",
      "Iteration: 460 Cost: 0.3107877387279625\n",
      "Iteration: 470 Cost: 0.3105995493702967\n",
      "Iteration: 480 Cost: 0.31041598353754635\n",
      "Iteration: 490 Cost: 0.3102367732774506\n",
      "Iteration: 500 Cost: 0.31006165718925205\n",
      "Iteration: 510 Cost: 0.309890385256287\n",
      "Iteration: 520 Cost: 0.30972272226940556\n",
      "Iteration: 530 Cost: 0.30955844993003295\n",
      "Iteration: 540 Cost: 0.30939736783047955\n",
      "Iteration: 550 Cost: 0.3092392935529139\n",
      "Iteration: 560 Cost: 0.3090840621265055\n",
      "Iteration: 570 Cost: 0.30893152505405\n",
      "Iteration: 580 Cost: 0.30878154907999494\n",
      "Iteration: 590 Cost: 0.3086340148311284\n",
      "Iteration: 600 Cost: 0.30848881542470513\n",
      "Iteration: 610 Cost: 0.3083458551086919\n",
      "Iteration: 620 Cost: 0.30820504797536685\n",
      "Iteration: 630 Cost: 0.30806631677217405\n",
      "Iteration: 640 Cost: 0.3079295918213062\n",
      "Iteration: 650 Cost: 0.30779481005101383\n",
      "Iteration: 660 Cost: 0.30766191413605426\n",
      "Iteration: 670 Cost: 0.3075308517412699\n",
      "Iteration: 680 Cost: 0.3074015748603224\n",
      "Iteration: 690 Cost: 0.3072740392407469\n",
      "Iteration: 700 Cost: 0.3071482038862536\n",
      "Iteration: 710 Cost: 0.3070240306274562\n",
      "Iteration: 720 Cost: 0.30690148375272747\n",
      "Iteration: 730 Cost: 0.3067805296915083\n",
      "Iteration: 740 Cost: 0.3066611367431552\n",
      "Iteration: 750 Cost: 0.3065432748451179\n",
      "Iteration: 760 Cost: 0.306426915374978\n",
      "Iteration: 770 Cost: 0.30631203098152315\n",
      "Iteration: 780 Cost: 0.3061985954406712\n",
      "Iteration: 790 Cost: 0.30608658353259866\n",
      "Iteration: 800 Cost: 0.3059759709369384\n",
      "Iteration: 810 Cost: 0.30586673414333504\n",
      "Iteration: 820 Cost: 0.30575885037505\n",
      "Iteration: 830 Cost: 0.30565229752363604\n",
      "Iteration: 840 Cost: 0.3055470540929798\n",
      "Iteration: 850 Cost: 0.3054430991512952\n",
      "Iteration: 860 Cost: 0.3053404122898257\n",
      "Iteration: 870 Cost: 0.3052389735872344\n",
      "Iteration: 880 Cost: 0.3051387635787952\n",
      "Iteration: 890 Cost: 0.3050397632296503\n",
      "Iteration: 900 Cost: 0.3049419539114946\n",
      "Iteration: 910 Cost: 0.3048453173821696\n",
      "Iteration: 920 Cost: 0.30474983576771286\n",
      "Iteration: 930 Cost: 0.3046554915464862\n",
      "Iteration: 940 Cost: 0.30456226753506366\n",
      "Iteration: 950 Cost: 0.30447014687561724\n",
      "Iteration: 960 Cost: 0.304379113024564\n",
      "Iteration: 970 Cost: 0.30428914974230303\n",
      "Iteration: 980 Cost: 0.30420024108385646\n",
      "Iteration: 990 Cost: 0.30411237139030844\n",
      "Iteration: 1000 Cost: 0.30402552528090643\n",
      "Iteration: 1010 Cost: 0.3039396876457428\n",
      "Iteration: 1020 Cost: 0.30385484363893134\n",
      "Iteration: 1030 Cost: 0.3037709786722126\n",
      "Iteration: 1040 Cost: 0.30368807840893286\n",
      "Iteration: 1050 Cost: 0.3036061287583429\n",
      "Iteration: 1060 Cost: 0.30352511587019004\n",
      "Iteration: 1070 Cost: 0.3034450261295474\n",
      "Iteration: 1080 Cost: 0.3033658461518767\n",
      "Iteration: 1090 Cost: 0.30328756277828084\n",
      "Iteration: 1100 Cost: 0.3032101630709364\n",
      "Iteration: 1110 Cost: 0.303133634308684\n",
      "Iteration: 1120 Cost: 0.30305796398276436\n",
      "Iteration: 1130 Cost: 0.30298313979268543\n",
      "Iteration: 1140 Cost: 0.3029091496422104\n",
      "Iteration: 1150 Cost: 0.3028359816354602\n",
      "Iteration: 1160 Cost: 0.30276362407311713\n",
      "Iteration: 1170 Cost: 0.3026920654487287\n",
      "Iteration: 1180 Cost: 0.3026212944450985\n",
      "Iteration: 1190 Cost: 0.3025512999307697\n",
      "Iteration: 1200 Cost: 0.3024820709565862\n",
      "Iteration: 1210 Cost: 0.3024135967523322\n",
      "Iteration: 1220 Cost: 0.302345866723447\n",
      "Iteration: 1230 Cost: 0.30227887044781243\n",
      "Iteration: 1240 Cost: 0.30221259767260655\n",
      "Iteration: 1250 Cost: 0.3021470383112258\n",
      "Iteration: 1260 Cost: 0.30208218244026874\n",
      "Iteration: 1270 Cost: 0.3020180202965855\n",
      "Iteration: 1280 Cost: 0.30195454227438223\n",
      "Iteration: 1290 Cost: 0.3018917389223895\n",
      "Iteration: 1300 Cost: 0.3018296009410828\n",
      "Iteration: 1310 Cost: 0.30176811917996055\n",
      "Iteration: 1320 Cost: 0.30170728463487595\n",
      "Iteration: 1330 Cost: 0.3016470884454203\n",
      "Iteration: 1340 Cost: 0.30158752189235927\n",
      "Iteration: 1350 Cost: 0.30152857639511765\n",
      "Iteration: 1360 Cost: 0.30147024350931273\n",
      "Iteration: 1370 Cost: 0.3014125149243386\n",
      "Iteration: 1380 Cost: 0.3013553824609921\n",
      "Iteration: 1390 Cost: 0.30129883806914987\n",
      "Iteration: 1400 Cost: 0.30124287382548653\n",
      "Iteration: 1410 Cost: 0.30118748193123834\n",
      "Iteration: 1420 Cost: 0.3011326547100083\n",
      "Iteration: 1430 Cost: 0.30107838460561653\n",
      "Iteration: 1440 Cost: 0.30102466417998663\n",
      "Iteration: 1450 Cost: 0.3009714861110776\n",
      "Iteration: 1460 Cost: 0.300918843190852\n",
      "Iteration: 1470 Cost: 0.3008667283232832\n",
      "Iteration: 1480 Cost: 0.3008151345224021\n",
      "Iteration: 1490 Cost: 0.30076405491037844\n",
      "Iteration: 1500 Cost: 0.30071348271564136\n",
      "Iteration: 1510 Cost: 0.3006634112710331\n",
      "Iteration: 1520 Cost: 0.30061383401199926\n",
      "Iteration: 1530 Cost: 0.3005647444748123\n",
      "Iteration: 1540 Cost: 0.30051613629482876\n",
      "Iteration: 1550 Cost: 0.3004680032047801\n",
      "Iteration: 1560 Cost: 0.3004203390330952\n",
      "Iteration: 1570 Cost: 0.3003731377022527\n",
      "Iteration: 1580 Cost: 0.30032639322716925\n",
      "Iteration: 1590 Cost: 0.3002800997136118\n",
      "Iteration: 1600 Cost: 0.30023425135664383\n",
      "Iteration: 1610 Cost: 0.30018884243909943\n",
      "Iteration: 1620 Cost: 0.30014386733008647\n",
      "Iteration: 1630 Cost: 0.30009932048351573\n",
      "Iteration: 1640 Cost: 0.30005519643666057\n",
      "Iteration: 1650 Cost: 0.30001148980874215\n",
      "Iteration: 1660 Cost: 0.2999681952995379\n",
      "Iteration: 1670 Cost: 0.2999253076880227\n",
      "Iteration: 1680 Cost: 0.2998828218310285\n",
      "Iteration: 1690 Cost: 0.29984073266193234\n",
      "Iteration: 1700 Cost: 0.2997990351893679\n",
      "Iteration: 1710 Cost: 0.2997577244959616\n",
      "Iteration: 1720 Cost: 0.29971679573709065\n",
      "Iteration: 1730 Cost: 0.2996762441396652\n",
      "Iteration: 1740 Cost: 0.299636065000932\n",
      "Iteration: 1750 Cost: 0.2995962536873007\n",
      "Iteration: 1760 Cost: 0.2995568056331924\n",
      "Iteration: 1770 Cost: 0.29951771633990854\n",
      "Iteration: 1780 Cost: 0.29947898137451867\n",
      "Iteration: 1790 Cost: 0.2994405963687731\n",
      "Iteration: 1800 Cost: 0.2994025570180311\n",
      "Iteration: 1810 Cost: 0.2993648590802114\n",
      "Iteration: 1820 Cost: 0.29932749837475936\n",
      "Iteration: 1830 Cost: 0.2992904707816364\n",
      "Iteration: 1840 Cost: 0.2992537722403251\n",
      "Iteration: 1850 Cost: 0.29921739874885145\n",
      "Iteration: 1860 Cost: 0.29918134636282945\n",
      "Iteration: 1870 Cost: 0.29914561119451744\n",
      "Iteration: 1880 Cost: 0.2991101894118962\n",
      "Iteration: 1890 Cost: 0.29907507723775967\n",
      "Iteration: 1900 Cost: 0.2990402709488254\n",
      "Iteration: 1910 Cost: 0.29900576687485875\n",
      "Iteration: 1920 Cost: 0.2989715613978151\n",
      "Iteration: 1930 Cost: 0.2989376509509937\n",
      "Iteration: 1940 Cost: 0.2989040320182117\n",
      "Iteration: 1950 Cost: 0.29887070113298847\n",
      "Iteration: 1960 Cost: 0.29883765487774705\n",
      "Iteration: 1970 Cost: 0.298804889883029\n",
      "Iteration: 1980 Cost: 0.29877240282672407\n",
      "Iteration: 1990 Cost: 0.29874019043331146\n",
      "Iteration: 2000 Cost: 0.29870824947311714\n",
      "Iteration: 2010 Cost: 0.2986765767615837\n",
      "Iteration: 2020 Cost: 0.2986451691585509\n",
      "Iteration: 2030 Cost: 0.29861402356755196\n",
      "Iteration: 2040 Cost: 0.2985831369351212\n",
      "Iteration: 2050 Cost: 0.2985525062501124\n",
      "Iteration: 2060 Cost: 0.2985221285430322\n",
      "Iteration: 2070 Cost: 0.2984920008853819\n",
      "Iteration: 2080 Cost: 0.29846212038901293\n",
      "Iteration: 2090 Cost: 0.2984324842054936\n",
      "Iteration: 2100 Cost: 0.29840308952548544\n",
      "Iteration: 2110 Cost: 0.2983739335781323\n",
      "Iteration: 2120 Cost: 0.298345013630458\n",
      "Iteration: 2130 Cost: 0.2983163269867769\n",
      "Iteration: 2140 Cost: 0.2982878709881125\n",
      "Iteration: 2150 Cost: 0.298259643011628\n",
      "Iteration: 2160 Cost: 0.298231640470065\n",
      "Iteration: 2170 Cost: 0.29820386081119254\n",
      "Iteration: 2180 Cost: 0.2981763015172668\n",
      "Iteration: 2190 Cost: 0.29814896010449854\n",
      "Iteration: 2200 Cost: 0.2981218341225298\n",
      "Iteration: 2210 Cost: 0.2980949211539218\n",
      "Iteration: 2220 Cost: 0.2980682188136472\n",
      "Iteration: 2230 Cost: 0.2980417247485969\n",
      "Iteration: 2240 Cost: 0.2980154366370895\n",
      "Iteration: 2250 Cost: 0.29798935218839345\n",
      "Iteration: 2260 Cost: 0.29796346914225497\n",
      "Iteration: 2270 Cost: 0.29793778526843445\n",
      "Iteration: 2280 Cost: 0.2979122983662522\n",
      "Iteration: 2290 Cost: 0.29788700626413883\n",
      "Iteration: 2300 Cost: 0.29786190681919733\n",
      "Iteration: 2310 Cost: 0.2978369979167679\n",
      "Iteration: 2320 Cost: 0.2978122774700044\n",
      "Iteration: 2330 Cost: 0.2977877434194556\n",
      "Iteration: 2340 Cost: 0.2977633937326528\n",
      "Iteration: 2350 Cost: 0.2977392264037082\n",
      "Iteration: 2360 Cost: 0.29771523945291367\n",
      "Iteration: 2370 Cost: 0.29769143092635303\n",
      "Iteration: 2380 Cost: 0.2976677988955164\n",
      "Iteration: 2390 Cost: 0.29764434145692165\n",
      "Iteration: 2400 Cost: 0.2976210567317439\n",
      "Iteration: 2410 Cost: 0.29759794286544905\n",
      "Iteration: 2420 Cost: 0.29757499802743576\n",
      "Iteration: 2430 Cost: 0.29755222041067975\n",
      "Iteration: 2440 Cost: 0.2975296082313883\n",
      "Iteration: 2450 Cost: 0.2975071597286574\n",
      "Iteration: 2460 Cost: 0.29748487316413486\n",
      "Iteration: 2470 Cost: 0.29746274682169116\n",
      "Iteration: 2480 Cost: 0.2974407790070933\n",
      "Iteration: 2490 Cost: 0.29741896804768403\n",
      "Iteration: 2500 Cost: 0.297397312292069\n",
      "Iteration: 2510 Cost: 0.297375810109805\n",
      "Iteration: 2520 Cost: 0.29735445989109766\n",
      "Iteration: 2530 Cost: 0.29733326004649985\n",
      "Iteration: 2540 Cost: 0.29731220900661837\n",
      "Iteration: 2550 Cost: 0.29729130522182345\n",
      "Iteration: 2560 Cost: 0.2972705471619638\n",
      "Iteration: 2570 Cost: 0.2972499333160855\n",
      "Iteration: 2580 Cost: 0.29722946219215657\n",
      "Iteration: 2590 Cost: 0.2972091323167947\n",
      "Iteration: 2600 Cost: 0.2971889422350006\n",
      "Iteration: 2610 Cost: 0.29716889050989476\n",
      "Iteration: 2620 Cost: 0.2971489757224585\n",
      "Iteration: 2630 Cost: 0.2971291964712798\n",
      "Iteration: 2640 Cost: 0.29710955137230244\n",
      "Iteration: 2650 Cost: 0.29709003905857934\n",
      "Iteration: 2660 Cost: 0.29707065818003076\n",
      "Iteration: 2670 Cost: 0.29705140740320424\n",
      "Iteration: 2680 Cost: 0.2970322854110409\n",
      "Iteration: 2690 Cost: 0.29701329090264345\n",
      "Iteration: 2700 Cost: 0.2969944225930489\n",
      "Iteration: 2710 Cost: 0.2969756792130046\n",
      "Iteration: 2720 Cost: 0.2969570595087475\n",
      "Iteration: 2730 Cost: 0.29693856224178716\n",
      "Iteration: 2740 Cost: 0.29692018618869315\n",
      "Iteration: 2750 Cost: 0.29690193014088356\n",
      "Iteration: 2760 Cost: 0.2968837929044183\n",
      "Iteration: 2770 Cost: 0.2968657732997961\n",
      "Iteration: 2780 Cost: 0.29684787016175374\n",
      "Iteration: 2790 Cost: 0.29683008233906794\n",
      "Iteration: 2800 Cost: 0.2968124086943618\n",
      "Iteration: 2810 Cost: 0.296794848103914\n",
      "Iteration: 2820 Cost: 0.2967773994574687\n",
      "Iteration: 2830 Cost: 0.29676006165805185\n",
      "Iteration: 2840 Cost: 0.29674283362178766\n",
      "Iteration: 2850 Cost: 0.29672571427771943\n",
      "Iteration: 2860 Cost: 0.2967087025676324\n",
      "Iteration: 2870 Cost: 0.29669179744587904\n",
      "Iteration: 2880 Cost: 0.29667499787920837\n",
      "Iteration: 2890 Cost: 0.2966583028465962\n",
      "Iteration: 2900 Cost: 0.29664171133907896\n",
      "Iteration: 2910 Cost: 0.29662522235959055\n",
      "Iteration: 2920 Cost: 0.2966088349227999\n",
      "Iteration: 2930 Cost: 0.296592548054953\n",
      "Iteration: 2940 Cost: 0.2965763607937161\n",
      "Iteration: 2950 Cost: 0.29656027218802167\n",
      "Iteration: 2960 Cost: 0.29654428129791655\n",
      "Iteration: 2970 Cost: 0.29652838719441305\n",
      "Iteration: 2980 Cost: 0.29651258895934046\n",
      "Iteration: 2990 Cost: 0.2964968856852017\n"
     ]
    }
   ],
   "source": [
    "epoch=3000\n",
    "alpha=4.5\n",
    "gradescent(epoch, alpha, W_history, J_history, B_history, P_history, X_train, Y_train)"
   ]
  },
  {
   "cell_type": "code",
   "execution_count": 902,
   "id": "4327e058-646b-4ba6-ba22-14f3884b3069",
   "metadata": {},
   "outputs": [],
   "source": [
    "#best cost: Iteration: 990 Cost: 0.30232651808472094\n",
    "#Iteration: 2990 Cost: 0.2964052591711286\n"
   ]
  },
  {
   "cell_type": "code",
   "execution_count": 903,
   "id": "15468fbe-8208-4ab9-9e14-6e2d087efa47",
   "metadata": {},
   "outputs": [
    {
     "data": {
      "text/plain": [
       "[<matplotlib.lines.Line2D at 0x1474e3dd0>]"
      ]
     },
     "execution_count": 903,
     "metadata": {},
     "output_type": "execute_result"
    },
    {
     "data": {
      "image/png": "[encoded data removed]",
      "text/plain": [
       "<Figure size 640x480 with 1 Axes>"
      ]
     },
     "metadata": {},
     "output_type": "display_data"
    }
   ],
   "source": [
    "plt.plot(J_history)"
   ]
  },
  {
   "cell_type": "code",
   "execution_count": 904,
   "id": "98c74a99-1fb0-4f74-b6fd-e4ee9eef27eb",
   "metadata": {},
   "outputs": [],
   "source": [
    "W_train=W_history[-1]\n",
    "B_train=B_history[-1]\n",
    "Z_train=z_calc(X_train,W_train,B_train)\n",
    "G_train=g_calc(Z_train)\n",
    "P_train=np.round(G_train)"
   ]
  },
  {
   "cell_type": "code",
   "execution_count": 905,
   "id": "3e1fbfb8-df11-4a10-8dff-20e7cc56c854",
   "metadata": {},
   "outputs": [
    {
     "data": {
      "image/png": "[encoded data removed]",
      "text/plain": [
       "<Figure size 500x400 with 2 Axes>"
      ]
     },
     "metadata": {},
     "output_type": "display_data"
    }
   ],
   "source": [
    "from sklearn.metrics import confusion_matrix\n",
    "cm = confusion_matrix(Y_train, P_train)  \n",
    "plt.figure(figsize=(5,4))\n",
    "sns.heatmap(cm, annot=True, fmt='d', cmap='Blues')\n",
    "plt.xlabel(\"Predicted\")\n",
    "plt.ylabel(\"Actual\")\n",
    "plt.title(\"Confusion Matrix\")\n",
    "plt.show()\n",
    "\n"
   ]
  },
  {
   "cell_type": "code",
   "execution_count": 906,
   "id": "4b10880d-fbcf-4c25-9abf-9593e870b12a",
   "metadata": {},
   "outputs": [
    {
     "name": "stdout",
     "output_type": "stream",
     "text": [
      "              precision    recall  f1-score   support\n",
      "\n",
      "       False       0.87      0.91      0.89      1032\n",
      "        True       0.90      0.85      0.88       968\n",
      "\n",
      "    accuracy                           0.88      2000\n",
      "   macro avg       0.89      0.88      0.88      2000\n",
      "weighted avg       0.89      0.88      0.88      2000\n",
      "\n"
     ]
    }
   ],
   "source": [
    "from sklearn.metrics import classification_report\n",
    "print(classification_report(Y_train, P_train))\n"
   ]
  },
  {
   "cell_type": "code",
   "execution_count": 907,
   "id": "b0d6a4ab-d87f-4d87-b941-a0d8d1eb9688",
   "metadata": {},
   "outputs": [
    {
     "name": "stdout",
     "output_type": "stream",
     "text": [
      "Accuracy:  88.45\n"
     ]
    }
   ],
   "source": [
    "count=0\n",
    "for i in range(len(P_train)):\n",
    "    if (P_train[i]==Y_train[i]):\n",
    "        count+=1\n",
    "print(\"Accuracy: \",count*100/len(P_train))"
   ]
  },
  {
   "cell_type": "code",
   "execution_count": 908,
   "id": "a8a652f9-cb63-48c1-8a83-865b9154f5e3",
   "metadata": {},
   "outputs": [],
   "source": [
    "# Accuracy 1 (Initial):88\n",
    "# Accuracy 2 (Removed one of the redundant features and increased the learning rate and number of epochs): 88.45"
   ]
  },
  {
   "cell_type": "markdown",
   "id": "2dadb3a0-e2d4-41cb-b23a-a9b2d3aa4342",
   "metadata": {},
   "source": [
    "<h1>Testing</h1>"
   ]
  },
  {
   "cell_type": "code",
   "execution_count": 909,
   "id": "d84dd164-e533-4410-aa63-cc9ec9a7d9e7",
   "metadata": {},
   "outputs": [],
   "source": [
    "y_pred=z_calc(X_test,W_train,B_train)\n",
    "g_pred=g_calc(y_pred)\n",
    "p_pred=np.round(g_pred)"
   ]
  },
  {
   "cell_type": "code",
   "execution_count": 910,
   "id": "20b137aa-b3c5-407f-9747-89596ce4031d",
   "metadata": {},
   "outputs": [
    {
     "data": {
      "image/png": "[encoded data removed]",
      "text/plain": [
       "<Figure size 500x400 with 2 Axes>"
      ]
     },
     "metadata": {},
     "output_type": "display_data"
    }
   ],
   "source": [
    "cm = confusion_matrix(Y_test, p_pred)  \n",
    "plt.figure(figsize=(5,4))\n",
    "sns.heatmap(cm, annot=True, fmt='d', cmap='Blues')\n",
    "plt.xlabel(\"Predicted\")\n",
    "plt.ylabel(\"Actual\")\n",
    "plt.title(\"Confusion Matrix\")\n",
    "plt.show()\n"
   ]
  },
  {
   "cell_type": "code",
   "execution_count": 911,
   "id": "97b65583-3e59-43d3-b54d-eee4a312ae04",
   "metadata": {},
   "outputs": [
    {
     "name": "stdout",
     "output_type": "stream",
     "text": [
      "              precision    recall  f1-score   support\n",
      "\n",
      "       False       0.90      0.88      0.89       268\n",
      "        True       0.87      0.89      0.88       232\n",
      "\n",
      "    accuracy                           0.89       500\n",
      "   macro avg       0.89      0.89      0.89       500\n",
      "weighted avg       0.89      0.89      0.89       500\n",
      "\n"
     ]
    }
   ],
   "source": [
    "print(classification_report(Y_test, p_pred))\n"
   ]
  },
  {
   "cell_type": "code",
   "execution_count": 912,
   "id": "b8fed09f-2c04-4970-becc-8291f266ce8d",
   "metadata": {},
   "outputs": [
    {
     "name": "stdout",
     "output_type": "stream",
     "text": [
      "Accuracy:  88.6\n"
     ]
    }
   ],
   "source": [
    "count=0\n",
    "for i in range(len(p_pred)):\n",
    "    if (p_pred[i]==Y_test[i]):\n",
    "        count+=1\n",
    "print(\"Accuracy: \",count*100/len(p_pred))"
   ]
  },
  {
   "cell_type": "code",
   "execution_count": null,
   "id": "c110fc51-4934-4564-84b3-ab4840361a19",
   "metadata": {},
   "outputs": [],
   "source": []
  },
  {
   "cell_type": "code",
   "execution_count": null,
   "id": "f9f85a95-a39e-4367-b60d-aae8e154f0c1",
   "metadata": {},
   "outputs": [],
   "source": []
  },
  {
   "cell_type": "code",
   "execution_count": null,
   "id": "c74aa19b-7c42-44aa-87eb-046062ffa845",
   "metadata": {},
   "outputs": [],
   "source": []
  }
 ],
 "metadata": {
  "kernelspec": {
   "display_name": "Python 3 (ipykernel)",
   "language": "python",
   "name": "python3"
  },
  "language_info": {
   "codemirror_mode": {
    "name": "ipython",
    "version": 3
   },
   "file_extension": ".py",
   "mimetype": "text/x-python",
   "name": "python",
   "nbconvert_exporter": "python",
   "pygments_lexer": "ipython3",
   "version": "3.12.5"
  }
 },
 "nbformat": 4,
 "nbformat_minor": 5
}

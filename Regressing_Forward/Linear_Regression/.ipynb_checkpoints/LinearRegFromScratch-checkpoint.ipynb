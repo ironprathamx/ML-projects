{
 "cells": [
  {
   "cell_type": "code",
   "execution_count": 1545,
   "id": "85745bae-41d7-4ef7-9291-df6e06e9b5ff",
   "metadata": {},
   "outputs": [],
   "source": [
    "import pandas as pd\n",
    "import numpy as np\n",
    "import matplotlib.pyplot as plt\n",
    "import seaborn as sns\n"
   ]
  },
  {
   "cell_type": "markdown",
   "id": "a5442edc-a004-4e02-9703-f709d1037ed1",
   "metadata": {},
   "source": [
    "<h1>Exploratory Data Analysis / Data Preprocessing</h1>"
   ]
  },
  {
   "cell_type": "code",
   "execution_count": 1546,
   "id": "ef0876ac-94bb-486e-95f8-3b006fead7df",
   "metadata": {},
   "outputs": [],
   "source": [
    "X_train=pd.read_csv('Train.csv', usecols=['Year','Kilometers_Driven','Fuel_Type','Transmission','Owner_Type','Mileage','Engine','Power','Seats'])\n",
    "Y_train=pd.read_csv('Train.csv', usecols=['Price'])\n",
    "X=pd.read_csv('Train.csv')"
   ]
  },
  {
   "cell_type": "code",
   "execution_count": 1547,
   "id": "ab580b65-2fad-46f4-add5-fdc0d6a175dd",
   "metadata": {},
   "outputs": [
    {
     "name": "stdout",
     "output_type": "stream",
     "text": [
      "(3750, 9)\n",
      "(3750, 1)\n"
     ]
    }
   ],
   "source": [
    "print(X_train.shape)\n",
    "print(Y_train.shape)"
   ]
  },
  {
   "cell_type": "code",
   "execution_count": 1548,
   "id": "d37067fb-4a1a-47a9-82c8-f6a0f36d9609",
   "metadata": {},
   "outputs": [
    {
     "data": {
      "text/plain": [
       "Unnamed: 0            0\n",
       "Name                  0\n",
       "Location              0\n",
       "Year                  0\n",
       "Kilometers_Driven     0\n",
       "Fuel_Type             0\n",
       "Transmission          0\n",
       "Owner_Type            0\n",
       "Mileage               1\n",
       "Engine               28\n",
       "Power                28\n",
       "Seats                32\n",
       "Price                 0\n",
       "dtype: int64"
      ]
     },
     "execution_count": 1548,
     "metadata": {},
     "output_type": "execute_result"
    }
   ],
   "source": [
    "X.isna().sum()"
   ]
  },
  {
   "cell_type": "code",
   "execution_count": 1549,
   "id": "8bd1cdfa-eb49-40aa-ad16-442655534667",
   "metadata": {},
   "outputs": [
    {
     "name": "stdout",
     "output_type": "stream",
     "text": [
      "Overview of X_train input:\n",
      "\n",
      "    Year  Kilometers_Driven Fuel_Type Transmission Owner_Type     Mileage   Engine       Power  Seats\n",
      "0  2017              16500    Petrol       Manual      First  23.84 kmpl  1199 CC      84 bhp    5.0\n",
      "1  2017              47357    Diesel    Automatic      First  18.49 kmpl  1493 CC     100 bhp    7.0\n",
      "2  2014              35000    Petrol       Manual      First   15.0 kmpl  1598 CC  103.52 bhp    5.0\n",
      "3  2007             200000    Diesel       Manual     Second   17.2 kmpl  1396 CC    53.5 bhp    5.0\n",
      "4  2013              64000    Diesel       Manual     Second  21.02 kmpl  1248 CC   88.76 bhp    5.0\n",
      "\n",
      "Overview of Y_train input:\n",
      "\n",
      "    Price\n",
      "0   5.00\n",
      "1   8.37\n",
      "2   4.50\n",
      "3   0.85\n",
      "4   2.65\n"
     ]
    }
   ],
   "source": [
    "print(\"Overview of X_train input:\\n\\n\", X_train.head(5).to_string())\n",
    "print(\"\\nOverview of Y_train input:\\n\\n\", Y_train.head(5))"
   ]
  },
  {
   "cell_type": "code",
   "execution_count": 1550,
   "id": "799e9712-6c98-41a4-a260-8a300c4944b7",
   "metadata": {},
   "outputs": [],
   "source": [
    "def preprocessing(X_train):\n",
    "    X_train['Engine'] = X_train['Engine'].str.replace('CC', '')\n",
    "    X_train['Mileage'] = X_train['Mileage'].str.replace('kmpl', '')\n",
    "    X_train['Power'] = X_train['Power'].str.replace('bhp', '')\n",
    "    X_train['Engine'] = X_train['Engine'].astype(float)\n",
    "    X_train['Mileage'] = X_train['Mileage'].astype(float)\n",
    "    X_train['Power'] = pd.to_numeric(X_train['Power'],errors='coerce')\n",
    "    X_train['Mileage']=X_train['Mileage'].fillna(X_train['Mileage'].mean())\n",
    "    X_train['Engine']=X_train['Engine'].fillna(X_train['Engine'].mean())\n",
    "    X_train['Power']=X_train['Power'].fillna(X_train['Power'].mean())\n",
    "    X_train['Seats']=X_train['Seats'].fillna(X_train['Seats'].mean())\n",
    "    owner_mapping = {\n",
    "        'First': 1,\n",
    "        'Second': 2,\n",
    "        'Third': 3,\n",
    "        'Fourth & Above': 4\n",
    "    }    \n",
    "    X_train['Owner_Type'] = X_train['Owner_Type'].map(owner_mapping)\n",
    "    return pd.get_dummies(X_train, columns=['Fuel_Type', 'Transmission'], drop_first=True)\n",
    "\n",
    "def normx(X):\n",
    "    return (X-Xmean)/Xstd\n",
    "\n",
    "def normy(Y):\n",
    "    return (Y-Ymean)/Ystd\n",
    "\n"
   ]
  },
  {
   "cell_type": "code",
   "execution_count": 1551,
   "id": "00dce27a-7fe3-4381-bfe8-2d12d8202972",
   "metadata": {},
   "outputs": [],
   "source": [
    "X_train = preprocessing(X_train)\n",
    "X=preprocessing(X)"
   ]
  },
  {
   "cell_type": "code",
   "execution_count": 1552,
   "id": "5f70c8c9-6201-4f6d-814c-1175b75a5096",
   "metadata": {},
   "outputs": [
    {
     "data": {
      "text/html": [
       "<div>\n",
       "<style scoped>\n",
       "    .dataframe tbody tr th:only-of-type {\n",
       "        vertical-align: middle;\n",
       "    }\n",
       "\n",
       "    .dataframe tbody tr th {\n",
       "        vertical-align: top;\n",
       "    }\n",
       "\n",
       "    .dataframe thead th {\n",
       "        text-align: right;\n",
       "    }\n",
       "</style>\n",
       "<table border=\"1\" class=\"dataframe\">\n",
       "  <thead>\n",
       "    <tr style=\"text-align: right;\">\n",
       "      <th></th>\n",
       "      <th>Year</th>\n",
       "      <th>Kilometers_Driven</th>\n",
       "      <th>Owner_Type</th>\n",
       "      <th>Mileage</th>\n",
       "      <th>Engine</th>\n",
       "      <th>Power</th>\n",
       "      <th>Seats</th>\n",
       "      <th>Fuel_Type_Electric</th>\n",
       "      <th>Fuel_Type_Petrol</th>\n",
       "      <th>Transmission_Manual</th>\n",
       "    </tr>\n",
       "  </thead>\n",
       "  <tbody>\n",
       "    <tr>\n",
       "      <th>330</th>\n",
       "      <td>2016</td>\n",
       "      <td>50000</td>\n",
       "      <td>1</td>\n",
       "      <td>18.041376</td>\n",
       "      <td>72.0</td>\n",
       "      <td>41.0</td>\n",
       "      <td>5.0</td>\n",
       "      <td>True</td>\n",
       "      <td>False</td>\n",
       "      <td>False</td>\n",
       "    </tr>\n",
       "  </tbody>\n",
       "</table>\n",
       "</div>"
      ],
      "text/plain": [
       "     Year  Kilometers_Driven  Owner_Type    Mileage  Engine  Power  Seats  \\\n",
       "330  2016              50000           1  18.041376    72.0   41.0    5.0   \n",
       "\n",
       "     Fuel_Type_Electric  Fuel_Type_Petrol  Transmission_Manual  \n",
       "330                True             False                False  "
      ]
     },
     "execution_count": 1552,
     "metadata": {},
     "output_type": "execute_result"
    }
   ],
   "source": [
    "X_train[X_train['Fuel_Type_Electric']==True]"
   ]
  },
  {
   "cell_type": "code",
   "execution_count": 1553,
   "id": "0d3ada5c-a349-44f5-b4e0-75ecd73d6f0b",
   "metadata": {},
   "outputs": [
    {
     "name": "stdout",
     "output_type": "stream",
     "text": [
      "\n",
      "Detailed analysis of X_train input:\n",
      "\n",
      "               Year  Kilometers_Driven  Owner_Type      Mileage       Engine        Power        Seats\n",
      "count  3750.000000        3750.000000  3750.00000  3750.000000  3750.000000  3750.000000  3750.000000\n",
      "mean   2013.313333       58128.811733     1.20000    18.041376  1621.910532   113.589670     5.277838\n",
      "std       3.264250       40343.978048     0.45496     4.522298   599.457483    53.515557     0.802768\n",
      "min    1998.000000        1000.000000     1.00000     0.000000    72.000000    34.200000     2.000000\n",
      "25%    2011.000000       34000.000000     1.00000    15.260000  1198.000000    78.000000     5.000000\n",
      "50%    2014.000000       53000.000000     1.00000    18.000000  1495.000000    98.600000     5.000000\n",
      "75%    2016.000000       73157.750000     1.00000    20.890000  1984.000000   138.067500     5.000000\n",
      "max    2019.000000      775000.000000     4.00000    28.400000  5461.000000   550.000000    10.000000\n",
      "\n",
      "Detailed analysis of X_train input:\n",
      "\n",
      "              Price\n",
      "count  3750.000000\n",
      "mean      9.498632\n",
      "std      11.207836\n",
      "min       0.440000\n",
      "25%       3.500000\n",
      "50%       5.665000\n",
      "75%       9.900000\n",
      "max     160.000000\n"
     ]
    }
   ],
   "source": [
    "print(\"\\nDetailed analysis of X_train input:\\n\\n\", X_train.describe().to_string())\n",
    "print(\"\\nDetailed analysis of X_train input:\\n\\n\", Y_train.describe().to_string())"
   ]
  },
  {
   "cell_type": "markdown",
   "id": "17876775-37fa-4cd0-a86d-cb54ce20dc7d",
   "metadata": {},
   "source": [
    "<h2>Outlier Detection</h2>"
   ]
  },
  {
   "cell_type": "code",
   "execution_count": 1554,
   "id": "4e463db6-900f-44ba-be25-6cf4877ff8c0",
   "metadata": {},
   "outputs": [
    {
     "data": {
      "text/plain": [
       "Fuel_Type_Electric\n",
       "False    3749\n",
       "True        1\n",
       "Name: count, dtype: int64"
      ]
     },
     "execution_count": 1554,
     "metadata": {},
     "output_type": "execute_result"
    }
   ],
   "source": [
    "#Since there is only one EV, we can remove this column.\n",
    "X_train['Fuel_Type_Electric'].value_counts()"
   ]
  },
  {
   "cell_type": "code",
   "execution_count": 1555,
   "id": "4c14a0d6-4c98-4351-bd33-86580118d5af",
   "metadata": {},
   "outputs": [],
   "source": [
    "#X_train = X_train.drop(columns=['Fuel_Type_Electric'])"
   ]
  },
  {
   "cell_type": "code",
   "execution_count": 1556,
   "id": "03b2a4f9-aecd-4436-836d-b0ccaebe70a3",
   "metadata": {
    "scrolled": true
   },
   "outputs": [
    {
     "name": "stdout",
     "output_type": "stream",
     "text": [
      "Stange phenomenon observed as it is not possible for a working car to have a mileage of zero.\n",
      "\n",
      "Number of datapoints where car has zero mileage: 46\n"
     ]
    },
    {
     "data": {
      "text/html": [
       "<div>\n",
       "<style scoped>\n",
       "    .dataframe tbody tr th:only-of-type {\n",
       "        vertical-align: middle;\n",
       "    }\n",
       "\n",
       "    .dataframe tbody tr th {\n",
       "        vertical-align: top;\n",
       "    }\n",
       "\n",
       "    .dataframe thead th {\n",
       "        text-align: right;\n",
       "    }\n",
       "</style>\n",
       "<table border=\"1\" class=\"dataframe\">\n",
       "  <thead>\n",
       "    <tr style=\"text-align: right;\">\n",
       "      <th></th>\n",
       "      <th>Year</th>\n",
       "      <th>Kilometers_Driven</th>\n",
       "      <th>Owner_Type</th>\n",
       "      <th>Mileage</th>\n",
       "      <th>Engine</th>\n",
       "      <th>Power</th>\n",
       "      <th>Seats</th>\n",
       "      <th>Fuel_Type_Electric</th>\n",
       "      <th>Fuel_Type_Petrol</th>\n",
       "      <th>Transmission_Manual</th>\n",
       "    </tr>\n",
       "  </thead>\n",
       "  <tbody>\n",
       "    <tr>\n",
       "      <th>74</th>\n",
       "      <td>2005</td>\n",
       "      <td>120000</td>\n",
       "      <td>1</td>\n",
       "      <td>0.0</td>\n",
       "      <td>1086.000000</td>\n",
       "      <td>113.58967</td>\n",
       "      <td>5.000000</td>\n",
       "      <td>False</td>\n",
       "      <td>True</td>\n",
       "      <td>True</td>\n",
       "    </tr>\n",
       "    <tr>\n",
       "      <th>130</th>\n",
       "      <td>2003</td>\n",
       "      <td>75000</td>\n",
       "      <td>2</td>\n",
       "      <td>0.0</td>\n",
       "      <td>1621.910532</td>\n",
       "      <td>113.58967</td>\n",
       "      <td>5.277838</td>\n",
       "      <td>False</td>\n",
       "      <td>False</td>\n",
       "      <td>False</td>\n",
       "    </tr>\n",
       "    <tr>\n",
       "      <th>148</th>\n",
       "      <td>2019</td>\n",
       "      <td>15369</td>\n",
       "      <td>1</td>\n",
       "      <td>0.0</td>\n",
       "      <td>1950.000000</td>\n",
       "      <td>194.00000</td>\n",
       "      <td>5.000000</td>\n",
       "      <td>False</td>\n",
       "      <td>False</td>\n",
       "      <td>False</td>\n",
       "    </tr>\n",
       "    <tr>\n",
       "      <th>239</th>\n",
       "      <td>2008</td>\n",
       "      <td>55001</td>\n",
       "      <td>2</td>\n",
       "      <td>0.0</td>\n",
       "      <td>1621.910532</td>\n",
       "      <td>113.58967</td>\n",
       "      <td>5.277838</td>\n",
       "      <td>False</td>\n",
       "      <td>False</td>\n",
       "      <td>False</td>\n",
       "    </tr>\n",
       "    <tr>\n",
       "      <th>260</th>\n",
       "      <td>2015</td>\n",
       "      <td>20000</td>\n",
       "      <td>1</td>\n",
       "      <td>0.0</td>\n",
       "      <td>2987.000000</td>\n",
       "      <td>165.00000</td>\n",
       "      <td>5.000000</td>\n",
       "      <td>False</td>\n",
       "      <td>False</td>\n",
       "      <td>False</td>\n",
       "    </tr>\n",
       "  </tbody>\n",
       "</table>\n",
       "</div>"
      ],
      "text/plain": [
       "     Year  Kilometers_Driven  Owner_Type  Mileage       Engine      Power  \\\n",
       "74   2005             120000           1      0.0  1086.000000  113.58967   \n",
       "130  2003              75000           2      0.0  1621.910532  113.58967   \n",
       "148  2019              15369           1      0.0  1950.000000  194.00000   \n",
       "239  2008              55001           2      0.0  1621.910532  113.58967   \n",
       "260  2015              20000           1      0.0  2987.000000  165.00000   \n",
       "\n",
       "        Seats  Fuel_Type_Electric  Fuel_Type_Petrol  Transmission_Manual  \n",
       "74   5.000000               False              True                 True  \n",
       "130  5.277838               False             False                False  \n",
       "148  5.000000               False             False                False  \n",
       "239  5.277838               False             False                False  \n",
       "260  5.000000               False             False                False  "
      ]
     },
     "execution_count": 1556,
     "metadata": {},
     "output_type": "execute_result"
    }
   ],
   "source": [
    "print(\"Stange phenomenon observed as it is not possible for a working car to have a mileage of zero.\\n\")\n",
    "print(\"Number of datapoints where car has zero mileage:\",(X['Mileage'] == 0).sum())\n",
    "X_train[X_train['Mileage'] == 0].head() #Strange."
   ]
  },
  {
   "cell_type": "code",
   "execution_count": 1557,
   "id": "71d2862b-49c7-47e1-a7cc-3dd285ad56ad",
   "metadata": {},
   "outputs": [],
   "source": [
    "mileage_mask = X_train['Mileage'] != 0\n",
    "X_train = X_train[mileage_mask].reset_index(drop=True)\n",
    "Y_train = Y_train[mileage_mask].reset_index(drop=True)"
   ]
  },
  {
   "cell_type": "code",
   "execution_count": 1558,
   "id": "1e0c1686-42db-4979-9d2e-6b6fecb3dca9",
   "metadata": {},
   "outputs": [
    {
     "name": "stdout",
     "output_type": "stream",
     "text": [
      "      Year  Kilometers_Driven  Owner_Type    Mileage  Engine   Power  Seats  \\\n",
      "325   2016              50000           1  18.041376    72.0   41.00    5.0   \n",
      "131   2014              19698           1  25.400000   624.0   37.50    4.0   \n",
      "3559  2016               5240           1  21.900000   624.0   37.48    4.0   \n",
      "622   2014              25500           1  25.400000   624.0   37.50    4.0   \n",
      "1005  2017              14149           1  23.900000   624.0   37.48    4.0   \n",
      "...    ...                ...         ...        ...     ...     ...    ...   \n",
      "3334  2008              73000           1   8.500000  4806.0  500.00    5.0   \n",
      "819   2010              42400           3   8.000000  4806.0  394.30    4.0   \n",
      "2164  2018              21290           1  13.000000  4951.0  395.00    4.0   \n",
      "2568  2014               3000           2  12.000000  5461.0  421.00    2.0   \n",
      "3296  2010              35000           1   8.100000  5461.0  387.30    2.0   \n",
      "\n",
      "      Fuel_Type_Electric  Fuel_Type_Petrol  Transmission_Manual  \n",
      "325                 True             False                False  \n",
      "131                False              True                 True  \n",
      "3559               False              True                False  \n",
      "622                False              True                 True  \n",
      "1005               False              True                 True  \n",
      "...                  ...               ...                  ...  \n",
      "3334               False              True                False  \n",
      "819                False              True                False  \n",
      "2164               False              True                False  \n",
      "2568               False              True                False  \n",
      "3296               False              True                False  \n",
      "\n",
      "[3704 rows x 10 columns]\n"
     ]
    }
   ],
   "source": [
    "#We can clearly see that the model with 72cc is an outlier. But it is also the only electric car in the database and if i remove it, the Fuel_electric column becomes meaningless and my r2 score takes a massive hit.\n",
    "print(X_train.sort_values(by='Engine', ascending=True))"
   ]
  },
  {
   "cell_type": "code",
   "execution_count": 1559,
   "id": "24b800cc-578e-402a-a9dc-2e70a6dd67fa",
   "metadata": {},
   "outputs": [
    {
     "name": "stdout",
     "output_type": "stream",
     "text": [
      "      Year  Kilometers_Driven  Owner_Type  Mileage  Engine  Power  Seats  \\\n",
      "679   2011               5900           1     7.94  4395.0  450.0    4.0   \n",
      "819   2010              42400           3     8.00  4806.0  394.3    4.0   \n",
      "1030  2010              50161           1     8.77  4395.0  402.0    5.0   \n",
      "2120  2010              35000           2    11.90  4806.0  550.0    5.0   \n",
      "2164  2018              21290           1    13.00  4951.0  395.0    4.0   \n",
      "2568  2014               3000           2    12.00  5461.0  421.0    2.0   \n",
      "2903  2012              84384           1    10.20  4367.0  308.0    7.0   \n",
      "3296  2010              35000           1     8.10  5461.0  387.3    2.0   \n",
      "3334  2008              73000           1     8.50  4806.0  500.0    5.0   \n",
      "3433  2011              55000           1    10.20  4367.0  308.0    7.0   \n",
      "3516  2010              65329           1     7.94  4395.0  450.0    4.0   \n",
      "3557  2012              66538           1    10.20  4367.0  308.0    7.0   \n",
      "3672  2012              63000           2    11.49  4367.0  335.3    5.0   \n",
      "\n",
      "      Fuel_Type_Electric  Fuel_Type_Petrol  Transmission_Manual  \n",
      "679                False              True                False  \n",
      "819                False              True                False  \n",
      "1030               False              True                False  \n",
      "2120               False              True                False  \n",
      "2164               False              True                False  \n",
      "2568               False              True                False  \n",
      "2903               False             False                False  \n",
      "3296               False              True                False  \n",
      "3334               False              True                False  \n",
      "3433               False             False                False  \n",
      "3516               False              True                False  \n",
      "3557               False             False                False  \n",
      "3672               False             False                False  \n"
     ]
    }
   ],
   "source": [
    "#Since there are only 13 cars which have cc of over 4.3k, they are outliers.\n",
    "print((X_train[X_train['Engine']>4300]))"
   ]
  },
  {
   "cell_type": "code",
   "execution_count": 1560,
   "id": "61519a1a-14c5-49fd-bd37-b18be415201c",
   "metadata": {},
   "outputs": [],
   "source": [
    "engine_mask = (X_train['Engine'] <= 4300)\n",
    "X_train = X_train[engine_mask].reset_index(drop=True)\n",
    "Y_train = Y_train[engine_mask].reset_index(drop=True)"
   ]
  },
  {
   "cell_type": "code",
   "execution_count": 1561,
   "id": "b3c3b506-f984-4dbf-882e-38a10238d5e9",
   "metadata": {},
   "outputs": [
    {
     "name": "stdout",
     "output_type": "stream",
     "text": [
      "\n",
      "Detailed analysis of X_train input:\n",
      "\n",
      "               Year  Kilometers_Driven   Owner_Type      Mileage       Engine        Power        Seats\n",
      "count  3691.000000        3691.000000  3691.000000  3691.000000  3691.000000  3691.000000  3691.000000\n",
      "mean   2013.369548       58023.841506     1.197237    18.295021  1610.853755   112.476573     5.283498\n",
      "std       3.219349       40408.185930     0.451559     4.050951   570.021756    50.772157     0.800597\n",
      "min    1998.000000        1000.000000     1.000000     8.300000    72.000000    34.200000     2.000000\n",
      "25%    2011.000000       34000.000000     1.000000    15.400000  1198.000000    77.500000     5.000000\n",
      "50%    2014.000000       53000.000000     1.000000    18.160000  1493.000000    98.600000     5.000000\n",
      "75%    2016.000000       73056.000000     1.000000    21.020000  1968.000000   138.030000     5.000000\n",
      "max    2019.000000      775000.000000     4.000000    28.400000  4134.000000   444.000000    10.000000\n",
      "\n",
      "Detailed analysis of X_train input:\n",
      "\n",
      "              Price\n",
      "count  3691.000000\n",
      "mean      9.342319\n",
      "std      10.864209\n",
      "min       0.440000\n",
      "25%       3.500000\n",
      "50%       5.670000\n",
      "75%       9.750000\n",
      "max     160.000000\n"
     ]
    }
   ],
   "source": [
    "print(\"\\nDetailed analysis of X_train input:\\n\\n\", X_train.describe().to_string())\n",
    "print(\"\\nDetailed analysis of X_train input:\\n\\n\", Y_train.describe().to_string())"
   ]
  },
  {
   "cell_type": "code",
   "execution_count": 1562,
   "id": "75c17af3-15f3-4545-b662-167c7f837ac6",
   "metadata": {},
   "outputs": [
    {
     "name": "stdout",
     "output_type": "stream",
     "text": [
      "      Year  Kilometers_Driven  Owner_Type  Mileage  Engine   Power  Seats  \\\n",
      "2459  2013              23000           1    11.05  2894.0  444.00    4.0   \n",
      "2353  2013              23312           1    11.05  2894.0  444.00    4.0   \n",
      "1515  2018              22397           1    11.50  2996.0  367.00    5.0   \n",
      "952   2006              47088           2    10.13  3498.0  364.90    5.0   \n",
      "2755  2006             103000           1    10.13  3498.0  364.90    5.0   \n",
      "1448  2007              55000           3    10.13  3498.0  364.90    5.0   \n",
      "407   2017              13372           1    19.00  2996.0  362.07    2.0   \n",
      "1524  2016              51002           1    11.33  4134.0  335.20    7.0   \n",
      "3296  2015              50000           1    11.33  4134.0  335.20    7.0   \n",
      "1414  2015              56238           1    11.33  4134.0  335.20    7.0   \n",
      "2628  2015               7501           1    10.00  2996.0  333.00    4.0   \n",
      "1685  2018              28060           1    12.05  2979.0  320.00    5.0   \n",
      "3269  2018              20004           1    17.54  2993.0  313.00    4.0   \n",
      "2830  2011              30000           1     9.52  2993.0  313.00    4.0   \n",
      "1901  2013              30000           1     9.52  2993.0  313.00    4.0   \n",
      "3064  2013              21000           2    17.54  2993.0  313.00    4.0   \n",
      "1949  2016              25000           1    15.87  2993.0  308.43    5.0   \n",
      "3674  2013              58000           1    11.20  2993.0  306.00    4.0   \n",
      "3189  2015              10000           1    18.10  3498.0  306.00    2.0   \n",
      "1275  2016              22732           1    18.10  3498.0  306.00    2.0   \n",
      "\n",
      "      Fuel_Type_Electric  Fuel_Type_Petrol  Transmission_Manual  \n",
      "2459               False              True                False  \n",
      "2353               False              True                False  \n",
      "1515               False              True                False  \n",
      "952                False              True                False  \n",
      "2755               False              True                False  \n",
      "1448               False              True                False  \n",
      "407                False              True                False  \n",
      "1524               False             False                False  \n",
      "3296               False             False                False  \n",
      "1414               False             False                False  \n",
      "2628               False              True                False  \n",
      "1685               False              True                False  \n",
      "3269               False             False                False  \n",
      "2830               False             False                False  \n",
      "1901               False             False                False  \n",
      "3064               False             False                False  \n",
      "1949               False             False                False  \n",
      "3674               False             False                False  \n",
      "3189               False              True                False  \n",
      "1275               False              True                False  \n"
     ]
    }
   ],
   "source": [
    "print(X_train.sort_values(by='Power', ascending=False).head(20))"
   ]
  },
  {
   "cell_type": "code",
   "execution_count": 1563,
   "id": "1c3e1bdc-9049-4946-9b0e-a2628a30c3c4",
   "metadata": {},
   "outputs": [],
   "source": [
    "power_mask= (X_train['Power'] >= 40) & (X_train['Power'] <=400)\n",
    "X_train = X_train[power_mask].reset_index(drop=True)\n",
    "Y_train = Y_train[power_mask].reset_index(drop=True)"
   ]
  },
  {
   "cell_type": "code",
   "execution_count": 1564,
   "id": "1e0e6164-1ea3-415c-b7a2-54d7f2001644",
   "metadata": {},
   "outputs": [
    {
     "data": {
      "text/plain": [
       "<Axes: >"
      ]
     },
     "execution_count": 1564,
     "metadata": {},
     "output_type": "execute_result"
    },
    {
     "data": {
      "image/png": "[encoded data removed]",
      "text/plain": [
       "<Figure size 640x480 with 2 Axes>"
      ]
     },
     "metadata": {},
     "output_type": "display_data"
    }
   ],
   "source": [
    "corr = X[['Year','Kilometers_Driven','Owner_Type','Mileage','Engine','Power','Seats','Price']].corr()\n",
    "sns.heatmap(corr,annot=True,cmap='coolwarm')"
   ]
  },
  {
   "cell_type": "markdown",
   "id": "d1d81b3f-07d4-4dc0-a024-84047fface97",
   "metadata": {},
   "source": [
    "<h1>Training</h1>"
   ]
  },
  {
   "cell_type": "code",
   "execution_count": 1565,
   "id": "666ca7e0-c95f-448d-ab04-202aa10a067a",
   "metadata": {},
   "outputs": [],
   "source": [
    "Xmean=X_train.mean()\n",
    "Xstd=X_train.std()\n",
    "Ystd=Y_train.std().item()\n",
    "Ymean=Y_train.mean().item()\n",
    "X_train = normx(X_train)\n",
    "Y_train = normy(Y_train)"
   ]
  },
  {
   "cell_type": "code",
   "execution_count": 1566,
   "id": "87a2dcd2-156c-4179-a030-bce69ec13b9d",
   "metadata": {},
   "outputs": [
    {
     "name": "stdout",
     "output_type": "stream",
     "text": [
      "Year                   0\n",
      "Kilometers_Driven      0\n",
      "Owner_Type             0\n",
      "Mileage                0\n",
      "Engine                 0\n",
      "Power                  0\n",
      "Seats                  0\n",
      "Fuel_Type_Electric     0\n",
      "Fuel_Type_Petrol       0\n",
      "Transmission_Manual    0\n",
      "dtype: int64\n"
     ]
    }
   ],
   "source": [
    "print(X_train.isna().sum())\n"
   ]
  },
  {
   "cell_type": "code",
   "execution_count": 1567,
   "id": "b7f2b9b8-ff85-4415-a259-72b0956d9934",
   "metadata": {},
   "outputs": [],
   "source": [
    "X_train = X_train.to_numpy()\n",
    "Y_train = Y_train.to_numpy()"
   ]
  },
  {
   "cell_type": "code",
   "execution_count": 1568,
   "id": "3b8f9eae-63da-436a-805c-76b57c173506",
   "metadata": {},
   "outputs": [
    {
     "name": "stdout",
     "output_type": "stream",
     "text": [
      "0\n"
     ]
    }
   ],
   "source": [
    "print(np.isnan(X_train).sum())\n"
   ]
  },
  {
   "cell_type": "code",
   "execution_count": 1569,
   "id": "7b908b35-c12e-4fbe-8592-1d650e22300f",
   "metadata": {},
   "outputs": [],
   "source": [
    "W_train = np.ones((X_train.shape[1], 1))\n",
    "B_train= 0.0"
   ]
  },
  {
   "cell_type": "code",
   "execution_count": 1570,
   "id": "5cd3a606-c8b4-47bc-a7eb-379483ebb2b7",
   "metadata": {},
   "outputs": [],
   "source": [
    "def compute_cost(Y,Yp):\n",
    "    cost = (Y-Yp)**2/(2*Y.size)\n",
    "    return cost.sum()\n",
    "\n",
    "def z_calc(X,W,B):\n",
    "    return np.matmul(X,W)+B"
   ]
  },
  {
   "cell_type": "code",
   "execution_count": 1571,
   "id": "156b1ffc-d103-41e5-a22b-e2dde69f6e81",
   "metadata": {},
   "outputs": [
    {
     "data": {
      "text/plain": [
       "array([[ 1.03950626],\n",
       "       [-0.36799734],\n",
       "       [-0.52981301],\n",
       "       ...,\n",
       "       [-3.04828393],\n",
       "       [-0.77593362],\n",
       "       [-1.86000262]])"
      ]
     },
     "execution_count": 1571,
     "metadata": {},
     "output_type": "execute_result"
    }
   ],
   "source": [
    "Z_train=z_calc(X_train,W_train,B_train)\n",
    "Z_train"
   ]
  },
  {
   "cell_type": "code",
   "execution_count": 1572,
   "id": "23bf20d2-24eb-4a05-8dd1-955e40bca852",
   "metadata": {},
   "outputs": [
    {
     "name": "stdout",
     "output_type": "stream",
     "text": [
      "(3644, 10)\n",
      "(3644, 1)\n",
      "(3644, 1)\n"
     ]
    }
   ],
   "source": [
    "print(X_train.shape)\n",
    "print(Y_train.shape)\n",
    "print(Z_train.shape)"
   ]
  },
  {
   "cell_type": "code",
   "execution_count": 1573,
   "id": "24f08843-9062-4b3c-8171-791e20a0a40b",
   "metadata": {},
   "outputs": [],
   "source": [
    "W_history=[]\n",
    "B_history=[]\n",
    "Z_history=[]\n",
    "J_history=[]\n",
    "W_history.append(W_train)\n",
    "B_history.append(B_train)\n",
    "Z_history.append(Z_train)\n",
    "J_history.append(compute_cost(Y_train,Z_train))"
   ]
  },
  {
   "cell_type": "code",
   "execution_count": 1574,
   "id": "a983b93b-57a5-426e-b9c5-359c5a30c855",
   "metadata": {},
   "outputs": [],
   "source": [
    "def gradescent(epoch, alpha, W_history, J_history, B_history, Z_history, X_train, Y_train, Z_train):\n",
    "    for i in range(epoch):\n",
    "        W_history.append(W_history[-1]-alpha/X_train.shape[0]*X_train.T@(Z_train-Y_train))\n",
    "        B_history.append(B_history[-1]-alpha/X_train.shape[0]*np.sum((Z_train-Y_train)))\n",
    "        Z_train = z_calc(X_train, W_history[-1], B_history[-1])\n",
    "        Z_history.append(Z_train)\n",
    "        J_history.append(compute_cost(Y_train,Z_train))\n",
    "        if (i%10)==0:\n",
    "            print(\"Iteration:\",i, \"Cost:\", J_history[-1])"
   ]
  },
  {
   "cell_type": "code",
   "execution_count": 1575,
   "id": "064e501a-949b-4247-aef5-9d37f6b54ffe",
   "metadata": {},
   "outputs": [
    {
     "name": "stdout",
     "output_type": "stream",
     "text": [
      "Iteration: 0 Cost: 1.2239614025671632\n",
      "Iteration: 10 Cost: 0.23495193828725774\n",
      "Iteration: 20 Cost: 0.17270513662570353\n",
      "Iteration: 30 Cost: 0.1591835908598526\n",
      "Iteration: 40 Cost: 0.15535939951410443\n",
      "Iteration: 50 Cost: 0.15406676089591873\n",
      "Iteration: 60 Cost: 0.15354757877726577\n",
      "Iteration: 70 Cost: 0.15330810625793956\n",
      "Iteration: 80 Cost: 0.15318764000261006\n",
      "Iteration: 90 Cost: 0.15312421038010096\n",
      "Iteration: 100 Cost: 0.1530900787802051\n",
      "Iteration: 110 Cost: 0.15307153068785584\n",
      "Iteration: 120 Cost: 0.1530614070361058\n",
      "Iteration: 130 Cost: 0.15305587090595385\n",
      "Iteration: 140 Cost: 0.15305284093671387\n",
      "Iteration: 150 Cost: 0.15305118200607376\n",
      "Iteration: 160 Cost: 0.15305027358531137\n",
      "Iteration: 170 Cost: 0.15304977610508982\n",
      "Iteration: 180 Cost: 0.1530495036608599\n",
      "Iteration: 190 Cost: 0.15304935445527568\n",
      "Iteration: 200 Cost: 0.1530492727415511\n",
      "Iteration: 210 Cost: 0.1530492279902148\n",
      "Iteration: 220 Cost: 0.15304920348167284\n",
      "Iteration: 230 Cost: 0.15304919005930467\n",
      "Iteration: 240 Cost: 0.15304918270839804\n",
      "Iteration: 250 Cost: 0.15304917868259338\n",
      "Iteration: 260 Cost: 0.15304917647781713\n",
      "Iteration: 270 Cost: 0.15304917527034714\n",
      "Iteration: 280 Cost: 0.15304917460906292\n",
      "Iteration: 290 Cost: 0.15304917424690329\n",
      "Iteration: 300 Cost: 0.1530491740485626\n",
      "Iteration: 310 Cost: 0.15304917393993916\n",
      "Iteration: 320 Cost: 0.1530491738804503\n",
      "Iteration: 330 Cost: 0.1530491738478706\n",
      "Iteration: 340 Cost: 0.15304917383002797\n",
      "Iteration: 350 Cost: 0.1530491738202562\n",
      "Iteration: 360 Cost: 0.15304917381490468\n",
      "Iteration: 370 Cost: 0.1530491738119738\n",
      "Iteration: 380 Cost: 0.1530491738103687\n",
      "Iteration: 390 Cost: 0.1530491738094896\n",
      "Iteration: 400 Cost: 0.1530491738090082\n",
      "Iteration: 410 Cost: 0.15304917380874455\n",
      "Iteration: 420 Cost: 0.15304917380860011\n",
      "Iteration: 430 Cost: 0.15304917380852107\n",
      "Iteration: 440 Cost: 0.15304917380847774\n",
      "Iteration: 450 Cost: 0.15304917380845404\n",
      "Iteration: 460 Cost: 0.15304917380844105\n",
      "Iteration: 470 Cost: 0.1530491738084339\n",
      "Iteration: 480 Cost: 0.15304917380843003\n",
      "Iteration: 490 Cost: 0.1530491738084279\n",
      "Iteration: 500 Cost: 0.15304917380842675\n",
      "Iteration: 510 Cost: 0.1530491738084261\n",
      "Iteration: 520 Cost: 0.15304917380842575\n",
      "Iteration: 530 Cost: 0.15304917380842553\n",
      "Iteration: 540 Cost: 0.15304917380842548\n",
      "Iteration: 550 Cost: 0.1530491738084254\n",
      "Iteration: 560 Cost: 0.15304917380842534\n",
      "Iteration: 570 Cost: 0.1530491738084253\n",
      "Iteration: 580 Cost: 0.1530491738084253\n",
      "Iteration: 590 Cost: 0.1530491738084253\n",
      "Iteration: 600 Cost: 0.1530491738084253\n",
      "Iteration: 610 Cost: 0.15304917380842534\n",
      "Iteration: 620 Cost: 0.15304917380842534\n",
      "Iteration: 630 Cost: 0.1530491738084253\n",
      "Iteration: 640 Cost: 0.1530491738084253\n",
      "Iteration: 650 Cost: 0.1530491738084253\n",
      "Iteration: 660 Cost: 0.1530491738084253\n",
      "Iteration: 670 Cost: 0.15304917380842534\n",
      "Iteration: 680 Cost: 0.1530491738084253\n",
      "Iteration: 690 Cost: 0.1530491738084253\n",
      "Iteration: 700 Cost: 0.1530491738084253\n",
      "Iteration: 710 Cost: 0.1530491738084253\n",
      "Iteration: 720 Cost: 0.15304917380842534\n",
      "Iteration: 730 Cost: 0.1530491738084253\n",
      "Iteration: 740 Cost: 0.15304917380842534\n",
      "Iteration: 750 Cost: 0.1530491738084253\n",
      "Iteration: 760 Cost: 0.1530491738084253\n",
      "Iteration: 770 Cost: 0.1530491738084253\n",
      "Iteration: 780 Cost: 0.15304917380842534\n",
      "Iteration: 790 Cost: 0.15304917380842534\n",
      "Iteration: 800 Cost: 0.15304917380842534\n",
      "Iteration: 810 Cost: 0.15304917380842534\n",
      "Iteration: 820 Cost: 0.1530491738084253\n",
      "Iteration: 830 Cost: 0.1530491738084253\n",
      "Iteration: 840 Cost: 0.15304917380842534\n",
      "Iteration: 850 Cost: 0.1530491738084253\n",
      "Iteration: 860 Cost: 0.15304917380842537\n",
      "Iteration: 870 Cost: 0.15304917380842534\n",
      "Iteration: 880 Cost: 0.1530491738084253\n",
      "Iteration: 890 Cost: 0.1530491738084253\n",
      "Iteration: 900 Cost: 0.1530491738084253\n",
      "Iteration: 910 Cost: 0.1530491738084253\n",
      "Iteration: 920 Cost: 0.1530491738084253\n",
      "Iteration: 930 Cost: 0.15304917380842534\n",
      "Iteration: 940 Cost: 0.1530491738084253\n",
      "Iteration: 950 Cost: 0.15304917380842534\n",
      "Iteration: 960 Cost: 0.1530491738084253\n",
      "Iteration: 970 Cost: 0.15304917380842534\n",
      "Iteration: 980 Cost: 0.1530491738084253\n",
      "Iteration: 990 Cost: 0.1530491738084253\n"
     ]
    }
   ],
   "source": [
    "epoch=1000\n",
    "alpha=.4\n",
    "gradescent(epoch, alpha, W_history, J_history, B_history, Z_history, X_train, Y_train, Z_train)"
   ]
  },
  {
   "cell_type": "code",
   "execution_count": 1576,
   "id": "05c37d78-9f3b-4fec-8f45-6f175c11a098",
   "metadata": {},
   "outputs": [
    {
     "data": {
      "image/png": "[encoded data removed]",
      "text/plain": [
       "<Figure size 640x480 with 1 Axes>"
      ]
     },
     "metadata": {},
     "output_type": "display_data"
    }
   ],
   "source": [
    "plt.plot(J_history)\n",
    "plt.xlabel('Iteration')\n",
    "plt.ylabel('Cost')\n",
    "plt.title('Cost Function Convergence')\n",
    "plt.grid(True)\n",
    "plt.show()"
   ]
  },
  {
   "cell_type": "code",
   "execution_count": 1577,
   "id": "77cb5b3b-f191-43fe-8f5f-a38643ad6d96",
   "metadata": {},
   "outputs": [],
   "source": [
    "Y_train=Y_train*Ystd+Ymean\n",
    "Z_train=Z_history[-1]\n",
    "Z_train=Z_train*Ystd+Ymean"
   ]
  },
  {
   "cell_type": "code",
   "execution_count": 1578,
   "id": "80a1dfef-13c2-4a30-bd38-0f021db05bde",
   "metadata": {},
   "outputs": [
    {
     "data": {
      "text/plain": [
       "np.float64(-15.177254546620095)"
      ]
     },
     "execution_count": 1578,
     "metadata": {},
     "output_type": "execute_result"
    }
   ],
   "source": [
    "Z_train.min()"
   ]
  },
  {
   "cell_type": "code",
   "execution_count": 1579,
   "id": "543874e1-6288-4a22-8fab-34479edfd801",
   "metadata": {},
   "outputs": [
    {
     "data": {
      "image/png": "[encoded data removed]",
      "text/plain": [
       "<Figure size 640x480 with 1 Axes>"
      ]
     },
     "metadata": {},
     "output_type": "display_data"
    }
   ],
   "source": [
    "plt.scatter(Y_train, Z_train, alpha=0.5)\n",
    "plt.plot([Y_train.min(), Y_train.max()], [Y_train.min(), Y_train.max()], 'r--')  # Diagonal\n",
    "plt.xlabel(\"Actual Y\")\n",
    "plt.ylabel(\"Predicted Y\")\n",
    "plt.title(\"Actual vs Predicted\")\n",
    "plt.grid(True)\n",
    "plt.show()"
   ]
  },
  {
   "cell_type": "code",
   "execution_count": 1580,
   "id": "8602da6d-bf99-4303-aa14-7444cd0f9d08",
   "metadata": {},
   "outputs": [
    {
     "name": "stdout",
     "output_type": "stream",
     "text": [
      "R² score: 0.6938176286808115\n"
     ]
    }
   ],
   "source": [
    "ss_res = ((Y_train - Z_train) ** 2).sum()         # Residual sum of squares\n",
    "ss_tot = ((Y_train - Y_train.mean()) ** 2).sum()  # Total sum of squares\n",
    "\n",
    "r2 = 1 - ss_res/ss_tot\n",
    "\n",
    "print(\"R² score:\", r2)"
   ]
  },
  {
   "cell_type": "code",
   "execution_count": 1581,
   "id": "de43bfa9-4f94-4e83-8986-b7c9f0411e2c",
   "metadata": {},
   "outputs": [],
   "source": [
    "W=W_history[-1]\n",
    "B=B_history[-1]"
   ]
  },
  {
   "cell_type": "code",
   "execution_count": 1582,
   "id": "1b065a24-0ae5-46ef-9823-10ba049e9e97",
   "metadata": {},
   "outputs": [
    {
     "data": {
      "text/plain": [
       "(10, 1)"
      ]
     },
     "execution_count": 1582,
     "metadata": {},
     "output_type": "execute_result"
    }
   ],
   "source": [
    "W.shape"
   ]
  },
  {
   "cell_type": "markdown",
   "id": "507b285e-bcc3-4f20-b5ac-2dcb4ea8b2a8",
   "metadata": {},
   "source": [
    "<h1>Testing Begins Here</h1>"
   ]
  },
  {
   "cell_type": "code",
   "execution_count": 1583,
   "id": "2a1af9bb-de38-42ed-bfc1-9b0935220710",
   "metadata": {},
   "outputs": [],
   "source": [
    "X_test=pd.read_csv('Test.csv', usecols=['Year','Kilometers_Driven','Fuel_Type','Transmission','Owner_Type','Mileage','Engine','Power','Seats'])\n",
    "Y_test=pd.read_csv('Test.csv', usecols=['Price'])"
   ]
  },
  {
   "cell_type": "code",
   "execution_count": 1584,
   "id": "d0ac65b1-5042-4852-8efc-3f24abfea641",
   "metadata": {},
   "outputs": [],
   "source": [
    "X_test=preprocessing(X_test)\n",
    "X_test = normx(X_test)"
   ]
  },
  {
   "cell_type": "code",
   "execution_count": 1585,
   "id": "dafe90f8-0fd1-41ab-8685-2f592633c53b",
   "metadata": {},
   "outputs": [
    {
     "data": {
      "text/html": [
       "<div>\n",
       "<style scoped>\n",
       "    .dataframe tbody tr th:only-of-type {\n",
       "        vertical-align: middle;\n",
       "    }\n",
       "\n",
       "    .dataframe tbody tr th {\n",
       "        vertical-align: top;\n",
       "    }\n",
       "\n",
       "    .dataframe thead th {\n",
       "        text-align: right;\n",
       "    }\n",
       "</style>\n",
       "<table border=\"1\" class=\"dataframe\">\n",
       "  <thead>\n",
       "    <tr style=\"text-align: right;\">\n",
       "      <th></th>\n",
       "      <th>Year</th>\n",
       "      <th>Kilometers_Driven</th>\n",
       "      <th>Owner_Type</th>\n",
       "      <th>Mileage</th>\n",
       "      <th>Engine</th>\n",
       "      <th>Power</th>\n",
       "      <th>Seats</th>\n",
       "      <th>Fuel_Type_Electric</th>\n",
       "      <th>Fuel_Type_Petrol</th>\n",
       "      <th>Transmission_Manual</th>\n",
       "    </tr>\n",
       "  </thead>\n",
       "  <tbody>\n",
       "  </tbody>\n",
       "</table>\n",
       "</div>"
      ],
      "text/plain": [
       "Empty DataFrame\n",
       "Columns: [Year, Kilometers_Driven, Owner_Type, Mileage, Engine, Power, Seats, Fuel_Type_Electric, Fuel_Type_Petrol, Transmission_Manual]\n",
       "Index: []"
      ]
     },
     "execution_count": 1585,
     "metadata": {},
     "output_type": "execute_result"
    }
   ],
   "source": [
    "X_test[X_test['Fuel_Type_Electric']==True]"
   ]
  },
  {
   "cell_type": "code",
   "execution_count": 1586,
   "id": "c83464d7-f6a3-48b9-85d1-c9e5b398610c",
   "metadata": {},
   "outputs": [],
   "source": [
    "#X_test = X_test.drop(columns=['Fuel_Type_Electric'])"
   ]
  },
  {
   "cell_type": "code",
   "execution_count": 1587,
   "id": "be4e2121-9b54-4eba-83b4-21e602b55c2a",
   "metadata": {},
   "outputs": [],
   "source": [
    "X_test=X_test.to_numpy()\n",
    "Y_test=Y_test.to_numpy()"
   ]
  },
  {
   "cell_type": "code",
   "execution_count": 1588,
   "id": "4a73fa5a-7184-46f3-a01f-6f7309d14892",
   "metadata": {},
   "outputs": [],
   "source": [
    "Y_hat=X_test@W+B\n",
    "Y_hat = Y_hat*Ystd+Ymean"
   ]
  },
  {
   "cell_type": "code",
   "execution_count": 1589,
   "id": "eb546c03-9437-43b7-a509-dd318e8f85b7",
   "metadata": {},
   "outputs": [
    {
     "data": {
      "image/png": "[encoded data removed]",
      "text/plain": [
       "<Figure size 640x480 with 1 Axes>"
      ]
     },
     "metadata": {},
     "output_type": "display_data"
    }
   ],
   "source": [
    "plt.scatter(Y_test, Y_hat, alpha=0.5)\n",
    "plt.plot([Y_test.min(), Y_test.max()], [Y_test.min(), Y_test.max()], 'r--')  # Diagonal\n",
    "plt.xlabel(\"Actual Y\")\n",
    "plt.ylabel(\"Predicted Y\")\n",
    "plt.title(\"Actual vs Predicted\")\n",
    "plt.grid(True)\n",
    "plt.show()"
   ]
  },
  {
   "cell_type": "code",
   "execution_count": 1590,
   "id": "7a156801-298f-4812-a731-bec727837368",
   "metadata": {},
   "outputs": [
    {
     "name": "stdout",
     "output_type": "stream",
     "text": [
      "R² score: 0.5692372975661953\n"
     ]
    }
   ],
   "source": [
    "ss_res = ((Y_test - Y_hat) ** 2).sum()         # Residual sum of squares\n",
    "ss_tot = ((Y_test - Y_hat.mean()) ** 2).sum()  # Total sum of squares\n",
    "\n",
    "r2 = 1 - ss_res/ss_tot\n",
    "\n",
    "print(\"R² score:\", r2)"
   ]
  },
  {
   "cell_type": "code",
   "execution_count": 1311,
   "id": "7b60abf6-02ee-4465-a468-8719b9e792b2",
   "metadata": {},
   "outputs": [],
   "source": [
    "#R2 score 1 (No outlier removal): 0.5359170687614954\n",
    "#R2 score 2 (After just adding mileage mask): 0.5467357536866696  \n",
    "#R2 score 3 (Just engine mask and dropped Fuel_Type_Electric column and no mileage mask): 0.4311169862331051\n",
    "#R2 score 4 (Mileage mask + Dropped column + Engine mask): 0.44219458559524594\n",
    "#R2 score 5 (Mileage mask + Dropped column): 0.4297231575559941\n",
    "#R2 score 6 (Mileage mask + Engine mask without removing the 72cc datapoint so that I don't have to drop the column): 0.5549321408556139\n",
    "#R2 score 7 (Same as 6 but tweaking the engine mask to get best R2): 0.5554031301729788\n",
    "#R2 score 8 (Added a power mask too): 0.5692372975661953"
   ]
  },
  {
   "cell_type": "code",
   "execution_count": null,
   "id": "6825fa48-026b-444b-a895-afbb3efba55a",
   "metadata": {},
   "outputs": [],
   "source": []
  },
  {
   "cell_type": "code",
   "execution_count": null,
   "id": "3f32660e-17b3-4d72-98fb-15c23ce5d544",
   "metadata": {},
   "outputs": [],
   "source": []
  },
  {
   "cell_type": "code",
   "execution_count": null,
   "id": "7d6e5db0-375e-439e-b9ba-48913bab5b24",
   "metadata": {},
   "outputs": [],
   "source": []
  },
  {
   "cell_type": "code",
   "execution_count": null,
   "id": "5961d0dc-da0f-4c38-8752-62b7486ad346",
   "metadata": {},
   "outputs": [],
   "source": []
  },
  {
   "cell_type": "code",
   "execution_count": null,
   "id": "9712a2e8-2991-4953-816e-9d2306bea713",
   "metadata": {},
   "outputs": [],
   "source": []
  },
  {
   "cell_type": "code",
   "execution_count": null,
   "id": "be2948af-0f8e-46ce-94db-216ed1d12759",
   "metadata": {},
   "outputs": [],
   "source": []
  },
  {
   "cell_type": "code",
   "execution_count": null,
   "id": "f16c91df-22a2-4cfa-98f3-172ab0305530",
   "metadata": {},
   "outputs": [],
   "source": []
  },
  {
   "cell_type": "code",
   "execution_count": null,
   "id": "3b2dc1ba-aa5c-462b-a049-f7971a3fd364",
   "metadata": {},
   "outputs": [],
   "source": []
  },
  {
   "cell_type": "code",
   "execution_count": null,
   "id": "4e266ad8-5178-4ac0-aa1e-51c7f5314aec",
   "metadata": {},
   "outputs": [],
   "source": []
  }
 ],
 "metadata": {
  "kernelspec": {
   "display_name": "Python 3 (ipykernel)",
   "language": "python",
   "name": "python3"
  },
  "language_info": {
   "codemirror_mode": {
    "name": "ipython",
    "version": 3
   },
   "file_extension": ".py",
   "mimetype": "text/x-python",
   "name": "python",
   "nbconvert_exporter": "python",
   "pygments_lexer": "ipython3",
   "version": "3.12.5"
  }
 },
 "nbformat": 4,
 "nbformat_minor": 5
}

{
 "cells": [
  {
   "cell_type": "code",
   "execution_count": 326,
   "id": "85745bae-41d7-4ef7-9291-df6e06e9b5ff",
   "metadata": {},
   "outputs": [],
   "source": [
    "import pandas as pd\n",
    "import numpy as np\n",
    "import matplotlib.pyplot as plt\n",
    "import seaborn as sns\n"
   ]
  },
  {
   "cell_type": "markdown",
   "id": "a5442edc-a004-4e02-9703-f709d1037ed1",
   "metadata": {},
   "source": [
    "<h1>Exploratory Data Analysis / Data Preprocessing</h1>"
   ]
  },
  {
   "cell_type": "code",
   "execution_count": 327,
   "id": "ef0876ac-94bb-486e-95f8-3b006fead7df",
   "metadata": {},
   "outputs": [],
   "source": [
    "X_train=pd.read_csv('Train.csv', usecols=['Name','Location','Year','Kilometers_Driven','Fuel_Type','Transmission','Owner_Type','Mileage','Engine','Power','Seats'])\n",
    "Y_train=pd.read_csv('Train.csv', usecols=['Price'])\n",
    "X=pd.read_csv('Train.csv')"
   ]
  },
  {
   "cell_type": "code",
   "execution_count": 328,
   "id": "90dd8dc1-42a2-46b3-90eb-4da24719a301",
   "metadata": {},
   "outputs": [
    {
     "name": "stdout",
     "output_type": "stream",
     "text": [
      "Ambassador: 1 cars\n",
      "Force: 1 cars\n",
      "Smart: 1 cars\n"
     ]
    }
   ],
   "source": [
    "#These are the three brands not there in X_test so we are checking to see if we can remove them.\n",
    "X_train['Name'].str.split().str[0].str.lower()\n",
    "\n",
    "brands_of_interest = ['ambassador', 'force', 'smart']\n",
    "for brand in brands_of_interest:\n",
    "    count = (X_train['Name'].str.split().str[0].str.lower() == brand).sum()\n",
    "    print(f\"{brand.capitalize()}: {count} cars\")"
   ]
  },
  {
   "cell_type": "code",
   "execution_count": 329,
   "id": "af4c9e23-c50f-4311-8307-17378960d587",
   "metadata": {},
   "outputs": [],
   "source": [
    "#Removing them:\n",
    "uncommon_companies = ['ambassador', 'force', 'smart']\n",
    "mask = ~X_train['Name'].str.split().str[0].str.lower().isin(uncommon_companies)\n",
    "\n",
    "X_train = X_train[mask].reset_index(drop=True)\n",
    "Y_train = Y_train[mask].reset_index(drop=True)"
   ]
  },
  {
   "cell_type": "code",
   "execution_count": 330,
   "id": "a042f2f7-777f-40c6-9511-124a00026576",
   "metadata": {},
   "outputs": [
    {
     "name": "stdout",
     "output_type": "stream",
     "text": [
      "Removed 6 duplicate rows.\n"
     ]
    }
   ],
   "source": [
    "mask = ~X_train.duplicated()\n",
    "\n",
    "before = X_train.shape[0]\n",
    "X_train = X_train.drop_duplicates()\n",
    "after = X_train.shape[0]\n",
    "print(f\"Removed {before - after} duplicate rows.\")\n",
    "Y_train=Y_train[mask]"
   ]
  },
  {
   "cell_type": "code",
   "execution_count": 331,
   "id": "ab580b65-2fad-46f4-add5-fdc0d6a175dd",
   "metadata": {},
   "outputs": [
    {
     "name": "stdout",
     "output_type": "stream",
     "text": [
      "(3741, 11)\n",
      "(3741, 1)\n"
     ]
    }
   ],
   "source": [
    "print(X_train.shape)\n",
    "print(Y_train.shape)"
   ]
  },
  {
   "cell_type": "code",
   "execution_count": 332,
   "id": "d37067fb-4a1a-47a9-82c8-f6a0f36d9609",
   "metadata": {},
   "outputs": [
    {
     "data": {
      "text/plain": [
       "Unnamed: 0            0\n",
       "Name                  0\n",
       "Location              0\n",
       "Year                  0\n",
       "Kilometers_Driven     0\n",
       "Fuel_Type             0\n",
       "Transmission          0\n",
       "Owner_Type            0\n",
       "Mileage               1\n",
       "Engine               28\n",
       "Power                28\n",
       "Seats                32\n",
       "Price                 0\n",
       "dtype: int64"
      ]
     },
     "execution_count": 332,
     "metadata": {},
     "output_type": "execute_result"
    }
   ],
   "source": [
    "X.isna().sum()"
   ]
  },
  {
   "cell_type": "code",
   "execution_count": 333,
   "id": "8bd1cdfa-eb49-40aa-ad16-442655534667",
   "metadata": {},
   "outputs": [
    {
     "name": "stdout",
     "output_type": "stream",
     "text": [
      "Overview of X_train input:\n",
      "\n",
      "                                          Name   Location  Year  Kilometers_Driven Fuel_Type Transmission Owner_Type     Mileage   Engine       Power  Seats\n",
      "0         Tata Tiago 1.2 Revotron XZ WO Alloy  Hyderabad  2017              16500    Petrol       Manual      First  23.84 kmpl  1199 CC      84 bhp    5.0\n",
      "1  Mahindra TUV 300 2015-2019 mHAWK100 T8 AMT      Kochi  2017              47357    Diesel    Automatic      First  18.49 kmpl  1493 CC     100 bhp    7.0\n",
      "2      Skoda Rapid 2013-2016 1.6 MPI Ambition     Mumbai  2014              35000    Petrol       Manual      First   15.0 kmpl  1598 CC  103.52 bhp    5.0\n",
      "3                     Tata Indica V2 DLS BSII     Jaipur  2007             200000    Diesel       Manual     Second   17.2 kmpl  1396 CC    53.5 bhp    5.0\n",
      "4        Tata Manza Club Class Quadrajet90 LX     Mumbai  2013              64000    Diesel       Manual     Second  21.02 kmpl  1248 CC   88.76 bhp    5.0\n",
      "\n",
      "Overview of Y_train input:\n",
      "\n",
      "    Price\n",
      "0   5.00\n",
      "1   8.37\n",
      "2   4.50\n",
      "3   0.85\n",
      "4   2.65\n"
     ]
    }
   ],
   "source": [
    "print(\"Overview of X_train input:\\n\\n\", X_train.head(5).to_string())\n",
    "print(\"\\nOverview of Y_train input:\\n\\n\", Y_train.head(5))"
   ]
  },
  {
   "cell_type": "code",
   "execution_count": 334,
   "id": "799e9712-6c98-41a4-a260-8a300c4944b7",
   "metadata": {},
   "outputs": [],
   "source": [
    "def preprocessing(X_train):\n",
    "    X_train['Engine'] = X_train['Engine'].str.replace('CC', '')\n",
    "    X_train['Mileage'] = X_train['Mileage'].str.replace('kmpl', '')\n",
    "    X_train['Power'] = X_train['Power'].str.replace('bhp', '')\n",
    "    X_train['Engine'] = X_train['Engine'].astype(float)\n",
    "    X_train['Mileage'] = X_train['Mileage'].astype(float)\n",
    "    X_train['Power'] = pd.to_numeric(X_train['Power'],errors='coerce')\n",
    "    X_train['Mileage']=X_train['Mileage'].fillna(X_train['Mileage'].mean())\n",
    "    X_train['Engine']=X_train['Engine'].fillna(X_train['Engine'].mean())\n",
    "    X_train['Seats']=X_train['Seats'].fillna(X_train['Seats'].mean())\n",
    "    X_train['Power']=X_train['Power'].fillna(X_train['Power'].mean())\n",
    "    owner_mapping = {\n",
    "        'First': 1,\n",
    "        'Second': 2,\n",
    "        'Third': 3,\n",
    "        'Fourth & Above': 4\n",
    "    }    \n",
    "    X_train['Owner_Type'] = X_train['Owner_Type'].map(owner_mapping)\n",
    "    for col in ['Kilometers_Driven','Engine']:\n",
    "        X_train[col] = np.log1p(X_train[col])\n",
    "    X_train['Age']=2025-X_train['Year']\n",
    "    X_train.drop(columns='Year', inplace=True)\n",
    "    X_train['Company'] = X_train['Name'].str.split().str[0].str.lower()\n",
    "    X_train.drop(columns=['Name'], inplace=True)\n",
    "    return pd.get_dummies(X_train, columns=['Fuel_Type', 'Transmission','Location','Company'], drop_first=True)\n",
    "\n",
    "def normx(X):\n",
    "    X_norm = X.copy()\n",
    "    for col in X.columns:\n",
    "        if set(X[col].unique()) == {0} or set(X[col].unique()) == {0, 1}:\n",
    "            continue  # Skip binary columns (or columns with zero variance)\n",
    "        mean = X[col].mean()\n",
    "        std = X[col].std()\n",
    "        X_norm[col] = (X[col] - mean) / std\n",
    "    return X_norm\n",
    "\n",
    "def normy(Y):\n",
    "    return (Y-Ymean)/Ystd\n",
    "\n"
   ]
  },
  {
   "cell_type": "code",
   "execution_count": 335,
   "id": "00dce27a-7fe3-4381-bfe8-2d12d8202972",
   "metadata": {},
   "outputs": [],
   "source": [
    "X_train = preprocessing(X_train)\n",
    "X=preprocessing(X)"
   ]
  },
  {
   "cell_type": "code",
   "execution_count": 336,
   "id": "8013639c-c2d8-47c8-a34f-9f053e72d400",
   "metadata": {},
   "outputs": [
    {
     "data": {
      "text/html": [
       "<div>\n",
       "<style scoped>\n",
       "    .dataframe tbody tr th:only-of-type {\n",
       "        vertical-align: middle;\n",
       "    }\n",
       "\n",
       "    .dataframe tbody tr th {\n",
       "        vertical-align: top;\n",
       "    }\n",
       "\n",
       "    .dataframe thead th {\n",
       "        text-align: right;\n",
       "    }\n",
       "</style>\n",
       "<table border=\"1\" class=\"dataframe\">\n",
       "  <thead>\n",
       "    <tr style=\"text-align: right;\">\n",
       "      <th></th>\n",
       "      <th>Kilometers_Driven</th>\n",
       "      <th>Owner_Type</th>\n",
       "      <th>Mileage</th>\n",
       "      <th>Engine</th>\n",
       "      <th>Power</th>\n",
       "      <th>Seats</th>\n",
       "      <th>Age</th>\n",
       "      <th>Fuel_Type_Electric</th>\n",
       "      <th>Fuel_Type_Petrol</th>\n",
       "      <th>Transmission_Manual</th>\n",
       "      <th>...</th>\n",
       "      <th>Company_mini</th>\n",
       "      <th>Company_mitsubishi</th>\n",
       "      <th>Company_nissan</th>\n",
       "      <th>Company_porsche</th>\n",
       "      <th>Company_renault</th>\n",
       "      <th>Company_skoda</th>\n",
       "      <th>Company_tata</th>\n",
       "      <th>Company_toyota</th>\n",
       "      <th>Company_volkswagen</th>\n",
       "      <th>Company_volvo</th>\n",
       "    </tr>\n",
       "  </thead>\n",
       "  <tbody>\n",
       "    <tr>\n",
       "      <th>0</th>\n",
       "      <td>9.711176</td>\n",
       "      <td>1</td>\n",
       "      <td>23.84</td>\n",
       "      <td>7.090077</td>\n",
       "      <td>84.00</td>\n",
       "      <td>5.0</td>\n",
       "      <td>8</td>\n",
       "      <td>False</td>\n",
       "      <td>True</td>\n",
       "      <td>True</td>\n",
       "      <td>...</td>\n",
       "      <td>False</td>\n",
       "      <td>False</td>\n",
       "      <td>False</td>\n",
       "      <td>False</td>\n",
       "      <td>False</td>\n",
       "      <td>False</td>\n",
       "      <td>True</td>\n",
       "      <td>False</td>\n",
       "      <td>False</td>\n",
       "      <td>False</td>\n",
       "    </tr>\n",
       "    <tr>\n",
       "      <th>1</th>\n",
       "      <td>10.765491</td>\n",
       "      <td>1</td>\n",
       "      <td>18.49</td>\n",
       "      <td>7.309212</td>\n",
       "      <td>100.00</td>\n",
       "      <td>7.0</td>\n",
       "      <td>8</td>\n",
       "      <td>False</td>\n",
       "      <td>False</td>\n",
       "      <td>False</td>\n",
       "      <td>...</td>\n",
       "      <td>False</td>\n",
       "      <td>False</td>\n",
       "      <td>False</td>\n",
       "      <td>False</td>\n",
       "      <td>False</td>\n",
       "      <td>False</td>\n",
       "      <td>False</td>\n",
       "      <td>False</td>\n",
       "      <td>False</td>\n",
       "      <td>False</td>\n",
       "    </tr>\n",
       "    <tr>\n",
       "      <th>2</th>\n",
       "      <td>10.463132</td>\n",
       "      <td>1</td>\n",
       "      <td>15.00</td>\n",
       "      <td>7.377134</td>\n",
       "      <td>103.52</td>\n",
       "      <td>5.0</td>\n",
       "      <td>11</td>\n",
       "      <td>False</td>\n",
       "      <td>True</td>\n",
       "      <td>True</td>\n",
       "      <td>...</td>\n",
       "      <td>False</td>\n",
       "      <td>False</td>\n",
       "      <td>False</td>\n",
       "      <td>False</td>\n",
       "      <td>False</td>\n",
       "      <td>True</td>\n",
       "      <td>False</td>\n",
       "      <td>False</td>\n",
       "      <td>False</td>\n",
       "      <td>False</td>\n",
       "    </tr>\n",
       "  </tbody>\n",
       "</table>\n",
       "<p>3 rows × 44 columns</p>\n",
       "</div>"
      ],
      "text/plain": [
       "   Kilometers_Driven  Owner_Type  Mileage    Engine   Power  Seats  Age  \\\n",
       "0           9.711176           1    23.84  7.090077   84.00    5.0    8   \n",
       "1          10.765491           1    18.49  7.309212  100.00    7.0    8   \n",
       "2          10.463132           1    15.00  7.377134  103.52    5.0   11   \n",
       "\n",
       "   Fuel_Type_Electric  Fuel_Type_Petrol  Transmission_Manual  ...  \\\n",
       "0               False              True                 True  ...   \n",
       "1               False             False                False  ...   \n",
       "2               False              True                 True  ...   \n",
       "\n",
       "   Company_mini  Company_mitsubishi  Company_nissan  Company_porsche  \\\n",
       "0         False               False           False            False   \n",
       "1         False               False           False            False   \n",
       "2         False               False           False            False   \n",
       "\n",
       "   Company_renault  Company_skoda  Company_tata  Company_toyota  \\\n",
       "0            False          False          True           False   \n",
       "1            False          False         False           False   \n",
       "2            False           True         False           False   \n",
       "\n",
       "   Company_volkswagen  Company_volvo  \n",
       "0               False          False  \n",
       "1               False          False  \n",
       "2               False          False  \n",
       "\n",
       "[3 rows x 44 columns]"
      ]
     },
     "execution_count": 336,
     "metadata": {},
     "output_type": "execute_result"
    }
   ],
   "source": [
    "X_train.head(3)"
   ]
  },
  {
   "cell_type": "code",
   "execution_count": 337,
   "id": "5f70c8c9-6201-4f6d-814c-1175b75a5096",
   "metadata": {},
   "outputs": [
    {
     "data": {
      "text/html": [
       "<div>\n",
       "<style scoped>\n",
       "    .dataframe tbody tr th:only-of-type {\n",
       "        vertical-align: middle;\n",
       "    }\n",
       "\n",
       "    .dataframe tbody tr th {\n",
       "        vertical-align: top;\n",
       "    }\n",
       "\n",
       "    .dataframe thead th {\n",
       "        text-align: right;\n",
       "    }\n",
       "</style>\n",
       "<table border=\"1\" class=\"dataframe\">\n",
       "  <thead>\n",
       "    <tr style=\"text-align: right;\">\n",
       "      <th></th>\n",
       "      <th>Kilometers_Driven</th>\n",
       "      <th>Owner_Type</th>\n",
       "      <th>Mileage</th>\n",
       "      <th>Engine</th>\n",
       "      <th>Power</th>\n",
       "      <th>Seats</th>\n",
       "      <th>Age</th>\n",
       "      <th>Fuel_Type_Electric</th>\n",
       "      <th>Fuel_Type_Petrol</th>\n",
       "      <th>Transmission_Manual</th>\n",
       "      <th>...</th>\n",
       "      <th>Company_mini</th>\n",
       "      <th>Company_mitsubishi</th>\n",
       "      <th>Company_nissan</th>\n",
       "      <th>Company_porsche</th>\n",
       "      <th>Company_renault</th>\n",
       "      <th>Company_skoda</th>\n",
       "      <th>Company_tata</th>\n",
       "      <th>Company_toyota</th>\n",
       "      <th>Company_volkswagen</th>\n",
       "      <th>Company_volvo</th>\n",
       "    </tr>\n",
       "  </thead>\n",
       "  <tbody>\n",
       "    <tr>\n",
       "      <th>330</th>\n",
       "      <td>10.819798</td>\n",
       "      <td>1</td>\n",
       "      <td>18.050428</td>\n",
       "      <td>4.290459</td>\n",
       "      <td>41.0</td>\n",
       "      <td>5.0</td>\n",
       "      <td>9</td>\n",
       "      <td>True</td>\n",
       "      <td>False</td>\n",
       "      <td>False</td>\n",
       "      <td>...</td>\n",
       "      <td>False</td>\n",
       "      <td>False</td>\n",
       "      <td>False</td>\n",
       "      <td>False</td>\n",
       "      <td>False</td>\n",
       "      <td>False</td>\n",
       "      <td>False</td>\n",
       "      <td>False</td>\n",
       "      <td>False</td>\n",
       "      <td>False</td>\n",
       "    </tr>\n",
       "  </tbody>\n",
       "</table>\n",
       "<p>1 rows × 44 columns</p>\n",
       "</div>"
      ],
      "text/plain": [
       "     Kilometers_Driven  Owner_Type    Mileage    Engine  Power  Seats  Age  \\\n",
       "330          10.819798           1  18.050428  4.290459   41.0    5.0    9   \n",
       "\n",
       "     Fuel_Type_Electric  Fuel_Type_Petrol  Transmission_Manual  ...  \\\n",
       "330                True             False                False  ...   \n",
       "\n",
       "     Company_mini  Company_mitsubishi  Company_nissan  Company_porsche  \\\n",
       "330         False               False           False            False   \n",
       "\n",
       "     Company_renault  Company_skoda  Company_tata  Company_toyota  \\\n",
       "330            False          False         False           False   \n",
       "\n",
       "     Company_volkswagen  Company_volvo  \n",
       "330               False          False  \n",
       "\n",
       "[1 rows x 44 columns]"
      ]
     },
     "execution_count": 337,
     "metadata": {},
     "output_type": "execute_result"
    }
   ],
   "source": [
    "X_train[X_train['Fuel_Type_Electric']==True]"
   ]
  },
  {
   "cell_type": "code",
   "execution_count": 338,
   "id": "0d3ada5c-a349-44f5-b4e0-75ecd73d6f0b",
   "metadata": {},
   "outputs": [
    {
     "name": "stdout",
     "output_type": "stream",
     "text": [
      "\n",
      "Detailed analysis of X_train input:\n",
      "\n",
      "        Kilometers_Driven   Owner_Type      Mileage       Engine        Power        Seats          Age\n",
      "count        3741.000000  3741.000000  3741.000000  3741.000000  3741.000000  3741.000000  3741.000000\n",
      "mean           10.760999     1.199412    18.050428     7.331583   113.589919     5.278242    11.681369\n",
      "std             0.712431     0.454107     4.515841     0.342172    53.539072     0.800878     3.260860\n",
      "min             6.908755     1.000000     0.000000     4.290459    34.200000     2.000000     6.000000\n",
      "25%            10.434145     1.000000    15.260000     7.089243    78.000000     5.000000     9.000000\n",
      "50%            10.878066     1.000000    18.060000     7.309212    98.600000     5.000000    11.000000\n",
      "75%            11.198804     1.000000    20.890000     7.593374   138.030000     5.000000    14.000000\n",
      "max            13.560620     4.000000    28.400000     8.605570   550.000000    10.000000    27.000000\n",
      "\n",
      "Detailed analysis of X_train input:\n",
      "\n",
      "              Price\n",
      "count  3741.000000\n",
      "mean      9.496675\n",
      "std      11.207357\n",
      "min       0.440000\n",
      "25%       3.500000\n",
      "50%       5.660000\n",
      "75%       9.900000\n",
      "max     160.000000\n"
     ]
    }
   ],
   "source": [
    "print(\"\\nDetailed analysis of X_train input:\\n\\n\", X_train.describe().to_string())\n",
    "print(\"\\nDetailed analysis of X_train input:\\n\\n\", Y_train.describe().to_string())"
   ]
  },
  {
   "cell_type": "code",
   "execution_count": 339,
   "id": "62b6a947-3d03-4656-9812-f1044fb78684",
   "metadata": {},
   "outputs": [
    {
     "name": "stdout",
     "output_type": "stream",
     "text": [
      "(3740, 44) (3740, 1)\n"
     ]
    }
   ],
   "source": [
    "mask = Y_train['Price'] < 100\n",
    "X_train = X_train[mask].reset_index(drop=True)\n",
    "Y_train = Y_train[mask].reset_index(drop=True)\n",
    "print(X_train.shape, Y_train.shape)"
   ]
  },
  {
   "cell_type": "markdown",
   "id": "17876775-37fa-4cd0-a86d-cb54ce20dc7d",
   "metadata": {},
   "source": [
    "<h2>Outlier Detection</h2>"
   ]
  },
  {
   "cell_type": "code",
   "execution_count": 340,
   "id": "4e463db6-900f-44ba-be25-6cf4877ff8c0",
   "metadata": {},
   "outputs": [
    {
     "data": {
      "text/plain": [
       "Fuel_Type_Electric\n",
       "False    3739\n",
       "True        1\n",
       "Name: count, dtype: int64"
      ]
     },
     "execution_count": 340,
     "metadata": {},
     "output_type": "execute_result"
    }
   ],
   "source": [
    "#Since there is only one EV, we can remove this column.\n",
    "X_train['Fuel_Type_Electric'].value_counts()"
   ]
  },
  {
   "cell_type": "code",
   "execution_count": 341,
   "id": "4c14a0d6-4c98-4351-bd33-86580118d5af",
   "metadata": {},
   "outputs": [],
   "source": [
    "#X_train = X_train.drop(columns=['Fuel_Type_Electric'])"
   ]
  },
  {
   "cell_type": "code",
   "execution_count": 342,
   "id": "03b2a4f9-aecd-4436-836d-b0ccaebe70a3",
   "metadata": {
    "scrolled": true
   },
   "outputs": [
    {
     "name": "stdout",
     "output_type": "stream",
     "text": [
      "Stange phenomenon observed as it is not possible for a working car to have a mileage of zero.\n",
      "\n",
      "Number of datapoints where car has zero mileage: 46\n"
     ]
    },
    {
     "data": {
      "text/html": [
       "<div>\n",
       "<style scoped>\n",
       "    .dataframe tbody tr th:only-of-type {\n",
       "        vertical-align: middle;\n",
       "    }\n",
       "\n",
       "    .dataframe tbody tr th {\n",
       "        vertical-align: top;\n",
       "    }\n",
       "\n",
       "    .dataframe thead th {\n",
       "        text-align: right;\n",
       "    }\n",
       "</style>\n",
       "<table border=\"1\" class=\"dataframe\">\n",
       "  <thead>\n",
       "    <tr style=\"text-align: right;\">\n",
       "      <th></th>\n",
       "      <th>Kilometers_Driven</th>\n",
       "      <th>Owner_Type</th>\n",
       "      <th>Mileage</th>\n",
       "      <th>Engine</th>\n",
       "      <th>Power</th>\n",
       "      <th>Seats</th>\n",
       "      <th>Age</th>\n",
       "      <th>Fuel_Type_Electric</th>\n",
       "      <th>Fuel_Type_Petrol</th>\n",
       "      <th>Transmission_Manual</th>\n",
       "      <th>...</th>\n",
       "      <th>Company_mini</th>\n",
       "      <th>Company_mitsubishi</th>\n",
       "      <th>Company_nissan</th>\n",
       "      <th>Company_porsche</th>\n",
       "      <th>Company_renault</th>\n",
       "      <th>Company_skoda</th>\n",
       "      <th>Company_tata</th>\n",
       "      <th>Company_toyota</th>\n",
       "      <th>Company_volkswagen</th>\n",
       "      <th>Company_volvo</th>\n",
       "    </tr>\n",
       "  </thead>\n",
       "  <tbody>\n",
       "    <tr>\n",
       "      <th>74</th>\n",
       "      <td>11.695255</td>\n",
       "      <td>1</td>\n",
       "      <td>0.0</td>\n",
       "      <td>6.991177</td>\n",
       "      <td>113.589919</td>\n",
       "      <td>5.000000</td>\n",
       "      <td>20</td>\n",
       "      <td>False</td>\n",
       "      <td>True</td>\n",
       "      <td>True</td>\n",
       "      <td>...</td>\n",
       "      <td>False</td>\n",
       "      <td>False</td>\n",
       "      <td>False</td>\n",
       "      <td>False</td>\n",
       "      <td>False</td>\n",
       "      <td>False</td>\n",
       "      <td>False</td>\n",
       "      <td>False</td>\n",
       "      <td>False</td>\n",
       "      <td>False</td>\n",
       "    </tr>\n",
       "    <tr>\n",
       "      <th>130</th>\n",
       "      <td>11.225257</td>\n",
       "      <td>2</td>\n",
       "      <td>0.0</td>\n",
       "      <td>7.391865</td>\n",
       "      <td>113.589919</td>\n",
       "      <td>5.278242</td>\n",
       "      <td>22</td>\n",
       "      <td>False</td>\n",
       "      <td>False</td>\n",
       "      <td>False</td>\n",
       "      <td>...</td>\n",
       "      <td>False</td>\n",
       "      <td>False</td>\n",
       "      <td>False</td>\n",
       "      <td>False</td>\n",
       "      <td>False</td>\n",
       "      <td>False</td>\n",
       "      <td>False</td>\n",
       "      <td>False</td>\n",
       "      <td>False</td>\n",
       "      <td>False</td>\n",
       "    </tr>\n",
       "    <tr>\n",
       "      <th>148</th>\n",
       "      <td>9.640173</td>\n",
       "      <td>1</td>\n",
       "      <td>0.0</td>\n",
       "      <td>7.576097</td>\n",
       "      <td>194.000000</td>\n",
       "      <td>5.000000</td>\n",
       "      <td>6</td>\n",
       "      <td>False</td>\n",
       "      <td>False</td>\n",
       "      <td>False</td>\n",
       "      <td>...</td>\n",
       "      <td>False</td>\n",
       "      <td>False</td>\n",
       "      <td>False</td>\n",
       "      <td>False</td>\n",
       "      <td>False</td>\n",
       "      <td>False</td>\n",
       "      <td>False</td>\n",
       "      <td>False</td>\n",
       "      <td>False</td>\n",
       "      <td>False</td>\n",
       "    </tr>\n",
       "    <tr>\n",
       "      <th>239</th>\n",
       "      <td>10.915125</td>\n",
       "      <td>2</td>\n",
       "      <td>0.0</td>\n",
       "      <td>7.391865</td>\n",
       "      <td>113.589919</td>\n",
       "      <td>5.278242</td>\n",
       "      <td>17</td>\n",
       "      <td>False</td>\n",
       "      <td>False</td>\n",
       "      <td>False</td>\n",
       "      <td>...</td>\n",
       "      <td>False</td>\n",
       "      <td>False</td>\n",
       "      <td>False</td>\n",
       "      <td>False</td>\n",
       "      <td>False</td>\n",
       "      <td>False</td>\n",
       "      <td>False</td>\n",
       "      <td>False</td>\n",
       "      <td>False</td>\n",
       "      <td>False</td>\n",
       "    </tr>\n",
       "    <tr>\n",
       "      <th>260</th>\n",
       "      <td>9.903538</td>\n",
       "      <td>1</td>\n",
       "      <td>0.0</td>\n",
       "      <td>8.002360</td>\n",
       "      <td>165.000000</td>\n",
       "      <td>5.000000</td>\n",
       "      <td>10</td>\n",
       "      <td>False</td>\n",
       "      <td>False</td>\n",
       "      <td>False</td>\n",
       "      <td>...</td>\n",
       "      <td>False</td>\n",
       "      <td>False</td>\n",
       "      <td>False</td>\n",
       "      <td>False</td>\n",
       "      <td>False</td>\n",
       "      <td>False</td>\n",
       "      <td>False</td>\n",
       "      <td>False</td>\n",
       "      <td>False</td>\n",
       "      <td>False</td>\n",
       "    </tr>\n",
       "  </tbody>\n",
       "</table>\n",
       "<p>5 rows × 44 columns</p>\n",
       "</div>"
      ],
      "text/plain": [
       "     Kilometers_Driven  Owner_Type  Mileage    Engine       Power     Seats  \\\n",
       "74           11.695255           1      0.0  6.991177  113.589919  5.000000   \n",
       "130          11.225257           2      0.0  7.391865  113.589919  5.278242   \n",
       "148           9.640173           1      0.0  7.576097  194.000000  5.000000   \n",
       "239          10.915125           2      0.0  7.391865  113.589919  5.278242   \n",
       "260           9.903538           1      0.0  8.002360  165.000000  5.000000   \n",
       "\n",
       "     Age  Fuel_Type_Electric  Fuel_Type_Petrol  Transmission_Manual  ...  \\\n",
       "74    20               False              True                 True  ...   \n",
       "130   22               False             False                False  ...   \n",
       "148    6               False             False                False  ...   \n",
       "239   17               False             False                False  ...   \n",
       "260   10               False             False                False  ...   \n",
       "\n",
       "     Company_mini  Company_mitsubishi  Company_nissan  Company_porsche  \\\n",
       "74          False               False           False            False   \n",
       "130         False               False           False            False   \n",
       "148         False               False           False            False   \n",
       "239         False               False           False            False   \n",
       "260         False               False           False            False   \n",
       "\n",
       "     Company_renault  Company_skoda  Company_tata  Company_toyota  \\\n",
       "74             False          False         False           False   \n",
       "130            False          False         False           False   \n",
       "148            False          False         False           False   \n",
       "239            False          False         False           False   \n",
       "260            False          False         False           False   \n",
       "\n",
       "     Company_volkswagen  Company_volvo  \n",
       "74                False          False  \n",
       "130               False          False  \n",
       "148               False          False  \n",
       "239               False          False  \n",
       "260               False          False  \n",
       "\n",
       "[5 rows x 44 columns]"
      ]
     },
     "execution_count": 342,
     "metadata": {},
     "output_type": "execute_result"
    }
   ],
   "source": [
    "print(\"Stange phenomenon observed as it is not possible for a working car to have a mileage of zero.\\n\")\n",
    "print(\"Number of datapoints where car has zero mileage:\",(X['Mileage'] == 0).sum())\n",
    "X_train[X_train['Mileage'] == 0].head() #Strange."
   ]
  },
  {
   "cell_type": "code",
   "execution_count": 343,
   "id": "71d2862b-49c7-47e1-a7cc-3dd285ad56ad",
   "metadata": {},
   "outputs": [],
   "source": [
    "mileage_mask = X_train['Mileage'] != 0\n",
    "X_train = X_train[mileage_mask].reset_index(drop=True)\n",
    "Y_train = Y_train[mileage_mask].reset_index(drop=True)"
   ]
  },
  {
   "cell_type": "code",
   "execution_count": 344,
   "id": "1e0c1686-42db-4979-9d2e-6b6fecb3dca9",
   "metadata": {},
   "outputs": [
    {
     "name": "stdout",
     "output_type": "stream",
     "text": [
      "      Kilometers_Driven  Owner_Type    Mileage    Engine   Power  Seats  Age  \\\n",
      "325           10.819798           1  18.050428  4.290459   41.00    5.0    9   \n",
      "131            9.888323           1  25.400000  6.437752   37.50    4.0   11   \n",
      "3550           8.564268           1  21.900000  6.437752   37.48    4.0    9   \n",
      "622           10.146473           1  25.400000  6.437752   37.50    4.0   11   \n",
      "1005           9.557470           1  23.900000  6.437752   37.48    4.0    8   \n",
      "...                 ...         ...        ...       ...     ...    ...  ...   \n",
      "2119          10.463132           2  11.900000  8.477828  550.00    5.0   15   \n",
      "3326          11.198228           1   8.500000  8.477828  500.00    5.0   17   \n",
      "2163           9.966040           1  13.000000  8.507547  395.00    4.0    7   \n",
      "2565           8.006701           2  12.000000  8.605570  421.00    2.0   11   \n",
      "3289          10.463132           1   8.100000  8.605570  387.30    2.0   15   \n",
      "\n",
      "      Fuel_Type_Electric  Fuel_Type_Petrol  Transmission_Manual  ...  \\\n",
      "325                 True             False                False  ...   \n",
      "131                False              True                 True  ...   \n",
      "3550               False              True                False  ...   \n",
      "622                False              True                 True  ...   \n",
      "1005               False              True                 True  ...   \n",
      "...                  ...               ...                  ...  ...   \n",
      "2119               False              True                False  ...   \n",
      "3326               False              True                False  ...   \n",
      "2163               False              True                False  ...   \n",
      "2565               False              True                False  ...   \n",
      "3289               False              True                False  ...   \n",
      "\n",
      "      Company_mini  Company_mitsubishi  Company_nissan  Company_porsche  \\\n",
      "325          False               False           False            False   \n",
      "131          False               False           False            False   \n",
      "3550         False               False           False            False   \n",
      "622          False               False           False            False   \n",
      "1005         False               False           False            False   \n",
      "...            ...                 ...             ...              ...   \n",
      "2119         False               False           False             True   \n",
      "3326         False               False           False             True   \n",
      "2163         False               False           False            False   \n",
      "2565         False               False           False            False   \n",
      "3289         False               False           False            False   \n",
      "\n",
      "      Company_renault  Company_skoda  Company_tata  Company_toyota  \\\n",
      "325             False          False         False           False   \n",
      "131             False          False          True           False   \n",
      "3550            False          False          True           False   \n",
      "622             False          False          True           False   \n",
      "1005            False          False          True           False   \n",
      "...               ...            ...           ...             ...   \n",
      "2119            False          False         False           False   \n",
      "3326            False          False         False           False   \n",
      "2163            False          False         False           False   \n",
      "2565            False          False         False           False   \n",
      "3289            False          False         False           False   \n",
      "\n",
      "      Company_volkswagen  Company_volvo  \n",
      "325                False          False  \n",
      "131                False          False  \n",
      "3550               False          False  \n",
      "622                False          False  \n",
      "1005               False          False  \n",
      "...                  ...            ...  \n",
      "2119               False          False  \n",
      "3326               False          False  \n",
      "2163               False          False  \n",
      "2565               False          False  \n",
      "3289               False          False  \n",
      "\n",
      "[3695 rows x 44 columns]\n"
     ]
    }
   ],
   "source": [
    "#We can clearly see that the model with 72cc is an outlier. But it is also the only electric car in the database and if i remove it, the Fuel_electric column becomes meaningless and my r2 score takes a massive hit.\n",
    "print(X_train.sort_values(by='Engine', ascending=True))"
   ]
  },
  {
   "cell_type": "code",
   "execution_count": 345,
   "id": "24b800cc-578e-402a-a9dc-2e70a6dd67fa",
   "metadata": {},
   "outputs": [
    {
     "name": "stdout",
     "output_type": "stream",
     "text": [
      "Empty DataFrame\n",
      "Columns: [Kilometers_Driven, Owner_Type, Mileage, Engine, Power, Seats, Age, Fuel_Type_Electric, Fuel_Type_Petrol, Transmission_Manual, Location_Bangalore, Location_Chennai, Location_Coimbatore, Location_Delhi, Location_Hyderabad, Location_Jaipur, Location_Kochi, Location_Kolkata, Location_Mumbai, Location_Pune, Company_bmw, Company_chevrolet, Company_datsun, Company_fiat, Company_ford, Company_honda, Company_hyundai, Company_isuzu, Company_jaguar, Company_jeep, Company_land, Company_mahindra, Company_maruti, Company_mercedes-benz, Company_mini, Company_mitsubishi, Company_nissan, Company_porsche, Company_renault, Company_skoda, Company_tata, Company_toyota, Company_volkswagen, Company_volvo]\n",
      "Index: []\n",
      "\n",
      "[0 rows x 44 columns]\n"
     ]
    }
   ],
   "source": [
    "#Since there are only 13 cars which have cc of over 4.3k, they are outliers.\n",
    "print((X_train[X_train['Engine']>4300]))"
   ]
  },
  {
   "cell_type": "code",
   "execution_count": 346,
   "id": "61519a1a-14c5-49fd-bd37-b18be415201c",
   "metadata": {},
   "outputs": [],
   "source": [
    "engine_mask = (X_train['Engine'] <= 4300) & (X_train['Engine'] >100)\n",
    "#X_train = X_train[engine_mask].reset_index(drop=True)\n",
    "#Y_train = Y_train[engine_mask].reset_index(drop=True)"
   ]
  },
  {
   "cell_type": "code",
   "execution_count": 347,
   "id": "b3c3b506-f984-4dbf-882e-38a10238d5e9",
   "metadata": {},
   "outputs": [
    {
     "name": "stdout",
     "output_type": "stream",
     "text": [
      "\n",
      "Detailed analysis of X_train input:\n",
      "\n",
      "        Kilometers_Driven   Owner_Type      Mileage       Engine        Power        Seats          Age\n",
      "count        3695.000000  3695.000000  3695.000000  3695.000000  3695.000000  3695.000000  3695.000000\n",
      "mean           10.758369     1.197564    18.271535     7.331348   113.449835     5.281028    11.634371\n",
      "std             0.713227     0.451724     4.077099     0.341448    53.617161     0.805363     3.215885\n",
      "min             6.908755     1.000000     7.940000     4.290459    34.200000     2.000000     6.000000\n",
      "25%            10.434145     1.000000    15.400000     7.089243    78.000000     5.000000     9.000000\n",
      "50%            10.878066     1.000000    18.160000     7.309212    98.600000     5.000000    11.000000\n",
      "75%            11.198228     1.000000    21.010000     7.593374   138.080000     5.000000    14.000000\n",
      "max            13.560620     4.000000    28.400000     8.605570   550.000000    10.000000    27.000000\n",
      "\n",
      "Detailed analysis of X_train input:\n",
      "\n",
      "              Price\n",
      "count  3695.000000\n",
      "mean      9.430877\n",
      "std      10.868287\n",
      "min       0.440000\n",
      "25%       3.500000\n",
      "50%       5.700000\n",
      "75%       9.800000\n",
      "max      97.070000\n"
     ]
    }
   ],
   "source": [
    "print(\"\\nDetailed analysis of X_train input:\\n\\n\", X_train.describe().to_string())\n",
    "print(\"\\nDetailed analysis of X_train input:\\n\\n\", Y_train.describe().to_string())"
   ]
  },
  {
   "cell_type": "code",
   "execution_count": 348,
   "id": "1c3e1bdc-9049-4946-9b0e-a2628a30c3c4",
   "metadata": {},
   "outputs": [],
   "source": [
    "power_mask= (X_train['Power'] >= 53.5) & (X_train['Power'] <=400)\n",
    "X_train = X_train[power_mask].reset_index(drop=True)\n",
    "Y_train = Y_train[power_mask].reset_index(drop=True)"
   ]
  },
  {
   "cell_type": "code",
   "execution_count": 349,
   "id": "9e27f919-76b0-4d69-a2ff-27bf71831931",
   "metadata": {},
   "outputs": [
    {
     "name": "stdout",
     "output_type": "stream",
     "text": [
      "      Kilometers_Driven  Owner_Type  Mileage    Engine  Power  Seats  Age  \\\n",
      "964           11.259980           1     17.2  7.242082  53.50    5.0   17   \n",
      "3             12.206078           2     17.2  7.242082  53.50    5.0   18   \n",
      "3139          10.819798           1     17.2  7.242082  53.50    5.0   17   \n",
      "3437          10.340258           1     22.7  6.684612  53.64    5.0    7   \n",
      "3307          10.222305           1     22.7  6.684612  53.64    5.0    8   \n",
      "157            9.615872           1     22.7  6.684612  53.64    5.0    9   \n",
      "1942           9.927595           1     22.7  6.684612  53.64    5.0    9   \n",
      "256           10.235916           1     22.0  6.703188  55.00    5.0    9   \n",
      "2779          10.915107           1     22.0  6.703188  55.00    5.0   10   \n",
      "1916          10.757924           1     22.0  6.703188  55.00    5.0   11   \n",
      "2701           9.852247           1     21.1  6.703188  55.20    5.0   10   \n",
      "759           11.156265           1     21.1  6.703188  55.20    5.0   12   \n",
      "2609          11.345701           2     21.1  6.703188  55.20    5.0   12   \n",
      "2467          11.076357           1     21.1  6.703188  55.20    5.0    9   \n",
      "2635           9.998843           1     21.1  6.703188  55.20    5.0   12   \n",
      "2675          11.002117           1     21.1  6.703188  55.20    5.0    8   \n",
      "805           11.083081           1     21.1  6.703188  55.20    5.0   12   \n",
      "698           10.435996           1     21.1  6.703188  55.20    5.0   10   \n",
      "1715          11.010415           1     21.1  6.703188  55.20    5.0   13   \n",
      "2756          10.909272           1     21.1  6.703188  55.20    5.0   10   \n",
      "\n",
      "      Fuel_Type_Electric  Fuel_Type_Petrol  Transmission_Manual  ...  \\\n",
      "964                False             False                 True  ...   \n",
      "3                  False             False                 True  ...   \n",
      "3139               False             False                 True  ...   \n",
      "3437               False              True                 True  ...   \n",
      "3307               False              True                 True  ...   \n",
      "157                False              True                 True  ...   \n",
      "1942               False              True                 True  ...   \n",
      "256                False              True                 True  ...   \n",
      "2779               False              True                 True  ...   \n",
      "1916               False              True                 True  ...   \n",
      "2701               False              True                 True  ...   \n",
      "759                False              True                 True  ...   \n",
      "2609               False              True                 True  ...   \n",
      "2467               False              True                 True  ...   \n",
      "2635               False              True                 True  ...   \n",
      "2675               False              True                 True  ...   \n",
      "805                False              True                 True  ...   \n",
      "698                False              True                 True  ...   \n",
      "1715               False              True                 True  ...   \n",
      "2756               False              True                 True  ...   \n",
      "\n",
      "      Company_mini  Company_mitsubishi  Company_nissan  Company_porsche  \\\n",
      "964          False               False           False            False   \n",
      "3            False               False           False            False   \n",
      "3139         False               False           False            False   \n",
      "3437         False               False           False            False   \n",
      "3307         False               False           False            False   \n",
      "157          False               False           False            False   \n",
      "1942         False               False           False            False   \n",
      "256          False               False           False            False   \n",
      "2779         False               False           False            False   \n",
      "1916         False               False           False            False   \n",
      "2701         False               False           False            False   \n",
      "759          False               False           False            False   \n",
      "2609         False               False           False            False   \n",
      "2467         False               False           False            False   \n",
      "2635         False               False           False            False   \n",
      "2675         False               False           False            False   \n",
      "805          False               False           False            False   \n",
      "698          False               False           False            False   \n",
      "1715         False               False           False            False   \n",
      "2756         False               False           False            False   \n",
      "\n",
      "      Company_renault  Company_skoda  Company_tata  Company_toyota  \\\n",
      "964             False          False          True           False   \n",
      "3               False          False          True           False   \n",
      "3139            False          False          True           False   \n",
      "3437            False          False         False           False   \n",
      "3307            False          False         False           False   \n",
      "157             False          False         False           False   \n",
      "1942            False          False         False           False   \n",
      "256             False          False         False           False   \n",
      "2779            False          False         False           False   \n",
      "1916            False          False         False           False   \n",
      "2701            False          False         False           False   \n",
      "759             False          False         False           False   \n",
      "2609            False          False         False           False   \n",
      "2467            False          False         False           False   \n",
      "2635            False          False         False           False   \n",
      "2675            False          False         False           False   \n",
      "805             False          False         False           False   \n",
      "698             False          False         False           False   \n",
      "1715            False          False         False           False   \n",
      "2756            False          False         False           False   \n",
      "\n",
      "      Company_volkswagen  Company_volvo  \n",
      "964                False          False  \n",
      "3                  False          False  \n",
      "3139               False          False  \n",
      "3437               False          False  \n",
      "3307               False          False  \n",
      "157                False          False  \n",
      "1942               False          False  \n",
      "256                False          False  \n",
      "2779               False          False  \n",
      "1916               False          False  \n",
      "2701               False          False  \n",
      "759                False          False  \n",
      "2609               False          False  \n",
      "2467               False          False  \n",
      "2635               False          False  \n",
      "2675               False          False  \n",
      "805                False          False  \n",
      "698                False          False  \n",
      "1715               False          False  \n",
      "2756               False          False  \n",
      "\n",
      "[20 rows x 44 columns]\n"
     ]
    }
   ],
   "source": [
    "print(X_train.sort_values(by='Power', ascending=True).head(20))"
   ]
  },
  {
   "cell_type": "code",
   "execution_count": 350,
   "id": "1e0e6164-1ea3-415c-b7a2-54d7f2001644",
   "metadata": {},
   "outputs": [
    {
     "data": {
      "text/plain": [
       "<Axes: >"
      ]
     },
     "execution_count": 350,
     "metadata": {},
     "output_type": "execute_result"
    },
    {
     "data": {
      "image/png": "[encoded data removed]",
      "text/plain": [
       "<Figure size 640x480 with 2 Axes>"
      ]
     },
     "metadata": {},
     "output_type": "display_data"
    }
   ],
   "source": [
    "corr = X[['Age','Kilometers_Driven','Owner_Type','Mileage','Engine','Power','Price','Seats']].corr() \n",
    "sns.heatmap(corr,annot=True,cmap='coolwarm')"
   ]
  },
  {
   "cell_type": "markdown",
   "id": "d1d81b3f-07d4-4dc0-a024-84047fface97",
   "metadata": {},
   "source": [
    "<h1>Training</h1>"
   ]
  },
  {
   "cell_type": "code",
   "execution_count": 351,
   "id": "666ca7e0-c95f-448d-ab04-202aa10a067a",
   "metadata": {},
   "outputs": [],
   "source": [
    "Xmean = X_train.loc[:, X_train.apply(lambda col: col.nunique() > 2)].mean()\n",
    "Xstd = X_train.loc[:, X_train.apply(lambda col: col.nunique() > 2)].std()\n",
    "Ystd=Y_train.std().item()\n",
    "Ymean=Y_train.mean().item()\n",
    "X_train = normx(X_train)\n",
    "Y_train = normy(Y_train)"
   ]
  },
  {
   "cell_type": "code",
   "execution_count": 352,
   "id": "87a2dcd2-156c-4179-a030-bce69ec13b9d",
   "metadata": {},
   "outputs": [
    {
     "name": "stdout",
     "output_type": "stream",
     "text": [
      "Kilometers_Driven        0\n",
      "Owner_Type               0\n",
      "Mileage                  0\n",
      "Engine                   0\n",
      "Power                    0\n",
      "Seats                    0\n",
      "Age                      0\n",
      "Fuel_Type_Electric       0\n",
      "Fuel_Type_Petrol         0\n",
      "Transmission_Manual      0\n",
      "Location_Bangalore       0\n",
      "Location_Chennai         0\n",
      "Location_Coimbatore      0\n",
      "Location_Delhi           0\n",
      "Location_Hyderabad       0\n",
      "Location_Jaipur          0\n",
      "Location_Kochi           0\n",
      "Location_Kolkata         0\n",
      "Location_Mumbai          0\n",
      "Location_Pune            0\n",
      "Company_bmw              0\n",
      "Company_chevrolet        0\n",
      "Company_datsun           0\n",
      "Company_fiat             0\n",
      "Company_ford             0\n",
      "Company_honda            0\n",
      "Company_hyundai          0\n",
      "Company_isuzu            0\n",
      "Company_jaguar           0\n",
      "Company_jeep             0\n",
      "Company_land             0\n",
      "Company_mahindra         0\n",
      "Company_maruti           0\n",
      "Company_mercedes-benz    0\n",
      "Company_mini             0\n",
      "Company_mitsubishi       0\n",
      "Company_nissan           0\n",
      "Company_porsche          0\n",
      "Company_renault          0\n",
      "Company_skoda            0\n",
      "Company_tata             0\n",
      "Company_toyota           0\n",
      "Company_volkswagen       0\n",
      "Company_volvo            0\n",
      "dtype: int64\n"
     ]
    }
   ],
   "source": [
    "print(X_train.isna().sum())\n"
   ]
  },
  {
   "cell_type": "code",
   "execution_count": 353,
   "id": "b7f2b9b8-ff85-4415-a259-72b0956d9934",
   "metadata": {},
   "outputs": [],
   "source": [
    "X_train = X_train.to_numpy()\n",
    "Y_train = Y_train.to_numpy()"
   ]
  },
  {
   "cell_type": "code",
   "execution_count": 354,
   "id": "7b908b35-c12e-4fbe-8592-1d650e22300f",
   "metadata": {},
   "outputs": [],
   "source": [
    "W_train = np.ones((X_train.shape[1], 1))\n",
    "B_train= 0.0"
   ]
  },
  {
   "cell_type": "code",
   "execution_count": 355,
   "id": "5cd3a606-c8b4-47bc-a7eb-379483ebb2b7",
   "metadata": {},
   "outputs": [],
   "source": [
    "def compute_cost(Y,Yp, W, lambd=1):\n",
    "    cost = (Y-Yp)**2/(2*Y.size)\n",
    "    reg = (lambd / (2 * Y.size)) * np.sum(W**2)\n",
    "    return cost.sum()+reg\n",
    "\n",
    "def z_calc(X,W,B):\n",
    "    return np.matmul(X,W)+B"
   ]
  },
  {
   "cell_type": "code",
   "execution_count": 356,
   "id": "156b1ffc-d103-41e5-a22b-e2dde69f6e81",
   "metadata": {},
   "outputs": [
    {
     "data": {
      "text/plain": [
       "array([[0.49422077125146435],\n",
       "       [2.179948655929593],\n",
       "       [1.617075889686979],\n",
       "       ...,\n",
       "       [2.2039820429605306],\n",
       "       [2.41972427869808],\n",
       "       [1.1787191236468924]], dtype=object)"
      ]
     },
     "execution_count": 356,
     "metadata": {},
     "output_type": "execute_result"
    }
   ],
   "source": [
    "Z_train=z_calc(X_train,W_train,B_train)\n",
    "Z_train"
   ]
  },
  {
   "cell_type": "code",
   "execution_count": 357,
   "id": "23bf20d2-24eb-4a05-8dd1-955e40bca852",
   "metadata": {},
   "outputs": [
    {
     "name": "stdout",
     "output_type": "stream",
     "text": [
      "(3557, 44)\n",
      "(3557, 1)\n",
      "(3557, 1)\n"
     ]
    }
   ],
   "source": [
    "print(X_train.shape)\n",
    "print(Y_train.shape)\n",
    "print(Z_train.shape)"
   ]
  },
  {
   "cell_type": "code",
   "execution_count": 358,
   "id": "24f08843-9062-4b3c-8171-791e20a0a40b",
   "metadata": {},
   "outputs": [],
   "source": [
    "W_history=[]\n",
    "B_history=[]\n",
    "Z_history=[]\n",
    "J_history=[]\n",
    "W_history.append(W_train)\n",
    "B_history.append(B_train)\n",
    "Z_history.append(Z_train)\n",
    "J_history.append(compute_cost(Y_train,Z_train,W_train))"
   ]
  },
  {
   "cell_type": "code",
   "execution_count": 359,
   "id": "a983b93b-57a5-426e-b9c5-359c5a30c855",
   "metadata": {},
   "outputs": [],
   "source": [
    "def gradescent(epoch, alpha, W_history, J_history, B_history, Z_history, X_train, Y_train, Z_train, lambd=1):\n",
    "    for i in range(epoch):\n",
    "        W_history.append(W_history[-1]-alpha/X_train.shape[0]*((X_train.T @ (Z_train - Y_train)) + lambd * W_history[-1]))\n",
    "        B_history.append(B_history[-1]-alpha/X_train.shape[0]*np.sum((Z_train-Y_train)))\n",
    "        Z_train = z_calc(X_train, W_history[-1], B_history[-1])\n",
    "        Z_history.append(Z_train)\n",
    "        J_history.append(compute_cost(Y_train,Z_train,W_history[-1]))\n",
    "        if (i%10)==0:\n",
    "            print(\"Iteration:\",i, \"Cost:\", J_history[-1])"
   ]
  },
  {
   "cell_type": "code",
   "execution_count": 360,
   "id": "064e501a-949b-4247-aef5-9d37f6b54ffe",
   "metadata": {},
   "outputs": [
    {
     "name": "stdout",
     "output_type": "stream",
     "text": [
      "Iteration: 0 Cost: 0.940301422121637\n",
      "Iteration: 10 Cost: 0.20924236894601891\n",
      "Iteration: 20 Cost: 0.18044407050994937\n",
      "Iteration: 30 Cost: 0.1683481155161525\n",
      "Iteration: 40 Cost: 0.1614643312782964\n",
      "Iteration: 50 Cost: 0.15695223945504613\n",
      "Iteration: 60 Cost: 0.15370445524119017\n",
      "Iteration: 70 Cost: 0.15121004949191288\n",
      "Iteration: 80 Cost: 0.14920259919379378\n",
      "Iteration: 90 Cost: 0.14752800992918996\n",
      "Iteration: 100 Cost: 0.1460898721115949\n",
      "Iteration: 110 Cost: 0.1448245615761515\n",
      "Iteration: 120 Cost: 0.14368862093577273\n",
      "Iteration: 130 Cost: 0.1426516908660783\n",
      "Iteration: 140 Cost: 0.1416922205424292\n",
      "Iteration: 150 Cost: 0.1407947143285065\n",
      "Iteration: 160 Cost: 0.13994789906523575\n",
      "Iteration: 170 Cost: 0.13914347587834217\n",
      "Iteration: 180 Cost: 0.1383752575480532\n",
      "Iteration: 190 Cost: 0.1376385664617\n",
      "Iteration: 200 Cost: 0.13692981144467753\n",
      "Iteration: 210 Cost: 0.13624618865869012\n",
      "Iteration: 220 Cost: 0.13558546917775222\n",
      "Iteration: 230 Cost: 0.13494584745082872\n",
      "Iteration: 240 Cost: 0.13432583272163415\n",
      "Iteration: 250 Cost: 0.13372417086957214\n",
      "Iteration: 260 Cost: 0.13313978786749997\n",
      "Iteration: 270 Cost: 0.13257174865010146\n",
      "Iteration: 280 Cost: 0.1320192270041562\n",
      "Iteration: 290 Cost: 0.1314814833684672\n",
      "Iteration: 300 Cost: 0.13095784833048596\n",
      "Iteration: 310 Cost: 0.13044771024211543\n",
      "Iteration: 320 Cost: 0.1299505058271957\n",
      "Iteration: 330 Cost: 0.12946571297272005\n",
      "Iteration: 340 Cost: 0.1289928451231459\n",
      "Iteration: 350 Cost: 0.1285314468592672\n",
      "Iteration: 360 Cost: 0.1280810903589359\n",
      "Iteration: 370 Cost: 0.1276413725198713\n",
      "Iteration: 380 Cost: 0.1272119125843337\n",
      "Iteration: 390 Cost: 0.1267923501482904\n",
      "Iteration: 400 Cost: 0.12638234346861657\n",
      "Iteration: 410 Cost: 0.1259815680042513\n",
      "Iteration: 420 Cost: 0.12558971514348338\n",
      "Iteration: 430 Cost: 0.1252064910813841\n",
      "Iteration: 440 Cost: 0.12483161582007642\n",
      "Iteration: 450 Cost: 0.12446482227091404\n",
      "Iteration: 460 Cost: 0.12410585544234785\n",
      "Iteration: 470 Cost: 0.12375447170078292\n",
      "Iteration: 480 Cost: 0.12341043809434993\n",
      "Iteration: 490 Cost: 0.12307353173148818\n",
      "Iteration: 500 Cost: 0.1227435392077753\n",
      "Iteration: 510 Cost: 0.12242025607556506\n",
      "Iteration: 520 Cost: 0.1221034863519174\n",
      "Iteration: 530 Cost: 0.12179304206100501\n",
      "Iteration: 540 Cost: 0.121488742807724\n",
      "Iteration: 550 Cost: 0.12119041537970549\n",
      "Iteration: 560 Cost: 0.12089789337527145\n",
      "Iteration: 570 Cost: 0.12061101685518635\n",
      "Iteration: 580 Cost: 0.12032963201629301\n",
      "Iteration: 590 Cost: 0.12005359088532633\n",
      "Iteration: 600 Cost: 0.11978275103140278\n",
      "Iteration: 610 Cost: 0.11951697529577979\n",
      "Iteration: 620 Cost: 0.11925613153766408\n",
      "Iteration: 630 Cost: 0.11900009239492496\n",
      "Iteration: 640 Cost: 0.11874873505867906\n",
      "Iteration: 650 Cost: 0.11850194106080551\n",
      "Iteration: 660 Cost: 0.11825959607352172\n",
      "Iteration: 670 Cost: 0.11802158972021493\n",
      "Iteration: 680 Cost: 0.11778781539679994\n",
      "Iteration: 690 Cost: 0.11755817010292509\n",
      "Iteration: 700 Cost: 0.117332554282386\n",
      "Iteration: 710 Cost: 0.11711087167217922\n",
      "Iteration: 720 Cost: 0.11689302915964096\n",
      "Iteration: 730 Cost: 0.11667893664718287\n",
      "Iteration: 740 Cost: 0.11646850692414877\n",
      "Iteration: 750 Cost: 0.11626165554536015\n",
      "Iteration: 760 Cost: 0.11605830071594926\n",
      "Iteration: 770 Cost: 0.11585836318210059\n",
      "Iteration: 780 Cost: 0.11566176612735313\n",
      "Iteration: 790 Cost: 0.11546843507412666\n",
      "Iteration: 800 Cost: 0.11527829779017827\n",
      "Iteration: 810 Cost: 0.11509128419969063\n",
      "Iteration: 820 Cost: 0.11490732629873586\n",
      "Iteration: 830 Cost: 0.1147263580748528\n",
      "Iteration: 840 Cost: 0.11454831543051595\n",
      "Iteration: 850 Cost: 0.11437313611026498\n",
      "Iteration: 860 Cost: 0.1142007596312965\n",
      "Iteration: 870 Cost: 0.1140311272173257\n",
      "Iteration: 880 Cost: 0.11386418173552683\n",
      "Iteration: 890 Cost: 0.11369986763640137\n",
      "Iteration: 900 Cost: 0.11353813089639501\n",
      "Iteration: 910 Cost: 0.11337891896313046\n",
      "Iteration: 920 Cost: 0.11322218070309939\n",
      "Iteration: 930 Cost: 0.11306786635170189\n",
      "Iteration: 940 Cost: 0.11291592746548931\n",
      "Iteration: 950 Cost: 0.11276631687650564\n",
      "Iteration: 960 Cost: 0.11261898864861723\n",
      "Iteration: 970 Cost: 0.11247389803572369\n",
      "Iteration: 980 Cost: 0.11233100144175127\n",
      "Iteration: 990 Cost: 0.11219025638234753\n"
     ]
    }
   ],
   "source": [
    "epoch=1000\n",
    "alpha=.4\n",
    "gradescent(epoch, alpha, W_history, J_history, B_history, Z_history, X_train, Y_train, Z_train)"
   ]
  },
  {
   "cell_type": "code",
   "execution_count": 361,
   "id": "05c37d78-9f3b-4fec-8f45-6f175c11a098",
   "metadata": {},
   "outputs": [
    {
     "data": {
      "image/png": "[encoded data removed]",
      "text/plain": [
       "<Figure size 640x480 with 1 Axes>"
      ]
     },
     "metadata": {},
     "output_type": "display_data"
    }
   ],
   "source": [
    "plt.plot(J_history)\n",
    "plt.xlabel('Iteration')\n",
    "plt.ylabel('Cost')\n",
    "plt.title('Cost Function Convergence')\n",
    "plt.grid(True)\n",
    "plt.show()"
   ]
  },
  {
   "cell_type": "code",
   "execution_count": 362,
   "id": "77cb5b3b-f191-43fe-8f5f-a38643ad6d96",
   "metadata": {},
   "outputs": [],
   "source": [
    "Y_train=Y_train*Ystd+Ymean\n",
    "Z_train=Z_history[-1]\n",
    "Z_train=Z_train*Ystd+Ymean"
   ]
  },
  {
   "cell_type": "code",
   "execution_count": 363,
   "id": "80a1dfef-13c2-4a30-bd38-0f021db05bde",
   "metadata": {},
   "outputs": [
    {
     "data": {
      "text/plain": [
       "-14.031202584490392"
      ]
     },
     "execution_count": 363,
     "metadata": {},
     "output_type": "execute_result"
    }
   ],
   "source": [
    "Z_train.min()"
   ]
  },
  {
   "cell_type": "code",
   "execution_count": 364,
   "id": "543874e1-6288-4a22-8fab-34479edfd801",
   "metadata": {},
   "outputs": [
    {
     "data": {
      "image/png": "[encoded data removed]",
      "text/plain": [
       "<Figure size 640x480 with 1 Axes>"
      ]
     },
     "metadata": {},
     "output_type": "display_data"
    }
   ],
   "source": [
    "plt.scatter(Y_train, Z_train, alpha=0.5)\n",
    "plt.plot([Y_train.min(), Y_train.max()], [Y_train.min(), Y_train.max()], 'r--')  # Diagonal\n",
    "plt.xlabel(\"Actual Y\")\n",
    "plt.ylabel(\"Predicted Y\")\n",
    "plt.title(\"Actual vs Predicted\")\n",
    "plt.grid(True)\n",
    "plt.show()"
   ]
  },
  {
   "cell_type": "code",
   "execution_count": 365,
   "id": "8602da6d-bf99-4303-aa14-7444cd0f9d08",
   "metadata": {},
   "outputs": [
    {
     "name": "stdout",
     "output_type": "stream",
     "text": [
      "R² score: 0.7795451022999059\n"
     ]
    }
   ],
   "source": [
    "ss_res = ((Y_train - Z_train) ** 2).sum()         # Residual sum of squares\n",
    "ss_tot = ((Y_train - Y_train.mean()) ** 2).sum()  # Total sum of squares\n",
    "\n",
    "r2 = 1 - ss_res/ss_tot\n",
    "\n",
    "print(\"R² score:\", r2)"
   ]
  },
  {
   "cell_type": "code",
   "execution_count": 366,
   "id": "de43bfa9-4f94-4e83-8986-b7c9f0411e2c",
   "metadata": {},
   "outputs": [],
   "source": [
    "W=W_history[-1]\n",
    "B=B_history[-1]"
   ]
  },
  {
   "cell_type": "code",
   "execution_count": 367,
   "id": "1b065a24-0ae5-46ef-9823-10ba049e9e97",
   "metadata": {},
   "outputs": [
    {
     "data": {
      "text/plain": [
       "(44, 1)"
      ]
     },
     "execution_count": 367,
     "metadata": {},
     "output_type": "execute_result"
    }
   ],
   "source": [
    "W.shape"
   ]
  },
  {
   "cell_type": "markdown",
   "id": "507b285e-bcc3-4f20-b5ac-2dcb4ea8b2a8",
   "metadata": {},
   "source": [
    "<h1>Testing Begins Here</h1>"
   ]
  },
  {
   "cell_type": "code",
   "execution_count": 368,
   "id": "2a1af9bb-de38-42ed-bfc1-9b0935220710",
   "metadata": {},
   "outputs": [],
   "source": [
    "X_test=pd.read_csv('Test.csv', usecols=['Name','Location','Year','Kilometers_Driven','Fuel_Type','Transmission','Owner_Type','Mileage','Engine','Power','Seats'])\n",
    "Y_test=pd.read_csv('Test.csv', usecols=['Price'])"
   ]
  },
  {
   "cell_type": "code",
   "execution_count": 369,
   "id": "9500c827-f7a3-440d-b64e-96f3462dc63c",
   "metadata": {},
   "outputs": [
    {
     "data": {
      "text/plain": [
       "array(['Maruti', 'Hyundai', 'Volvo', 'Audi', 'Ford', 'Porsche',\n",
       "       'Mercedes-Benz', 'Honda', 'BMW', 'Toyota', 'Skoda', 'Mahindra',\n",
       "       'Chevrolet', 'Renault', 'Volkswagen', 'Nissan', 'Jaguar', 'Tata',\n",
       "       'Land', 'Mitsubishi', 'Mini', 'Fiat', 'Datsun', 'Jeep', 'ISUZU'],\n",
       "      dtype=object)"
      ]
     },
     "execution_count": 369,
     "metadata": {},
     "output_type": "execute_result"
    }
   ],
   "source": [
    "X_test['Name'].str.split().str[0].unique()"
   ]
  },
  {
   "cell_type": "code",
   "execution_count": 370,
   "id": "fc1ba555-9c5f-4d78-9cd9-cbf84763a47b",
   "metadata": {},
   "outputs": [],
   "source": [
    "X_test['Company'] = X_test['Name'].str.split().str[0].str.lower()"
   ]
  },
  {
   "cell_type": "code",
   "execution_count": 371,
   "id": "677c2ee7-a9b5-472b-b9af-2a4d79f90bc8",
   "metadata": {},
   "outputs": [
    {
     "data": {
      "text/plain": [
       "array(['Hyderabad', 'Delhi', 'Kochi', 'Pune', 'Kolkata', 'Mumbai',\n",
       "       'Chennai', 'Coimbatore', 'Jaipur', 'Bangalore', 'Ahmedabad'],\n",
       "      dtype=object)"
      ]
     },
     "execution_count": 371,
     "metadata": {},
     "output_type": "execute_result"
    }
   ],
   "source": [
    "X_test['Location'].unique()"
   ]
  },
  {
   "cell_type": "code",
   "execution_count": 372,
   "id": "d0ac65b1-5042-4852-8efc-3f24abfea641",
   "metadata": {},
   "outputs": [],
   "source": [
    "X_test=preprocessing(X_test)\n",
    "X_test = normx(X_test)"
   ]
  },
  {
   "cell_type": "code",
   "execution_count": 373,
   "id": "dafe90f8-0fd1-41ab-8685-2f592633c53b",
   "metadata": {},
   "outputs": [
    {
     "data": {
      "text/html": [
       "<div>\n",
       "<style scoped>\n",
       "    .dataframe tbody tr th:only-of-type {\n",
       "        vertical-align: middle;\n",
       "    }\n",
       "\n",
       "    .dataframe tbody tr th {\n",
       "        vertical-align: top;\n",
       "    }\n",
       "\n",
       "    .dataframe thead th {\n",
       "        text-align: right;\n",
       "    }\n",
       "</style>\n",
       "<table border=\"1\" class=\"dataframe\">\n",
       "  <thead>\n",
       "    <tr style=\"text-align: right;\">\n",
       "      <th></th>\n",
       "      <th>Kilometers_Driven</th>\n",
       "      <th>Owner_Type</th>\n",
       "      <th>Mileage</th>\n",
       "      <th>Engine</th>\n",
       "      <th>Power</th>\n",
       "      <th>Seats</th>\n",
       "      <th>Age</th>\n",
       "      <th>Fuel_Type_Electric</th>\n",
       "      <th>Fuel_Type_Petrol</th>\n",
       "      <th>Transmission_Manual</th>\n",
       "      <th>...</th>\n",
       "      <th>Company_mini</th>\n",
       "      <th>Company_mitsubishi</th>\n",
       "      <th>Company_nissan</th>\n",
       "      <th>Company_porsche</th>\n",
       "      <th>Company_renault</th>\n",
       "      <th>Company_skoda</th>\n",
       "      <th>Company_tata</th>\n",
       "      <th>Company_toyota</th>\n",
       "      <th>Company_volkswagen</th>\n",
       "      <th>Company_volvo</th>\n",
       "    </tr>\n",
       "  </thead>\n",
       "  <tbody>\n",
       "    <tr>\n",
       "      <th>281</th>\n",
       "      <td>-0.09335</td>\n",
       "      <td>-0.439169</td>\n",
       "      <td>0.0</td>\n",
       "      <td>0.445211</td>\n",
       "      <td>-0.829004</td>\n",
       "      <td>-0.363223</td>\n",
       "      <td>0.753903</td>\n",
       "      <td>True</td>\n",
       "      <td>False</td>\n",
       "      <td>False</td>\n",
       "      <td>...</td>\n",
       "      <td>False</td>\n",
       "      <td>False</td>\n",
       "      <td>False</td>\n",
       "      <td>False</td>\n",
       "      <td>False</td>\n",
       "      <td>False</td>\n",
       "      <td>False</td>\n",
       "      <td>True</td>\n",
       "      <td>False</td>\n",
       "      <td>False</td>\n",
       "    </tr>\n",
       "  </tbody>\n",
       "</table>\n",
       "<p>1 rows × 44 columns</p>\n",
       "</div>"
      ],
      "text/plain": [
       "     Kilometers_Driven  Owner_Type  Mileage    Engine     Power     Seats  \\\n",
       "281           -0.09335   -0.439169      0.0  0.445211 -0.829004 -0.363223   \n",
       "\n",
       "          Age  Fuel_Type_Electric  Fuel_Type_Petrol  Transmission_Manual  ...  \\\n",
       "281  0.753903                True             False                False  ...   \n",
       "\n",
       "     Company_mini  Company_mitsubishi  Company_nissan  Company_porsche  \\\n",
       "281         False               False           False            False   \n",
       "\n",
       "     Company_renault  Company_skoda  Company_tata  Company_toyota  \\\n",
       "281            False          False         False            True   \n",
       "\n",
       "     Company_volkswagen  Company_volvo  \n",
       "281               False          False  \n",
       "\n",
       "[1 rows x 44 columns]"
      ]
     },
     "execution_count": 373,
     "metadata": {},
     "output_type": "execute_result"
    }
   ],
   "source": [
    "X_test[X_test['Fuel_Type_Electric']==True]"
   ]
  },
  {
   "cell_type": "code",
   "execution_count": 374,
   "id": "c83464d7-f6a3-48b9-85d1-c9e5b398610c",
   "metadata": {},
   "outputs": [],
   "source": [
    "#X_test = X_test.drop(columns=['Fuel_Type_Electric'])"
   ]
  },
  {
   "cell_type": "code",
   "execution_count": 375,
   "id": "be4e2121-9b54-4eba-83b4-21e602b55c2a",
   "metadata": {},
   "outputs": [],
   "source": [
    "X_test=X_test.to_numpy()\n",
    "Y_test=Y_test.to_numpy()"
   ]
  },
  {
   "cell_type": "code",
   "execution_count": 376,
   "id": "4a73fa5a-7184-46f3-a01f-6f7309d14892",
   "metadata": {},
   "outputs": [],
   "source": [
    "Y_hat=X_test@W+B\n",
    "Y_hat = Y_hat*Ystd+Ymean"
   ]
  },
  {
   "cell_type": "code",
   "execution_count": 377,
   "id": "eb546c03-9437-43b7-a509-dd318e8f85b7",
   "metadata": {},
   "outputs": [
    {
     "data": {
      "image/png": "[encoded data removed]",
      "text/plain": [
       "<Figure size 640x480 with 1 Axes>"
      ]
     },
     "metadata": {},
     "output_type": "display_data"
    }
   ],
   "source": [
    "plt.scatter(Y_test, Y_hat, alpha=0.5)\n",
    "plt.plot([Y_test.min(), Y_test.max()], [Y_test.min(), Y_test.max()], 'r--')  # Diagonal\n",
    "plt.xlabel(\"Actual Y\")\n",
    "plt.ylabel(\"Predicted Y\")\n",
    "plt.title(\"Actual vs Predicted\")\n",
    "plt.grid(True)\n",
    "plt.show()"
   ]
  },
  {
   "cell_type": "code",
   "execution_count": 378,
   "id": "7a156801-298f-4812-a731-bec727837368",
   "metadata": {},
   "outputs": [
    {
     "name": "stdout",
     "output_type": "stream",
     "text": [
      "R² score: 0.7307724309494045\n"
     ]
    }
   ],
   "source": [
    "ss_res = ((Y_test - Y_hat) ** 2).sum()         # Residual sum of squares\n",
    "ss_tot = ((Y_test - Y_hat.mean()) ** 2).sum()  # Total sum of squares\n",
    "\n",
    "r2 = 1 - ss_res/ss_tot\n",
    "\n",
    "print(\"R² score:\", r2)"
   ]
  },
  {
   "cell_type": "code",
   "execution_count": 379,
   "id": "7b60abf6-02ee-4465-a468-8719b9e792b2",
   "metadata": {},
   "outputs": [],
   "source": [
    "#R2 score 1 (No outlier removal): 0.5359170687614954\n",
    "#R2 score 2 (After just adding mileage mask): 0.5467357536866696  \n",
    "#R2 score 3 (Just engine mask and dropped Fuel_Type_Electric column and no mileage mask): 0.4311169862331051\n",
    "#R2 score 4 (Mileage mask + Dropped column + Engine mask): 0.44219458559524594\n",
    "#R2 score 5 (Mileage mask + Dropped column): 0.4297231575559941\n",
    "#R2 score 6 (Mileage mask + Engine mask without removing the 72cc datapoint so that I don't have to drop the column): 0.5549321408556139\n",
    "#R2 score 7 (Same as 6 but tweaking the engine mask to get best R2): 0.5554031301729788\n",
    "#R2 score 8 (Added a power mask too): 0.5692372975661953\n",
    "#R2 score 9 (Changed normx function): 0.6753593592824518\n",
    "#R2 score 10 (Finally removed the 72cc anomoly): 0.6753775884824147\n",
    "#R2 score 11 (Tweaked the power mask to increase r2 score): 0.6771829993019707\n",
    "#R2 score 12 (Attempted log transformation): 0.6347122829626015\n",
    "#R2 score 13 (Log transform on just kilometers_driven and Engine.): 0.693063452936226\n",
    "#R2 score 14 (Added regularisation): 0.6931975254767033\n",
    "#R2 score 15 (Added getdummies for location): 0.6975027364847113\n",
    "#R2 score 16 (Added getdummies for companies): 0.7307724309494045"
   ]
  },
  {
   "cell_type": "code",
   "execution_count": null,
   "id": "6825fa48-026b-444b-a895-afbb3efba55a",
   "metadata": {},
   "outputs": [],
   "source": []
  },
  {
   "cell_type": "code",
   "execution_count": 380,
   "id": "3f32660e-17b3-4d72-98fb-15c23ce5d544",
   "metadata": {},
   "outputs": [
    {
     "data": {
      "text/plain": [
       "'To try:\\n2-try optimising regularisation lambda value\\n3- try polynomial features'"
      ]
     },
     "execution_count": 380,
     "metadata": {},
     "output_type": "execute_result"
    }
   ],
   "source": [
    "\"\"\"To try:\n",
    "2-try optimising regularisation lambda value\n",
    "3- try polynomial features\"\"\""
   ]
  },
  {
   "cell_type": "code",
   "execution_count": null,
   "id": "7d6e5db0-375e-439e-b9ba-48913bab5b24",
   "metadata": {},
   "outputs": [],
   "source": []
  },
  {
   "cell_type": "code",
   "execution_count": null,
   "id": "5961d0dc-da0f-4c38-8752-62b7486ad346",
   "metadata": {},
   "outputs": [],
   "source": []
  },
  {
   "cell_type": "code",
   "execution_count": null,
   "id": "9712a2e8-2991-4953-816e-9d2306bea713",
   "metadata": {},
   "outputs": [],
   "source": []
  },
  {
   "cell_type": "code",
   "execution_count": null,
   "id": "be2948af-0f8e-46ce-94db-216ed1d12759",
   "metadata": {},
   "outputs": [],
   "source": []
  },
  {
   "cell_type": "code",
   "execution_count": null,
   "id": "f16c91df-22a2-4cfa-98f3-172ab0305530",
   "metadata": {},
   "outputs": [],
   "source": []
  },
  {
   "cell_type": "code",
   "execution_count": null,
   "id": "3b2dc1ba-aa5c-462b-a049-f7971a3fd364",
   "metadata": {},
   "outputs": [],
   "source": []
  },
  {
   "cell_type": "code",
   "execution_count": null,
   "id": "4e266ad8-5178-4ac0-aa1e-51c7f5314aec",
   "metadata": {},
   "outputs": [],
   "source": []
  }
 ],
 "metadata": {
  "kernelspec": {
   "display_name": "Python 3 (ipykernel)",
   "language": "python",
   "name": "python3"
  },
  "language_info": {
   "codemirror_mode": {
    "name": "ipython",
    "version": 3
   },
   "file_extension": ".py",
   "mimetype": "text/x-python",
   "name": "python",
   "nbconvert_exporter": "python",
   "pygments_lexer": "ipython3",
   "version": "3.12.5"
  }
 },
 "nbformat": 4,
 "nbformat_minor": 5
}

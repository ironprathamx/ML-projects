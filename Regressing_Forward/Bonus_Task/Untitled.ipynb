{
 "cells": [
  {
   "cell_type": "code",
   "execution_count": 1,
   "id": "1e86104b-e2c6-4563-b1cf-957779fb6ee1",
   "metadata": {},
   "outputs": [],
   "source": [
    "import pandas as pd\n",
    "import numpy as np\n",
    "import matplotlib.pyplot as plt\n",
    "import seaborn as sns"
   ]
  },
  {
   "cell_type": "code",
   "execution_count": 5,
   "id": "29ee5e77-cd73-4065-bb71-e35a6789bba7",
   "metadata": {},
   "outputs": [],
   "source": [
    "X_train=pd.read_csv('Seniors.csv', usecols=['Temperature (°C)','Pressure (kPa)','Temperature x Pressure','Material Fusion Metric','Material Transformation Metric'])\n",
    "Y_train=pd.read_csv('Seniors.csv', usecols=['Quality Rating'])"
   ]
  },
  {
   "cell_type": "code",
   "execution_count": 10,
   "id": "37cc5c79-cda2-4f9f-ad45-6d2eeb936fc7",
   "metadata": {},
   "outputs": [
    {
     "data": {
      "text/plain": [
       "<bound method NDFrame.head of       Temperature (°C)  Pressure (kPa)  Temperature x Pressure  \\\n",
       "0           209.762701        8.050855             1688.769167   \n",
       "1           243.037873       15.812068             3842.931469   \n",
       "2           220.552675        7.843130             1729.823314   \n",
       "3           208.976637       23.786089             4970.736918   \n",
       "4           184.730960       15.797812             2918.345014   \n",
       "...                ...             ...                     ...   \n",
       "2495        194.332813       22.269402             4327.675524   \n",
       "2496        240.467829       15.981486             3843.033197   \n",
       "2497        244.866196       24.901641             6097.570183   \n",
       "2498        138.314203       10.700640             1480.050534   \n",
       "2499        232.434847        6.374536             1481.664374   \n",
       "\n",
       "      Material Fusion Metric  Material Transformation Metric  \n",
       "0               44522.217074                    9.229576e+06  \n",
       "1               63020.764997                    1.435537e+07  \n",
       "2               49125.950249                    1.072839e+07  \n",
       "3               57128.881547                    9.125702e+06  \n",
       "4               38068.201283                    6.303792e+06  \n",
       "...                      ...                             ...  \n",
       "2495            48809.223549                    7.338530e+06  \n",
       "2496            61906.574136                    1.390474e+07  \n",
       "2497            75400.755993                    1.468142e+07  \n",
       "2498            20356.081611                    2.645949e+06  \n",
       "2499            54284.985490                    1.255747e+07  \n",
       "\n",
       "[2500 rows x 5 columns]>"
      ]
     },
     "execution_count": 10,
     "metadata": {},
     "output_type": "execute_result"
    }
   ],
   "source": [
    "X_train.head"
   ]
  },
  {
   "cell_type": "code",
   "execution_count": 11,
   "id": "3d093b92-a83a-4c48-b77b-3be00c4f1948",
   "metadata": {},
   "outputs": [
    {
     "data": {
      "text/plain": [
       "<bound method NDFrame.head of       Quality Rating\n",
       "0          99.999971\n",
       "1          99.985703\n",
       "2          99.999758\n",
       "3          99.999975\n",
       "4         100.000000\n",
       "...              ...\n",
       "2495       99.999999\n",
       "2496       99.990852\n",
       "2497       99.980421\n",
       "2498      100.000000\n",
       "2499       99.997804\n",
       "\n",
       "[2500 rows x 1 columns]>"
      ]
     },
     "execution_count": 11,
     "metadata": {},
     "output_type": "execute_result"
    }
   ],
   "source": [
    "Y_train.head"
   ]
  },
  {
   "cell_type": "code",
   "execution_count": null,
   "id": "c9517dfc-2945-44ee-adaf-ede9f570913c",
   "metadata": {},
   "outputs": [],
   "source": []
  }
 ],
 "metadata": {
  "kernelspec": {
   "display_name": "Python 3 (ipykernel)",
   "language": "python",
   "name": "python3"
  },
  "language_info": {
   "codemirror_mode": {
    "name": "ipython",
    "version": 3
   },
   "file_extension": ".py",
   "mimetype": "text/x-python",
   "name": "python",
   "nbconvert_exporter": "python",
   "pygments_lexer": "ipython3",
   "version": "3.12.5"
  }
 },
 "nbformat": 4,
 "nbformat_minor": 5
}
